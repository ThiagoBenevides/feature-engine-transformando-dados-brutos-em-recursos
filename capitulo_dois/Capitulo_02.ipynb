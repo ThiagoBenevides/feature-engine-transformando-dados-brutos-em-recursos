{
  "nbformat": 4,
  "nbformat_minor": 0,
  "metadata": {
    "colab": {
      "provenance": []
    },
    "kernelspec": {
      "name": "python3",
      "display_name": "Python 3"
    },
    "language_info": {
      "name": "python"
    }
  },
  "cells": [
    {
      "cell_type": "markdown",
      "source": [
        "# Trabalhando com valores numéricos"
      ],
      "metadata": {
        "id": "-zDG5-e8e0Xa"
      }
    },
    {
      "cell_type": "code",
      "source": [
        "\n",
        "import pandas as pd\n",
        "\n",
        "nome =[\"Miguel\",\"Arthur\",\"Heitor\",\"Helena\",\"Alice\",\"Theo\",\"Davi\",\"Lilia\",\"Laura\",\"Gabriel\",\"Bernardo\",\"Samuel\",\"Valentina\",\"Heloísa\",\"Enzo\",\"Pedro\" ,\"Lorenzo\",\"Sophia\",\"Maria\",\"Eduarda\",\"Cecília\",\"Júlia\",\"Isabella\",\"Benício\"]\n",
        "idade =[75,42,50,61,77,35,84,31,84,64,54,67,69,22,63,82,51,63,56,87,32,65,54,53]\n",
        "saldo = [9734.05,12517.09,6304.24,11118.21,9542.27,2964.03,13232.54,11684.21,4919.49,5293.05,8847.02,1789.03,11113.87,11665.19,2432.18,11626.03,10038.05,1690.01,6409.31,13546.88,1298.90,1200.00,16000.00,5000.00]\n",
        "dataframe = pd.DataFrame({\"nome\":nome,\"idade\":idade,\"saldo\":saldo})"
      ],
      "metadata": {
        "id": "BA1IjpJbfKu8"
      },
      "execution_count": null,
      "outputs": []
    },
    {
      "cell_type": "code",
      "source": [
        "dataframe.head(10)"
      ],
      "metadata": {
        "id": "NnqfktlAfOaB"
      },
      "execution_count": null,
      "outputs": []
    },
    {
      "cell_type": "code",
      "source": [
        "bins = 4\n",
        "largura = (maximo-minimo)/bins"
      ],
      "metadata": {
        "id": "pO4EKSHJfPUX"
      },
      "execution_count": null,
      "outputs": []
    },
    {
      "cell_type": "code",
      "source": [
        "intervalos = [i for i in range(minimo,maximo+largura,largura)]"
      ],
      "metadata": {
        "id": "14eTR6AvfPXg"
      },
      "execution_count": null,
      "outputs": []
    },
    {
      "cell_type": "code",
      "source": [
        "intervalos = [i for i in range(minimo,maximo+largura,largura)]"
      ],
      "metadata": {
        "id": "ouC4_l0yfPae"
      },
      "execution_count": null,
      "outputs": []
    },
    {
      "cell_type": "code",
      "source": [
        "minimo = int(np.ceil(dataframe[\"saldo\"].min()))\n",
        "maximo = int(np.floor(dataframe[\"saldo\"].max()))\n",
        "largura = int((maximo-minimo)/4)"
      ],
      "metadata": {
        "id": "zot83MGCfPdI"
      },
      "execution_count": null,
      "outputs": []
    },
    {
      "cell_type": "code",
      "source": [
        "dataframe[\"saldo_discretizado\"] = pd.cut(dataframe[\"saldo\"],bins=intervalos,include_lowest=True)"
      ],
      "metadata": {
        "id": "qZpAjFZafPfj"
      },
      "execution_count": null,
      "outputs": []
    },
    {
      "cell_type": "code",
      "source": [
        "dataframe.head()"
      ],
      "metadata": {
        "id": "jz509-LrfPkW"
      },
      "execution_count": null,
      "outputs": []
    },
    {
      "cell_type": "code",
      "source": [
        "def disc_intervalo(dataframe,variavel,bins):\n",
        "    maximo = int(np.floor(dataframe[variavel].max()))\n",
        "    minimo = int(np.ceil(dataframe[variavel].min()))\n",
        "    largura = int((maximo-minimo)/bins)\n",
        "\n",
        "\n",
        "    intervalos = [i for i in range(minimo,maximo+largura,largura)]\n",
        "    intervalos = intervalos[0:len(intervalos)-1]\n",
        "    intervalo_discretizado = pd.cut(dataframe[variavel],bins=intervalos, include_lowest=True)\n",
        "\n",
        "\n",
        "    return intervalo_discretizado"
      ],
      "metadata": {
        "id": "sWayIq4UfPnP"
      },
      "execution_count": null,
      "outputs": []
    },
    {
      "cell_type": "code",
      "source": [
        "import matplotlib.pyplot as plt\n",
        "%matplotlib inline\n",
        "\n",
        "dataframe.groupby(\"saldo_discretizado\")[\"saldo\"].count().plot.bar()\n",
        "plt.xticks(rotation=45)\n",
        "plt.ylabel('Número de observações em cada intervalo')"
      ],
      "metadata": {
        "id": "UrSQi0lZfPqF"
      },
      "execution_count": null,
      "outputs": []
    },
    {
      "cell_type": "code",
      "source": [
        "import pandas as pd\n",
        "\n",
        "nome =[\"Miguel\",\"Arthur\",\"Heitor\",\"Helena\",\"Alice\",\"Theo\",\"Davi\",\"Lilia\",\"Laura\",\"Gabriel\",\"Bernardo\",\"Samuel\",\"Valentina\",\"Heloísa\",\"Enzo\",\"Pedro\" ,\"Lorenzo\",\"Sophia\",\"Maria\",\"Eduarda\",\"Cecília\",\"Júlia\",\"Isabella\",\"Benício\"]\n",
        "idade =[75,42,50,61,77,35,84,31,84,64,54,67,69,22,63,82,51,63,56,87,32,65,54,53]\n",
        "saldo = [9734.05,12517.09,6304.24,11118.21,9542.27,2964.03,13232.54,11684.21,4919.49,5293.05,8847.02,1789.03,11113.87,11665.19,2432.18,11626.03,10038.05,1690.01,6409.31,13546.88,1298.90,1200.00,16000.00,5000.00]\n",
        "\n",
        "dataframe = pd.DataFrame({\"nome\":nome,\"idade\":idade,\"saldo\":saldo})"
      ],
      "metadata": {
        "id": "G8wlhIBYfPsr"
      },
      "execution_count": null,
      "outputs": []
    },
    {
      "cell_type": "code",
      "source": [
        "dataframe[\"saldo_discretizado\"], intervalos = pd.qcut(dataframe[\"saldo\"],4, labels=None,retbins=True)"
      ],
      "metadata": {
        "id": "XfNGix94fPvQ"
      },
      "execution_count": null,
      "outputs": []
    },
    {
      "cell_type": "code",
      "source": [
        "dataframe.head()"
      ],
      "metadata": {
        "id": "jnfDFjaNfPxf"
      },
      "execution_count": null,
      "outputs": []
    },
    {
      "cell_type": "code",
      "source": [
        "import matplotlib.pyplot as plt\n",
        "%matplotlib inline\n",
        "\n",
        "plt.figure(figsize=(12,7))\n",
        "dataframe.groupby(\"saldo_discretizado\")[\"idade\"].count().plot.bar()\n",
        "plt.xticks(rotation=45)\n",
        "plt.ylabel('Número de observações em cada intervalo pelo método de frequência igual')"
      ],
      "metadata": {
        "id": "ASmfSli5fP0M"
      },
      "execution_count": null,
      "outputs": []
    },
    {
      "cell_type": "code",
      "source": [
        "def disc_freq(dataframe, variavel,q):\n",
        "\t\tmaximo = dataframe[variavel].max()\n",
        "\t\tminimo = dataframe[variavel].min()\n",
        "\t\t\n",
        "\t\tlargura = int((maximo-minimo)/bins)\n",
        "\t\tintervalos = [i for i in range(minimo,maximo+largura,largura)]\n",
        "\t\tdiscretizado,intervaldisc = pd.qcut(dataframe[variavel],q,labels=None,retbins=True)\n",
        "                 \n",
        "\t\t\n",
        "\t\treturn discretizado, intervaldisc"
      ],
      "metadata": {
        "id": "HA9fUa-JfP2q"
      },
      "execution_count": null,
      "outputs": []
    },
    {
      "cell_type": "code",
      "source": [
        "import pandas as pd\n",
        "\n",
        "nome =[\"Miguel\",\"Arthur\",\"Heitor\",\"Helena\",\"Alice\",\"Theo\",\"Davi\",\"Lilia\",\"Laura\",\"Gabriel\",\"Bernardo\",\"Samuel\",\"Valentina\",\"Heloísa\",\"Enzo\",\"Pedro\" ,\"Lorenzo\",\"Sophia\",\"Maria\",\"Eduarda\",\"Cecília\",\"Júlia\",\"Isabella\",\"Benício\"]\n",
        "idade =[75,42,50,61,77,35,84,31,84,64,54,67,69,22,63,82,51,63,56,87,32,65,54,53]\n",
        "saldo = [9734.05,12517.09,6304.24,11118.21,9542.27,2964.03,13232.54,11684.21,4919.49,5293.05,8847.02,1789.03,11113.87,11665.19,2432.18,11626.03,10038.05,1690.01,6409.31,13546.88,1298.90,1200.00,16000.00,5000.00]\n",
        "\n",
        "dataframe = pd.DataFrame({\"nome\":nome,\"idade\":idade,\"saldo\":saldo})"
      ],
      "metadata": {
        "id": "9N01pHKffP5V"
      },
      "execution_count": null,
      "outputs": []
    },
    {
      "cell_type": "code",
      "source": [
        "from sklearn.preprocessing import KBinsDiscretizer"
      ],
      "metadata": {
        "id": "pm9-gIVxfP8C"
      },
      "execution_count": null,
      "outputs": []
    },
    {
      "cell_type": "code",
      "source": [
        "discretizador = KBinsDiscretizer(n_bins=8,encode=\"ordinal\",strategy=\"kmeans\")"
      ],
      "metadata": {
        "id": "DOibGfPefP-p"
      },
      "execution_count": null,
      "outputs": []
    },
    {
      "cell_type": "code",
      "source": [
        "discretizador.fit(dataframe[\"saldo\"].to_frame())"
      ],
      "metadata": {
        "id": "XW1loajZfkUh"
      },
      "execution_count": null,
      "outputs": []
    },
    {
      "cell_type": "code",
      "source": [
        "dataframe[\"saldo_discretizado\"] = discretizador.transform(dataframe[\"saldo\"].to_frame())\n",
        "\n",
        "dataframe.head()"
      ],
      "metadata": {
        "id": "4sZmdP4Ufka2"
      },
      "execution_count": null,
      "outputs": []
    },
    {
      "cell_type": "code",
      "source": [
        "discretizador.bin_edges_\n",
        "\n",
        "array([array([22.,27.5,37.5,46.83333333,55.08333333,\n",
        "\t61.625,70.375,80.3,87.])],dtype=object)"
      ],
      "metadata": {
        "id": "b6wrYNodfkd4"
      },
      "execution_count": null,
      "outputs": []
    },
    {
      "cell_type": "code",
      "source": [
        "dataframe.head()"
      ],
      "metadata": {
        "id": "xVXaAC-RfkhB"
      },
      "execution_count": null,
      "outputs": []
    },
    {
      "cell_type": "code",
      "source": [
        "from sklearn.tree import DecisionTreeRegressor\n",
        "\n",
        "arvore = DecisionTreeRegressor(max_depth=3, random_state=0)"
      ],
      "metadata": {
        "id": "uUoVE0Onfkj6"
      },
      "execution_count": null,
      "outputs": []
    },
    {
      "cell_type": "code",
      "source": [
        "arvore.fit(dataframe[\"idade\"].to_frame(),dataframe[\"saldo\"])"
      ],
      "metadata": {
        "id": "9e44q2VTfkm8"
      },
      "execution_count": null,
      "outputs": []
    },
    {
      "cell_type": "code",
      "source": [
        "dataframe[\"idade_discretizada\"] = arvore.predict(dataframe[\"idade\"].to_frame)"
      ],
      "metadata": {
        "id": "mzEnkGT8fsd1"
      },
      "execution_count": null,
      "outputs": []
    },
    {
      "cell_type": "code",
      "source": [
        "dataframe.head()"
      ],
      "metadata": {
        "id": "WdCAbmA0fshF"
      },
      "execution_count": null,
      "outputs": []
    },
    {
      "cell_type": "code",
      "source": [
        "dataframe.groupby(\"idade_discretizada\")[\"saldo\"].mean().plot()\n",
        "plt.title(\"Relação mônotonica entre as variáveis idade_discretizada e saldo\")\n",
        "plt.ylabel(\"Saldo\")"
      ],
      "metadata": {
        "id": "T2Z0Ta1gfsks"
      },
      "execution_count": null,
      "outputs": []
    },
    {
      "cell_type": "code",
      "source": [
        "import pandas as pd\n",
        "\n",
        "nome =[\"Miguel\",\"Arthur\",\"Heitor\",\"Helena\",\"Alice\",\"Theo\",\"Davi\",\"Lilia\",\"Laura\",\"Gabriel\",\"Bernardo\",\"Samuel\",\"Valentina\",\"Heloísa\",\"Enzo\",\"Pedro\" ,\"Lorenzo\",\"Sophia\",\"Maria\",\"Eduarda\",\"Cecília\",\"Júlia\",\"Isabella\",\"Benício\"]\n",
        "idade = [75,42,50,61,77,35,84,31,84,64,54,67,69,22,63,82,51,63,56,87,32,65,54,53]\n",
        "saldo = [9734.05,12517.09,6304.24,11118.21,9542.27,2964.03,13232.54,11684.21,4919.49,5293.05,8847.02,1789.03,11113.87,11665.19,2432.18,11626.03,10038.05,1690.01,6409.31,13546.88,1298.90,1200.00,16000.00,5000.00]\n",
        "\n",
        "dataframe= pd.DataFrame({\"nome\":nome,\"idade\":idade,\"saldo\":saldo})"
      ],
      "metadata": {
        "id": "XbKFA4GUfsne"
      },
      "execution_count": null,
      "outputs": []
    },
    {
      "cell_type": "code",
      "source": [
        "plt.figure(figsize=(12,7))\n",
        "dataframe.groupby(\"saldo\")[\"idade\"].mean().plot()\n",
        "plt.title(\"Relação não monotônica entre a variável saldo e a idade\")\n",
        "plt.ylabel(\"Idade\")"
      ],
      "metadata": {
        "id": "WhkEsXGbfwpF"
      },
      "execution_count": null,
      "outputs": []
    },
    {
      "cell_type": "code",
      "source": [
        "from feature_engine.discretisation import DecisionTreeDiscretiser"
      ],
      "metadata": {
        "id": "QHB7wvzIfwth"
      },
      "execution_count": null,
      "outputs": []
    },
    {
      "cell_type": "code",
      "source": [
        "arvore_ft = DecisionTreeDiscretiser(cv=10,param_grid={\"max_depth\":[1,2]})"
      ],
      "metadata": {
        "id": "n7avyD50fzAl"
      },
      "execution_count": null,
      "outputs": []
    },
    {
      "cell_type": "code",
      "source": [
        "arvore_ft.fit(dataframe[\"saldo\"].to_frame(),dataframe[\"idade\"])"
      ],
      "metadata": {
        "id": "5AAgwLNff0hv"
      },
      "execution_count": null,
      "outputs": []
    },
    {
      "cell_type": "code",
      "source": [
        "dataframe[\"saldo_discretizado\"] = arvore.predict(dataframe[\"saldo\"].to_frame())"
      ],
      "metadata": {
        "id": "QkXdyqrIf1cl"
      },
      "execution_count": null,
      "outputs": []
    },
    {
      "cell_type": "code",
      "source": [
        "dataframe[\"saldo_discretizado\"].unique()"
      ],
      "metadata": {
        "id": "g5HfRegRf1fk"
      },
      "execution_count": null,
      "outputs": []
    },
    {
      "cell_type": "code",
      "source": [
        "dataframe[\"idade_discretizada\"].unique()\n",
        "\n",
        "array([4096.13157895,6663.11])"
      ],
      "metadata": {
        "id": "qLwDuLbNf1i8"
      },
      "execution_count": null,
      "outputs": []
    },
    {
      "cell_type": "markdown",
      "source": [
        "# Projeto Prático"
      ],
      "metadata": {
        "id": "w0H6uY9Qf52p"
      }
    },
    {
      "cell_type": "code",
      "source": [
        "from sklearn.model_selection import train_test_split\n",
        "X_treino, X_teste, y_treino, y_teste = train_test_split(dataframe.drop(\"Survived\",axis=1),dataframe[\"Survived\"],test_size=0.3,random_state=0)\n"
      ],
      "metadata": {
        "id": "LCwTr6E6f1ms"
      },
      "execution_count": null,
      "outputs": []
    },
    {
      "cell_type": "code",
      "source": [
        "from sklearn.preprocessing import KBinsDiscretizer"
      ],
      "metadata": {
        "id": "R-Q8SG0ygAE4"
      },
      "execution_count": null,
      "outputs": []
    },
    {
      "cell_type": "code",
      "source": [
        "\n",
        "discretizador = KBinsDiscretizer(n_bins=8,encode=\"ordinal\",strategy=\"uniform\")"
      ],
      "metadata": {
        "id": "2D1w9o9MgARz"
      },
      "execution_count": null,
      "outputs": []
    },
    {
      "cell_type": "code",
      "source": [
        "discretizador.fit(X_treino[[\"Age\",\"Fare\"]])"
      ],
      "metadata": {
        "id": "cA6IXg2QgAU1"
      },
      "execution_count": null,
      "outputs": []
    },
    {
      "cell_type": "code",
      "source": [
        "discretizador.fit(X_treino[[\"Age\",\"Fare\"]])\n",
        "KBinsDiscretizer(encode='ordinal',n_bins=8,strategy='uniform')"
      ],
      "metadata": {
        "id": "tdgP3Cu7gAXZ"
      },
      "execution_count": null,
      "outputs": []
    },
    {
      "cell_type": "code",
      "source": [
        "discretizador.bin_edges_\n"
      ],
      "metadata": {
        "id": "CiJadhppgAaG"
      },
      "execution_count": null,
      "outputs": []
    },
    {
      "cell_type": "code",
      "source": [
        "array([array(0.17,9.64875,19.1275,28.60625,38.085,47.56375,\n",
        "       57.0425,66.52125,76.]),\n",
        "       array([0.,64.04115,128.0823,192.12345,256.16.46,320,20575,\n",
        "       384.2469,448,28805,512.3292])], dtype=object)"
      ],
      "metadata": {
        "id": "9VDX4AbCgAck"
      },
      "execution_count": null,
      "outputs": []
    },
    {
      "cell_type": "code",
      "source": [
        "\n",
        "treino_disc= discretizador.transform(X_treino)\n",
        "teste_disc= discretizador.transform(X_teste)"
      ],
      "metadata": {
        "id": "xmdR3NcNgAfn"
      },
      "execution_count": null,
      "outputs": []
    },
    {
      "cell_type": "code",
      "source": [
        "\n",
        "treino_disc = pd.DataFrame(treino_disc,columns=[\"Age\",\"Fare\"])\n",
        "teste_disc = pd.DataFrame(teste_disc,columns=[\"Age\",\"Fare\"])"
      ],
      "metadata": {
        "id": "S7rptw_4gAht"
      },
      "execution_count": null,
      "outputs": []
    },
    {
      "cell_type": "code",
      "source": [
        "df1 = treino_disc['Age'].value_counts() / len(treino_disc)\n",
        "df2 = teste_disc['Age'].value_counts() / len(teste_disc)"
      ],
      "metadata": {
        "id": "89PXcrrmgAml"
      },
      "execution_count": null,
      "outputs": []
    },
    {
      "cell_type": "code",
      "source": [
        "aux = pd.concat([df1, df2], axis=1)"
      ],
      "metadata": {
        "id": "mAnjQN9_gApj"
      },
      "execution_count": null,
      "outputs": []
    },
    {
      "cell_type": "code",
      "source": [
        "aux.columns = ['treino','teste']"
      ],
      "metadata": {
        "id": "he1cmWM4gAse"
      },
      "execution_count": null,
      "outputs": []
    },
    {
      "cell_type": "code",
      "source": [
        "aux.plot.bar()\n",
        "plt.xticks(rotation=45)\n",
        "plt.ylabel('Número de observações por intervalos')"
      ],
      "metadata": {
        "id": "D2dvJkqygAvn"
      },
      "execution_count": null,
      "outputs": []
    },
    {
      "cell_type": "code",
      "source": [
        "from feature_engine.discretisation import EqualWidthDiscretiser"
      ],
      "metadata": {
        "id": "dxTE912egAyf"
      },
      "execution_count": null,
      "outputs": []
    },
    {
      "cell_type": "code",
      "source": [
        "discretizador_ft = EqualWidthDiscretiser(bins=8, variables=[\"Age\",\"Fare\"])"
      ],
      "metadata": {
        "id": "IUbjIQh_gA1U"
      },
      "execution_count": null,
      "outputs": []
    },
    {
      "cell_type": "code",
      "source": [
        "discretizador_ft.fit(X_treino)"
      ],
      "metadata": {
        "id": "-w0vlN5CgA4P"
      },
      "execution_count": null,
      "outputs": []
    },
    {
      "cell_type": "code",
      "source": [
        "df_treino = discretizador_ft.transform(X_treino)\n",
        "df_teste = discretizador_ft.transform(X_teste)"
      ],
      "metadata": {
        "id": "eLuv_XaigA6y"
      },
      "execution_count": null,
      "outputs": []
    },
    {
      "cell_type": "code",
      "source": [
        "from sklearn.model_selection import train_test_split\n",
        "X_treino, X_teste, y_treino, y_teste = train_test_split(dataframe.drop(\"Survived\",axis=1),dataframe[\"Survived\"],test_size=0.3,random_state=0)"
      ],
      "metadata": {
        "id": "PVtZJ2N3gA9h"
      },
      "execution_count": null,
      "outputs": []
    },
    {
      "cell_type": "code",
      "source": [
        "discretizador_freq = KBinsDiscretizer(n_bins=4, encode=\"ordinal\",strategy=\"quantile)"
      ],
      "metadata": {
        "id": "8WONiBD5gVRD"
      },
      "execution_count": null,
      "outputs": []
    },
    {
      "cell_type": "code",
      "source": [
        "discretizador_freq = KBinsDiscretizer(n_bins=4, encode=\"ordinal\",strategy=\"quantile)"
      ],
      "metadata": {
        "id": "5TZFrckbgVUg"
      },
      "execution_count": null,
      "outputs": []
    },
    {
      "cell_type": "code",
      "source": [
        "discretizador_freq.fit(X_treino)[[\"Age\",\"Fare\"]]"
      ],
      "metadata": {
        "id": "7wz-wLjBgVXw"
      },
      "execution_count": null,
      "outputs": []
    },
    {
      "cell_type": "code",
      "source": [
        "discretizador_freq.bin_edges_"
      ],
      "metadata": {
        "id": "xjaq4hCJgVa5"
      },
      "execution_count": null,
      "outputs": []
    },
    {
      "cell_type": "code",
      "source": [
        "treino_freq = discretizador_freq.transform(X_treino[[\"Age\",\"Fare\"]])\n",
        "teste_freq = discretizador_freq.transform(X_teste[[\"Age\",\"Fare\"]])\n",
        "\n",
        "treino_freq = pd.DataFrame(treino_freq,columns=[\"Age\",\"Fare\"])\n",
        "teste_freq = pd.DataFrame(teste_freq,columns=[\"Age\",\"Fare\"])"
      ],
      "metadata": {
        "id": "L4_LmcYugVdp"
      },
      "execution_count": null,
      "outputs": []
    },
    {
      "cell_type": "code",
      "source": [
        "def compara_proporcao(dataframe1,dataframe2)\n",
        "    prop1 = dataframe1.value_counts() / len(dataframe1)\n",
        "    prop2 = dataframe2.value_counts() / len(dataframe2)\n",
        "\n",
        "    aux = pd.concat([prop1, prop2], axis=1)\n",
        "    plt.figure(figsize=(12,9))\n",
        "    aux.columns = ['treino', 'teste']\n",
        "    aux.plot.bar()\n",
        "    plt.xticks(rotation=45)\n",
        "    plt.ylabel('Número de observações por intervalos')"
      ],
      "metadata": {
        "id": "HuwrKsGwgVgy"
      },
      "execution_count": null,
      "outputs": []
    },
    {
      "cell_type": "code",
      "source": [
        "compara_proporcao(treino_freq[\"Age\"],teste_freq[\"Age\"])"
      ],
      "metadata": {
        "id": "JUjnT9VYgVkG"
      },
      "execution_count": null,
      "outputs": []
    },
    {
      "cell_type": "code",
      "source": [
        "compara_proporcao(treino_freq[\"Fare\"],teste_freq[\"Fare\"])"
      ],
      "metadata": {
        "id": "N9Krlh9MgVmu"
      },
      "execution_count": null,
      "outputs": []
    },
    {
      "cell_type": "code",
      "source": [
        "from feature_engine.discretisers import EqualFrequencyDiscretiser"
      ],
      "metadata": {
        "id": "k-hpGalOgVp4"
      },
      "execution_count": null,
      "outputs": []
    },
    {
      "cell_type": "code",
      "source": [
        "discretizador_ft = EqualFrequencyDiscretiser(q=10,variables=[\"Age\",\"Fare\"])\n",
        "discretizador_ft.fit(X_treino)"
      ],
      "metadata": {
        "id": "cU2DCX9Zgglx"
      },
      "execution_count": null,
      "outputs": []
    },
    {
      "cell_type": "code",
      "source": [
        "discretizador_ft.binner_dict_"
      ],
      "metadata": {
        "id": "H3AsXUZeggss"
      },
      "execution_count": null,
      "outputs": []
    },
    {
      "cell_type": "code",
      "source": [
        "treino_ft = discretizador_ft.transform(X_treino)\n",
        "teste_ft =discretizador_ft.transform(X_teste)"
      ],
      "metadata": {
        "id": "Qu8masrGggxV"
      },
      "execution_count": null,
      "outputs": []
    },
    {
      "cell_type": "code",
      "source": [
        "treino_ft.head()"
      ],
      "metadata": {
        "id": "HNK0D1dQgg1R"
      },
      "execution_count": null,
      "outputs": []
    },
    {
      "cell_type": "code",
      "source": [
        "teste_ft.head()"
      ],
      "metadata": {
        "id": "7aCaHm-pgllh"
      },
      "execution_count": null,
      "outputs": []
    },
    {
      "cell_type": "code",
      "source": [
        "compara_propocao(treino_ft[\"Age\"],teste_ft[\"Age\"])"
      ],
      "metadata": {
        "id": "DNfXO3ErglrB"
      },
      "execution_count": null,
      "outputs": []
    },
    {
      "cell_type": "code",
      "source": [
        "compara_proporcao(treino_ft[\"Fare\"],teste_ft[\"Fare\"])"
      ],
      "metadata": {
        "id": "Fm3QKwiRgluS"
      },
      "execution_count": null,
      "outputs": []
    },
    {
      "cell_type": "code",
      "source": [
        "from sklearn.model_selection import train_test_split\n",
        "\n",
        "\n",
        "X_treino, X_teste, y_treino, y_teste = train_test_split(dataframe.drop(\"Survived\",axis=1),dataframe[\"Survived\"],test_size=0.3,random_state=0)"
      ],
      "metadata": {
        "id": "B2HAwHBgglw7"
      },
      "execution_count": null,
      "outputs": []
    },
    {
      "cell_type": "code",
      "source": [],
      "metadata": {
        "id": "m7fWFQ6hgl0Q"
      },
      "execution_count": null,
      "outputs": []
    },
    {
      "cell_type": "code",
      "source": [
        "from sklearn.preprocessing import KBinsDiscretizer"
      ],
      "metadata": {
        "id": "PGYNHGR9gq4p"
      },
      "execution_count": null,
      "outputs": []
    },
    {
      "cell_type": "code",
      "source": [
        "discretizador = KBinsDiscretizer(n_bins=4,encode=\"ordinal\",strategy=\"kmeans\")"
      ],
      "metadata": {
        "id": "VlWJsi7lgr56"
      },
      "execution_count": null,
      "outputs": []
    },
    {
      "cell_type": "code",
      "source": [
        "discretizador.fit(X_treino[[\"Age\",\"Fare\"]])"
      ],
      "metadata": {
        "id": "ub89y62Zgr9V"
      },
      "execution_count": null,
      "outputs": []
    },
    {
      "cell_type": "code",
      "source": [
        "treino_discretizado = discretizador.transform(X_treino[[\"Age\",\"Fare\"]])\n",
        "teste_discretizado = discretizador.transform(X_teste[[\"Age\",\"Fare\"]])"
      ],
      "metadata": {
        "id": "tcDo8sQmgsAZ"
      },
      "execution_count": null,
      "outputs": []
    },
    {
      "cell_type": "code",
      "source": [
        "treino_discretizado = pd.DataFrame(treino_discretizado,columns=[\"Age\",\"Fare\"])\n",
        "teste_discretizado = pd.DataFrame(teste_discretizado,columns=[\"Age\",\"Fare\"])"
      ],
      "metadata": {
        "id": "AYZ3o63Aguqt"
      },
      "execution_count": null,
      "outputs": []
    },
    {
      "cell_type": "code",
      "source": [
        "treino_discretizado.head()"
      ],
      "metadata": {
        "id": "SgpVaTWsguua"
      },
      "execution_count": null,
      "outputs": []
    },
    {
      "cell_type": "code",
      "source": [
        "teste_discretizado.head()"
      ],
      "metadata": {
        "id": "PRaVw9fRgux5"
      },
      "execution_count": null,
      "outputs": []
    },
    {
      "cell_type": "code",
      "source": [
        "discretizador.bin_edges_\n",
        "\n",
        "array([array([0.17,19.25741499,34.13871001,50.41116942,76.]),\n",
        "       array([0.,44.34356705,151.61194821,370.89877, 512.392])],dtype =object)"
      ],
      "metadata": {
        "id": "apaIQd07gu1-"
      },
      "execution_count": null,
      "outputs": []
    },
    {
      "cell_type": "code",
      "source": [
        "discretizador.n_bins_"
      ],
      "metadata": {
        "id": "XxsbO0H3gu6R"
      },
      "execution_count": null,
      "outputs": []
    },
    {
      "cell_type": "code",
      "source": [
        "dataframe = pd.read_csv(\"train.csv\")\n",
        "dataframe.head()"
      ],
      "metadata": {
        "id": "BMh2NUKRgz0y"
      },
      "execution_count": null,
      "outputs": []
    },
    {
      "cell_type": "code",
      "source": [
        "plt.figure(figsize=(12,7))\n",
        "dataframe.groupby(\"SQUARE_FT\")[\"TARGET\\(PRICE_IN_LACS)\"].mean().plot()\n",
        "plt.title(\"Relação  entre a variável SQUARE_FT e TARGET\\(PRICE_IN_LACS)\")\n",
        "plt.ylabel(\"Média dos preços\")"
      ],
      "metadata": {
        "id": "1hWV1jRZgz7z"
      },
      "execution_count": null,
      "outputs": []
    },
    {
      "cell_type": "code",
      "source": [
        "from sklearn.model_selection import train_test_split\n",
        "X_treino, X_teste, y_treino, y_teste = train_test_split(dataframe.drop(\"TARGET\\(PRICE_IN_LACS)\",axis=1),dataframe[\"TARGET\\(PRICE_IN_LACS)\"],test_size=0.3,random_state=0)"
      ],
      "metadata": {
        "id": "mg4zk_ZPgz_l"
      },
      "execution_count": null,
      "outputs": []
    },
    {
      "cell_type": "code",
      "source": [
        "from sklearn.tree import DecisionTreeRegressor\n",
        "\n",
        "arvore = DecisionTreeRegressor(max_depth=4, random_state=0)"
      ],
      "metadata": {
        "id": "fMpFTue2g6vp"
      },
      "execution_count": null,
      "outputs": []
    },
    {
      "cell_type": "code",
      "source": [
        "arvore.fit(X_treino[\"SQUARE_FT\"].to_frame(),y_treino)"
      ],
      "metadata": {
        "id": "yxY11FPXg6zf"
      },
      "execution_count": null,
      "outputs": []
    },
    {
      "cell_type": "code",
      "source": [
        "square_treino = arvore.predict(X_treino[\"SQUARE_FT\"].to_frame())\n",
        "square_teste = arvora.predict(X_teste[\"SQUARE_FT\"].to_frame())"
      ],
      "metadata": {
        "id": "sUqOU4zOg62_"
      },
      "execution_count": null,
      "outputs": []
    },
    {
      "cell_type": "code",
      "source": [
        "from feature_engine.discretisation import DecisionTreeDiscretiser\n",
        "\n",
        "arvore_ft = DecisionTreeDiscretiser(variables=['Age', 'Fare'],regression=True, param_grid={'max_depth': [1,2,3,4]})"
      ],
      "metadata": {
        "id": "nFUYW6emg91B"
      },
      "execution_count": null,
      "outputs": []
    },
    {
      "cell_type": "code",
      "source": [
        "\n",
        "arvore_ft.fit(X_treino,y_treino)"
      ],
      "metadata": {
        "id": "W0kqwbOsg95i"
      },
      "execution_count": null,
      "outputs": []
    },
    {
      "cell_type": "code",
      "source": [
        "treino_disc = arvore_ft.transform(X_treino)\n",
        "teste_disc = arvore_ft.transform(X_teste)"
      ],
      "metadata": {
        "id": "vhtQm1wJg99a"
      },
      "execution_count": null,
      "outputs": []
    },
    {
      "cell_type": "code",
      "source": [
        "teste_disc.benner_dict_"
      ],
      "metadata": {
        "id": "Mal8dTRKg-Av"
      },
      "execution_count": null,
      "outputs": []
    }
  ]
}