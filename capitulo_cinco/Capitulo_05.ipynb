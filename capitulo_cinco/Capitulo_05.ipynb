{
  "nbformat": 4,
  "nbformat_minor": 0,
  "metadata": {
    "colab": {
      "provenance": []
    },
    "kernelspec": {
      "name": "python3",
      "display_name": "Python 3"
    },
    "language_info": {
      "name": "python"
    }
  },
  "cells": [
    {
      "cell_type": "markdown",
      "source": [
        "# Trabalhando com redução de dimensionalidade, Upsampling e Downsampling"
      ],
      "metadata": {
        "id": "_CDlz7A-kaWJ"
      }
    },
    {
      "cell_type": "code",
      "source": [
        "dados= pd.read_csv(\"iris.csv\")\n",
        "dados.head()"
      ],
      "metadata": {
        "id": "imGQaMP7lBHu"
      },
      "execution_count": null,
      "outputs": []
    },
    {
      "cell_type": "code",
      "source": [
        "X = dados.iloc[:, :-1].values\n",
        "y = dados.iloc[:, -1].values"
      ],
      "metadata": {
        "id": "dnHygZaOlDRw"
      },
      "execution_count": null,
      "outputs": []
    },
    {
      "cell_type": "code",
      "source": [
        "from sklearn.cluster import KMeans\n",
        "\n",
        "X = dados.iloc[:, :-1].values\n",
        "max_clusters = 10\n",
        "\n",
        "sse = []\n",
        "\n",
        "for n_clusters in range(1, max_clusters):\n",
        "    kmeans = KMeans(n_clusters=n_clusters, init='k-means++', random_state=42)\n",
        "    kmeans.fit(X)\n",
        "    sse.append(kmeans.inertia_)"
      ],
      "metadata": {
        "id": "Kxhs7VjflFMs"
      },
      "execution_count": null,
      "outputs": []
    },
    {
      "cell_type": "code",
      "source": [
        "plt.plot(range(1, max_clusters), sse, marker='o')\n",
        "plt.title('Método do cotovelo')\n",
        "plt.xlabel('Número de clusters')\n",
        "plt.ylabel('Soma dos erros quadráticos (SSE)')\n",
        "plt.show()"
      ],
      "metadata": {
        "id": "t9y8guTvlGRr"
      },
      "execution_count": null,
      "outputs": []
    },
    {
      "cell_type": "code",
      "source": [
        "from sklearn.decomposition import PCA"
      ],
      "metadata": {
        "id": "1eR-28HKlH7p"
      },
      "execution_count": null,
      "outputs": []
    },
    {
      "cell_type": "code",
      "source": [
        "pca = PCA(n_components=2)\n",
        "X_pca = pca.fit_transform(X)"
      ],
      "metadata": {
        "id": "ozq49P2JlJuA"
      },
      "execution_count": null,
      "outputs": []
    },
    {
      "cell_type": "code",
      "source": [
        "explicacao = sum(pca.explained_vaariance_ratio_)\n",
        "print(f\"Variância explicada pelos 2 componentes selecionados:{explicacao}\")"
      ],
      "metadata": {
        "id": "ZL8xbxNqlJxf"
      },
      "execution_count": null,
      "outputs": []
    },
    {
      "cell_type": "code",
      "source": [
        "pesos = pd.DataFrame(pca.compoents_,colums=X.columns).iloc[0]\n",
        "pesos = pesos.abs().sort_values(ascending=False)\n",
        "top_5 = pesos[:5]\n",
        "print(f\"Top 5 colunas mais importantes:{top_5}\\n\")"
      ],
      "metadata": {
        "id": "eV_zyFJOlJ0n"
      },
      "execution_count": null,
      "outputs": []
    },
    {
      "cell_type": "code",
      "source": [
        "from imblearn.over_sampling import SMOTE\n",
        "\n",
        "X= dados.drop(\"Doença\",axis=1)\n",
        "\n",
        "smote = SMOTE(random_state=42)\n",
        "X_res,y_res = smote.fit_resample(X,y)\n",
        "\n",
        "df_resampled = pd.concat([pd.DataFrame(X_res),pd.DataFrame(y_res)],axis=1)\n",
        "df_resampled.columns=dados.columns"
      ],
      "metadata": {
        "id": "Bcrjh5YhlJ6e"
      },
      "execution_count": null,
      "outputs": []
    },
    {
      "cell_type": "code",
      "source": [
        "from imblearn.under_sampling import RandomUnderSampler\n",
        "\n",
        "rus = RandomUnderSampler(random_state=42)\n",
        "X_resampled, y_resampled = rus.fit_resample(X, y)\n",
        "\n",
        "df_down = pd.concat([pd.DataFrame(X_resampled), pd.DataFrame(y_resampled)], axis=1)\n",
        "df_down.columns = dados.columns"
      ],
      "metadata": {
        "id": "UIrrSxF6lUhY"
      },
      "execution_count": null,
      "outputs": []
    },
    {
      "cell_type": "markdown",
      "source": [
        "# Qual é o melhor modelo"
      ],
      "metadata": {
        "id": "qWsoUE5VlKAg"
      }
    },
    {
      "cell_type": "code",
      "source": [
        "import pandas as pd\n",
        "from sklearn.model_selection import train_test_split\n",
        "from yellowbrick.classifier import ConfusionMatrix\n",
        "\n",
        "titanic = pd.read_csv(\"titanic.csv\")\n",
        "titanic.drop([\"Name\",\"Ticket\",\"Cabin\"],axis=1,inplace=True)\n",
        "\n",
        "titanic[\"Age\"].fillna(titanic[\"Age\"].mean(),inplace=True)"
      ],
      "metadata": {
        "id": "514FXxyglKDf"
      },
      "execution_count": null,
      "outputs": []
    },
    {
      "cell_type": "code",
      "source": [
        "titanic[\"Sex\"] = titanic[\"Sex].map({'female':0,'male':1})\n",
        "\n",
        "X_treino,X_teste,y_treino,y_teste = train_test_split(titanic.drop('Survived',axis=1),titanic['Survived'],test_size=0.3,random_state=42)"
      ],
      "metadata": {
        "id": "QTOAwhNnlKGb"
      },
      "execution_count": null,
      "outputs": []
    },
    {
      "cell_type": "code",
      "source": [
        "from sklearn.tree import DecisionTreeClassifier\n",
        "\n",
        "modelo = DecisionTreeClassifier(random_state=42)\n",
        "\n",
        "modelo.fit(X_treino,y_treino)"
      ],
      "metadata": {
        "id": "Wp-ppqyylnzo"
      },
      "execution_count": null,
      "outputs": []
    },
    {
      "cell_type": "code",
      "source": [
        "previsores = modelo.predict(X_teste)\n",
        "\n",
        "cm = ConfusionMatrix(modelo, classes =[\"Não sobreviveu\", \"Sobreviveu\"])\n",
        "cm.score(X_teste,y_teste)\n",
        "cm.show()"
      ],
      "metadata": {
        "id": "Kz1Bq4ODln2a"
      },
      "execution_count": null,
      "outputs": []
    },
    {
      "cell_type": "code",
      "source": [
        "cm = ConfusionMatrix(modelo)\n",
        "cm.fit(X,y)\n",
        "cm.score(X,y)\n",
        "cm.show()"
      ],
      "metadata": {
        "id": "bUEKuqPUln5Z"
      },
      "execution_count": null,
      "outputs": []
    },
    {
      "cell_type": "code",
      "source": [
        "df = pd.read_csv(\"titanic.csv\")"
      ],
      "metadata": {
        "id": "t1Urq4tjln8F"
      },
      "execution_count": null,
      "outputs": []
    },
    {
      "cell_type": "code",
      "source": [
        "X= df[[\"Age\",\"Sex\",\"Pclasss\"]]\n",
        "y= df[\"Survived\"]"
      ],
      "metadata": {
        "id": "nyF3y5ImloA5"
      },
      "execution_count": null,
      "outputs": []
    },
    {
      "cell_type": "code",
      "source": [
        "from sklearn.model_selection import train_test_split\n",
        "\n",
        "X= pd.get_dummies(X,columns=[\"Sex\",\"Pclass\"])\n",
        "\n",
        "X_treino, X_teste, y_treino, y_teste = (X,y, teste_size=0.3, random_state=42)"
      ],
      "metadata": {
        "id": "bLkP-RGeloDp"
      },
      "execution_count": null,
      "outputs": []
    },
    {
      "cell_type": "code",
      "source": [
        "from sklearn.linear_model import LogistcRegression\n",
        "\n",
        "modelo = LogisticRegression()\n",
        "modelo.fit(X_treino,y_treino)\n",
        "\n",
        "\n",
        "previsoes = modelo.predict(X_teste)\n"
      ],
      "metadata": {
        "id": "MKgq9bOwloGf"
      },
      "execution_count": null,
      "outputs": []
    },
    {
      "cell_type": "code",
      "source": [
        "from sklearn.linear_model import LogistcRegression\n",
        "\n",
        "modelo = LogisticRegression()\n",
        "modelo.fit(X_treino,y_treino)\n",
        "\n",
        "\n",
        "previsoes = modelo.predict(X_teste)\n"
      ],
      "metadata": {
        "id": "hX5fyWtRlubp"
      },
      "execution_count": null,
      "outputs": []
    },
    {
      "cell_type": "code",
      "source": [
        "from sklearn.metrics import recall_score\n",
        "\n",
        "recall = recall_score(y_teste,previsoes)\n",
        "print(\"O valor do recall foi de: {:.2f}\".format(recall))"
      ],
      "metadata": {
        "id": "V_1w-CgTlufA"
      },
      "execution_count": null,
      "outputs": []
    },
    {
      "cell_type": "code",
      "source": [
        "from sklearn.metrics import f1_score\n",
        "\n",
        "f1= f1_score(y_teste,previsoes)\n",
        "\n",
        "print(f\"O valor do F1-Score é de: {f1}\")"
      ],
      "metadata": {
        "id": "49WbYjJQlumY"
      },
      "execution_count": null,
      "outputs": []
    },
    {
      "cell_type": "code",
      "source": [
        "from yellowbrick.classifier import ClassificationReport\n",
        "\n",
        "vis = ClassificationReport(modelo,support=True)\n",
        "vis.fit(X_treino,y_treino)\n",
        "vis.score(X_teste,y_teste)\n",
        "vis.show()\n"
      ],
      "metadata": {
        "id": "KsJen5SPloJW"
      },
      "execution_count": null,
      "outputs": []
    },
    {
      "cell_type": "code",
      "source": [
        "from sklearn.metrics import roc_auc_score\n",
        "\n",
        "auc_roc = roc_auc_score(y_teste,previsoes)\n",
        "\n",
        "print(\"AUC_ROC:\" auc_roc)"
      ],
      "metadata": {
        "id": "okq9Yt60loMg"
      },
      "execution_count": null,
      "outputs": []
    },
    {
      "cell_type": "code",
      "source": [
        "import pandas as pd\n",
        "import numpy as np\n",
        "from sklearn.metrics import mean_squared_error\n",
        "\n",
        "scaler = StandardScaler()\n",
        "scaler_df = scaler.fit_transform(dataframe)\n",
        "\n",
        "X_treino = scaler_df = scaler_df[:len(scaler_df)-252]\n",
        "X_teste = scaler_df[len(scaler_df)-252:]"
      ],
      "metadata": {
        "id": "s_TaVguZl1DD"
      },
      "execution_count": null,
      "outputs": []
    },
    {
      "cell_type": "code",
      "source": [
        "import pandas as pd\n",
        "import numpy as np\n",
        "from sklearn.metrics import mean_squared_error\n",
        "\n",
        "scaler = StandardScaler()\n",
        "scaler_df = scaler.fit_transform(dataframe)\n",
        "\n",
        "X_treino = scaler_df = scaler_df[:len(scaler_df)-252]\n",
        "X_teste = scaler_df[len(scaler_df)-252:]"
      ],
      "metadata": {
        "id": "cbiq7cGpl1GL"
      },
      "execution_count": null,
      "outputs": []
    },
    {
      "cell_type": "code",
      "source": [
        "modelo = LinearRegression()\n",
        "modelo.fit(X_treino,X_treino)\n",
        "\n",
        "predicoes = modelo.predict(X_teste)\n",
        "\n",
        "rmse = mean_squared_error(X_teste,predicoes,squared=False)\n",
        "\n",
        "print(f\"RMSE:{rmse}\")"
      ],
      "metadata": {
        "id": "6-osmOS3l1JU"
      },
      "execution_count": null,
      "outputs": []
    },
    {
      "cell_type": "code",
      "source": [
        "from sklearn.metrics import mean_absolute_error\n",
        "\n",
        "mae = mean_absolute_error(X_teste,predicoes)"
      ],
      "metadata": {
        "id": "9P_k3sySl1Nj"
      },
      "execution_count": null,
      "outputs": []
    },
    {
      "cell_type": "code",
      "source": [
        "from sklearn.metrics import r2_score\n",
        "\n",
        "r2 = r2_score=(X_teste,predicoes)\n",
        "print(f\"O valor de r2:{r2}$)\n"
      ],
      "metadata": {
        "id": "LLbgPXRcl1Qq"
      },
      "execution_count": null,
      "outputs": []
    }
  ]
}