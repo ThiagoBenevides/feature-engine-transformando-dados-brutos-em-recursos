{
  "nbformat": 4,
  "nbformat_minor": 0,
  "metadata": {
    "colab": {
      "provenance": []
    },
    "kernelspec": {
      "name": "python3",
      "display_name": "Python 3"
    },
    "language_info": {
      "name": "python"
    }
  },
  "cells": [
    {
      "cell_type": "markdown",
      "source": [
        "# Padronização de recursos"
      ],
      "metadata": {
        "id": "-GUZATSPhUQ1"
      }
    },
    {
      "cell_type": "code",
      "source": [
        "import numpy as np\n",
        "\n",
        "bova = [114.23,\t113.80,112.58,112.23,111.94,111.66,111.27,113.08,113.32,112.18,112.34]\n",
        "media_bova = np.mean(bova)"
      ],
      "metadata": {
        "id": "uWu9_ttthgIK"
      },
      "execution_count": null,
      "outputs": []
    },
    {
      "cell_type": "code",
      "source": [
        "desvio_padrao = np.std(bova)"
      ],
      "metadata": {
        "id": "eoCCyupLhgiJ"
      },
      "execution_count": null,
      "outputs": []
    },
    {
      "cell_type": "code",
      "source": [
        "bova_normalizada =[]\n",
        "for i in range(len(bova)):\n",
        "  normalizado = (bova[i]-media_bova)/desvio_padrao\n",
        "  bova_normalizada.append(normalizado)"
      ],
      "metadata": {
        "id": "KSKi-xo2hgk2"
      },
      "execution_count": null,
      "outputs": []
    },
    {
      "cell_type": "code",
      "source": [
        "def normaliza(dataframe):\n",
        "  dataframe_normalizado= dataframe.copy()\n",
        "  colunas = dataframe.columns[1:]\n",
        "  for coluna in colunas:\n",
        "    media = round(np.mean(dataframe_normalizado[coluna]),2)\n",
        "    std = round(np.std(dataframe_normalizado[coluna]),4)\n",
        "    dataframe_normalizado[coluna] = (dataframe_normalizado[coluna]-media)/std\n",
        "  \n",
        "  return dataframe_normalizado"
      ],
      "metadata": {
        "id": "r2wggCNhhgn-"
      },
      "execution_count": null,
      "outputs": []
    },
    {
      "cell_type": "code",
      "source": [
        "data =[\"2020-01-02\",\"2020-01-03\",\"2020-01-06\",\"2020-01-07\",\"2020-01-08\",\"2020-01-09\",\"2020-01-10\",\"2020-01-13\",\"2020-01-14\",\"2020-01-15\",\"2020-01-16\"]\n",
        "bova = [114.23,\t113.80,112.58,112.23,111.94,111.66,111.27,113.08,113.32,112.18,112.34]\n",
        "fesa = [19.79,19.91,19.62,19.69,19.88,19.51,19.86,20.07,20.40,21.00,21.48]\n",
        "grnd = [12.30,12.43,12.28,12.91,12.87,12.43,12.40,12.30,12.44,12.19,12.19]\n",
        "\n",
        "dataframe = pd.DataFrame({\"data\":data,\"BOVA\":bova,\"FESA\":fesa,\"GRIND\":grnd})"
      ],
      "metadata": {
        "id": "AUtZy8dnhgqm"
      },
      "execution_count": null,
      "outputs": []
    },
    {
      "cell_type": "code",
      "source": [
        "dataframe_normalizado = normaliza(dataframe)"
      ],
      "metadata": {
        "id": "4XXwQT30hgs5"
      },
      "execution_count": null,
      "outputs": []
    },
    {
      "cell_type": "code",
      "source": [
        "\n",
        "data =[\"2020-01-02\",\"2020-01-03\",\"2020-01-06\",\"2020-01-07\",\"2020-01-08\",\"2020-01-09\",\"2020-01-10\",\"2020-01-13\",\"2020-01-14\",\"2020-01-15\",\"2020-01-16\"]\n",
        "bova = [114.23,\t113.80,112.58,112.23,111.94,111.66,111.27,113.08,113.32,112.18,112.34]\n",
        "fesa = [19.79,19.91,19.62,19.69,19.88,19.51,19.86,20.07,20.40,21.00,21.48]\n",
        "grnd = [12.30,12.43,12.28,12.91,12.87,12.43,12.40,12.30,12.44,12.19,12.19]\n",
        "\n",
        "dataframe = pd.DataFrame({\"data\":data,\"BOVA\":bova,\"FESA\":fesa,\"GRIND\":grind})\n",
        "dataframe.head()"
      ],
      "metadata": {
        "id": "AfgbWrSlhgvy"
      },
      "execution_count": null,
      "outputs": []
    },
    {
      "cell_type": "code",
      "source": [
        "bova = dataframe[\"BOVA\"].copy()"
      ],
      "metadata": {
        "id": "PZDvmCZihgya"
      },
      "execution_count": null,
      "outputs": []
    },
    {
      "cell_type": "code",
      "source": [
        "bova"
      ],
      "metadata": {
        "id": "ifPjaZW_hg1K"
      },
      "execution_count": null,
      "outputs": []
    },
    {
      "cell_type": "code",
      "source": [
        "media = round(np.mean(bova),2)\n",
        "std = round(np.std(bova),4)\n"
      ],
      "metadata": {
        "id": "mmGeMZdwhg4A"
      },
      "execution_count": null,
      "outputs": []
    },
    {
      "cell_type": "code",
      "source": [
        "bova_normalizado = round((bova-media)/std,5)"
      ],
      "metadata": {
        "id": "2ozmcw2fhg63"
      },
      "execution_count": null,
      "outputs": []
    },
    {
      "cell_type": "code",
      "source": [
        "bova_normalizado"
      ],
      "metadata": {
        "id": "ZttliJPlhg9Z"
      },
      "execution_count": null,
      "outputs": []
    },
    {
      "cell_type": "code",
      "source": [
        "print(f\"\"\"Média: {round(np.mean(bova_normalizado),2)}\n",
        " Desvio padrão:{round(np.std(bova_normalizado),2)}\"\"\")"
      ],
      "metadata": {
        "id": "snn1JSfVhhAJ"
      },
      "execution_count": null,
      "outputs": []
    },
    {
      "cell_type": "code",
      "source": [
        "def normaliza(dataframe):\n",
        "  dataframe_normalizado= dataframe.copy()\n",
        "  colunas = dataframe.columns[1:]\n",
        "  for coluna in colunas:\n",
        "    media = round(np.mean(dataframe_normalizado[coluna]),2)\n",
        "    std = round(np.std(dataframe_normalizado[coluna]),4)\n",
        "    dataframe_normalizado[coluna] = (dataframe_normalizado[coluna]-media)/std\n",
        "  \n",
        "  return dataframe_normalizado"
      ],
      "metadata": {
        "id": "n98dLgawhhDE"
      },
      "execution_count": null,
      "outputs": []
    },
    {
      "cell_type": "code",
      "source": [
        "dataframe_normalizado"
      ],
      "metadata": {
        "id": "AGy4exkbhhF4"
      },
      "execution_count": null,
      "outputs": []
    },
    {
      "cell_type": "code",
      "source": [
        "def calcula(dataframe):\n",
        "  colunas = dataframe.columns[1:]\n",
        "  for coluna in colunas:\n",
        "    print(f\"\"\"Ação: {coluna}\n",
        "          Média: {round(np.mean(dataframe[coluna]),2)}\n",
        "          Desvio padrão: {round(np.std(dataframe[coluna]),2)}\"\"\")"
      ],
      "metadata": {
        "id": "hbwKGT71hhIy"
      },
      "execution_count": null,
      "outputs": []
    },
    {
      "cell_type": "code",
      "source": [
        "calcula(dataframe_normalizado)"
      ],
      "metadata": {
        "id": "jOSWAO16hhLq"
      },
      "execution_count": null,
      "outputs": []
    },
    {
      "cell_type": "code",
      "source": [
        "normalizados =[]\n",
        "for i in range(len(bova)):\n",
        " aux = (bova[i]-media)/(maximo-minimo)\n",
        " normalizados.append(aux)"
      ],
      "metadata": {
        "id": "v1qgl-jshhOQ"
      },
      "execution_count": null,
      "outputs": []
    },
    {
      "cell_type": "code",
      "source": [
        "def dimen_media(dataframe):\n",
        "  dataframe_normalizado= dataframe.copy()\n",
        "  colunas = dataframe.columns[1:]\n",
        "  for coluna in colunas:\n",
        "    media = round(np.mean(dataframe_normalizado[coluna]),2)\n",
        "    min = dataframe[coluna].min()\n",
        "    max = dataframe[coluna].max()\n",
        "    dataframe_normalizado[coluna] = round((dataframe_normalizado[coluna]-media)/(max-min),5)\n",
        "  \n",
        "  return dataframe_normalizado"
      ],
      "metadata": {
        "id": "WkMX_8CPhhRJ"
      },
      "execution_count": null,
      "outputs": []
    },
    {
      "cell_type": "code",
      "source": [
        "minimo= np.min(bova)\n",
        "maximo = np.max(bova)\n",
        "min_max = maximo - minimo\n",
        "padronizados =[]\n",
        "for i in range(len(bova)):\n",
        "  aux = (bova[i]-minimo)/(maximo-minimo)\n",
        "  padronizados.append(aux)"
      ],
      "metadata": {
        "id": "__p2oBIBhhTi"
      },
      "execution_count": null,
      "outputs": []
    },
    {
      "cell_type": "code",
      "source": [
        "def min_max(dataframe):\n",
        "  dataframe_normalizado= dataframe.copy()\n",
        "  colunas = dataframe.columns[1:]\n",
        "  for coluna in colunas:\n",
        "    min = dataframe_normalizado[coluna].min()\n",
        "    max = dataframe_normalizado[coluna].max()\n",
        "    dataframe_normalizado[coluna] = round((dataframe_normalizado[coluna]-min)/(max-min),5)\n",
        "  \n",
        "  return dataframe_normalizado\n"
      ],
      "metadata": {
        "id": "nfHEWU_dhhWY"
      },
      "execution_count": null,
      "outputs": []
    },
    {
      "cell_type": "code",
      "source": [
        "dataframe_min_max = min_max(dataframe)"
      ],
      "metadata": {
        "id": "_TsDFyRfhhY0"
      },
      "execution_count": null,
      "outputs": []
    },
    {
      "cell_type": "code",
      "source": [
        "quantil1 = dataframe[\"BOVA\"].quantile(0.25)\n",
        "quantil2 = dataframe[\"BOVA\"].quantile(0.75)"
      ],
      "metadata": {
        "id": "LHlgBSXZhhbn"
      },
      "execution_count": null,
      "outputs": []
    },
    {
      "cell_type": "code",
      "source": [
        "def escala_robusta(dataframe):\n",
        "  dataframe_copia= dataframe.copy()\n",
        "  colunas = dataframe.columns[1:]\n",
        "  for coluna in colunas:\n",
        "    primeiro = dataframe_copia[coluna].quantile(0.25)\n",
        "    terceiro = dataframe_copia[coluna].quantile(0.75)\n",
        "    mediana = dataframe_copia[coluna].median()\n",
        "    dataframe_copia[coluna] = (dataframe_copia[coluna]-mediana)/(terceiro-primeiro)\n",
        "\n",
        "  return dataframe_copia"
      ],
      "metadata": {
        "id": "DBu7alaLhhd6"
      },
      "execution_count": null,
      "outputs": []
    },
    {
      "cell_type": "code",
      "source": [
        "dataframe_quantile = escala_robusta(dataframe)"
      ],
      "metadata": {
        "id": "8XZkeM-SiDjq"
      },
      "execution_count": null,
      "outputs": []
    },
    {
      "cell_type": "markdown",
      "source": [
        "# Padronização de valores de ações da bolsa"
      ],
      "metadata": {
        "id": "t8loiHcLiDm8"
      }
    },
    {
      "cell_type": "code",
      "source": [
        "!pip install yfinance\n",
        "import yfinance as yf"
      ],
      "metadata": {
        "id": "pXernQRWiDqE"
      },
      "execution_count": null,
      "outputs": []
    },
    {
      "cell_type": "code",
      "source": [
        "google = yf.download(\"GOGL34.SA\",start=\"2020-01-01\", end=\"2020-12-30\")"
      ],
      "metadata": {
        "id": "3nGyyigdiDtE"
      },
      "execution_count": null,
      "outputs": []
    },
    {
      "cell_type": "code",
      "source": [
        "acoes = [\"GOGL34.SA\",\"ITSA4.SA\",\"BBDC4.SA\",\"BOVA11.SA\",\"PETR3.SA\"]\n",
        "carteira = pd.DataFrame()\n",
        "for acao in acoes:\n",
        "  carteira[acao] = yf.download(acao, start='2020-01-01',end=\"2020-12-31\")['Open']\n",
        "\n",
        "carteira.to_csv(\"carteira.csv\")\n",
        "carteira =pd.read_csv(\"carteira.csv\")"
      ],
      "metadata": {
        "id": "BF3RtoOkiDwb"
      },
      "execution_count": null,
      "outputs": []
    },
    {
      "cell_type": "code",
      "source": [
        "carteira.plot(x = 'Date', figsize = (15,7), title = 'Histórico do preço de abertura das ações da carteira')"
      ],
      "metadata": {
        "id": "QGDcyeiNiDza"
      },
      "execution_count": null,
      "outputs": []
    },
    {
      "cell_type": "code",
      "source": [
        "from sklearn.preprocessing import StandardScaler\n",
        "\n",
        "padronizacao = StandardScaler()"
      ],
      "metadata": {
        "id": "drLJFuNOhhgc"
      },
      "execution_count": null,
      "outputs": []
    },
    {
      "cell_type": "code",
      "source": [
        "padronizacao.fit(carteira[['GOGL34.SA', 'ITSA4.SA', 'BBDC4.SA', 'BOVA11.SA', 'PETR3.SA']])"
      ],
      "metadata": {
        "id": "ha07iUeUiSgh"
      },
      "execution_count": null,
      "outputs": []
    },
    {
      "cell_type": "code",
      "source": [
        "print(f\"\"\"Médias calculadas pelo StandardScale: {padronizacao.mean_}\n",
        "Desvios padrão calculados pelo StandardScale: {padronizacao.scale_}  \"\"\")"
      ],
      "metadata": {
        "id": "mlqcIAjciSjg"
      },
      "execution_count": null,
      "outputs": []
    },
    {
      "cell_type": "code",
      "source": [
        "Médias calculadas pelo StandardScale: [51.14995257  9.88275685 19.16898476 95.05173388 23.06024189]\n",
        "Desvios padrão calculados pelo StandardScale: [ 8.19093997  1.46957232  3.42418922 12.97476596  5.02895455]"
      ],
      "metadata": {
        "id": "NwFB_FmqiSp3"
      },
      "execution_count": null,
      "outputs": []
    },
    {
      "cell_type": "code",
      "source": [
        "carteira_norm = padronizacao.transform(carteira[['GOGL34.SA', 'ITSA4.SA', 'BBDC4.SA', 'BOVA11.SA', 'PETR3.SA']])\n",
        "carteira_norm = pd.DataFrame(carteira_norm,columns=['GOGL34.SA', 'ITSA4.SA', 'BBDC4.SA', 'BOVA11.SA', 'PETR3.SA'])\n",
        "carteira_norm[\"Data\"] =carteira[\"Date\"]"
      ],
      "metadata": {
        "id": "krHHO3bLiStM"
      },
      "execution_count": null,
      "outputs": []
    },
    {
      "cell_type": "code",
      "source": [
        " from statsmodels.tsa.arima_model import ARIMA"
      ],
      "metadata": {
        "id": "2H1I2qeLiSwa"
      },
      "execution_count": null,
      "outputs": []
    },
    {
      "cell_type": "code",
      "source": [
        "\n",
        "modelo = Arima(carteira[\"GOGL34.SA\"],order=(2,0,1))"
      ],
      "metadata": {
        "id": "RNC68wIUiSzR"
      },
      "execution_count": null,
      "outputs": []
    },
    {
      "cell_type": "code",
      "source": [
        "resultados = modelo.fit()\n",
        "resultados.predict(start=-len(carteira))"
      ],
      "metadata": {
        "id": "Fxaxui2EiS2Z"
      },
      "execution_count": null,
      "outputs": []
    },
    {
      "cell_type": "code",
      "source": [
        "from sklearn.metrics import mean_absolute_error"
      ],
      "metadata": {
        "id": "ZfBqCkCiiY3A"
      },
      "execution_count": null,
      "outputs": []
    },
    {
      "cell_type": "code",
      "source": [
        "mean_absolute_error(carteira[\"GOGL34.SA\"],predicoes)"
      ],
      "metadata": {
        "id": "lHNVaP8diY6s"
      },
      "execution_count": null,
      "outputs": []
    },
    {
      "cell_type": "code",
      "source": [
        "from sklearn.preprocessing import RobustScaler"
      ],
      "metadata": {
        "id": "pBUxJ9CtiY-V"
      },
      "execution_count": null,
      "outputs": []
    },
    {
      "cell_type": "code",
      "source": [
        "robusta = RobustScaler()\n",
        "robusta.fit(carteira[['GOGL34.SA', 'ITSA4.SA', 'BBDC4.SA', 'BOVA11.SA', 'PETR3.SA']])"
      ],
      "metadata": {
        "id": "MwtjaZTriZFi"
      },
      "execution_count": null,
      "outputs": []
    },
    {
      "cell_type": "code",
      "source": [
        "print(f\"\"\"Centro calculado:{robusta.center_}\n",
        "Escala calculada:{robusta.scale_}\"\"\")"
      ],
      "metadata": {
        "id": "Du3m0G3ZiZIo"
      },
      "execution_count": null,
      "outputs": []
    },
    {
      "cell_type": "code",
      "source": [
        "dataframe_robusto = robusta.transform(carteira[['GOGL34.SA', 'ITSA4.SA', 'BBDC4.SA', 'BOVA11.SA', 'PETR3.SA']])\n",
        "dataframe_robusto = pd.DataFrame(carteira, columns=['GOGL34.SA', 'ITSA4.SA', 'BBDC4.SA', 'BOVA11.SA', 'PETR3.SA'])\n",
        "dataframe_robusto[\"data\"] = carteira[\"Date\"]"
      ],
      "metadata": {
        "id": "ziwWZcl0iZLi"
      },
      "execution_count": null,
      "outputs": []
    },
    {
      "cell_type": "code",
      "source": [
        "modelo_robusto = ARIMA(dataframe_robusto[\"GOGL34.SA\"],order=(2,0,1))\n",
        "results = modelo_robusto.fit()"
      ],
      "metadata": {
        "id": "ICjfMPSsiZOh"
      },
      "execution_count": null,
      "outputs": []
    },
    {
      "cell_type": "code",
      "source": [
        "predicoes_robusta = results.predict(-248)"
      ],
      "metadata": {
        "id": "Bij_06bwif3i"
      },
      "execution_count": null,
      "outputs": []
    },
    {
      "cell_type": "code",
      "source": [
        "mean_absolute_error(dataframe_robusto[\"GOGL34.SA\"],predicoes_robusta)"
      ],
      "metadata": {
        "id": "ifn3uK7viZRZ"
      },
      "execution_count": null,
      "outputs": []
    },
    {
      "cell_type": "code",
      "source": [
        "from sklearn.preprocessing import StandardScaler, RobustScaler"
      ],
      "metadata": {
        "id": "0g9z7rNgiihw"
      },
      "execution_count": null,
      "outputs": []
    },
    {
      "cell_type": "code",
      "source": [
        "standardscaler = StandardScaler(with_mean=True, with_std=False)"
      ],
      "metadata": {
        "id": "KWowFdh5iilg"
      },
      "execution_count": null,
      "outputs": []
    },
    {
      "cell_type": "code",
      "source": [
        "robustscaler = RobustScaler(with_centering=False,with_scaling=True, quantile_range=(0,100))"
      ],
      "metadata": {
        "id": "mVZJQ12Fiipp"
      },
      "execution_count": null,
      "outputs": []
    },
    {
      "cell_type": "code",
      "source": [
        "standardscaler.fit(carteira[['GOGL34.SA', 'ITSA4.SA', 'BBDC4.SA', 'BOVA11.SA', 'PETR3.SA']])\n",
        "robustscaler.fit(carteira[['GOGL34.SA', 'ITSA4.SA', 'BBDC4.SA', 'BOVA11.SA', 'PETR3.SA']])"
      ],
      "metadata": {
        "id": "lX4P6cWeiisz"
      },
      "execution_count": null,
      "outputs": []
    },
    {
      "cell_type": "code",
      "source": [
        "dataframe_media = standardscaler.transform(robustscaler.transform(carteira[['GOGL34.SA', 'ITSA4.SA', 'BBDC4.SA', 'BOVA11.SA', 'PETR3.SA']]))"
      ],
      "metadata": {
        "id": "oAXCIsFNiivS"
      },
      "execution_count": null,
      "outputs": []
    },
    {
      "cell_type": "code",
      "source": [
        "dataframe_media = pd.DataFrame(dataframe_media, columns=['GOGL34.SA', 'ITSA4.SA', 'BBDC4.SA', 'BOVA11.SA', 'PETR3.SA'])\n",
        "dataframe_media[\"data\"] = carteira[\"Date\"]"
      ],
      "metadata": {
        "id": "5yRCmmgQiiyO"
      },
      "execution_count": null,
      "outputs": []
    },
    {
      "cell_type": "code",
      "source": [
        "modelo_media = ARIMA(dataframe_media[\"GOGL34.SA\"],order=(2,0,1))\n",
        "resultado_media = modelo_media.fit()"
      ],
      "metadata": {
        "id": "HiZS_2Yvii1O"
      },
      "execution_count": null,
      "outputs": []
    },
    {
      "cell_type": "code",
      "source": [
        "predicoes_media = resultado_media.predict(-248)"
      ],
      "metadata": {
        "id": "yHqnPaSsii4C"
      },
      "execution_count": null,
      "outputs": []
    },
    {
      "cell_type": "code",
      "source": [
        "mean_absolute_error(dataframe_robusto[\"GOGL34.SA\"],predicoes_media)"
      ],
      "metadata": {
        "id": "EYaGQPvzii7S"
      },
      "execution_count": null,
      "outputs": []
    }
  ]
}