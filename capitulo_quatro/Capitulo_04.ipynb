{
  "nbformat": 4,
  "nbformat_minor": 0,
  "metadata": {
    "colab": {
      "provenance": []
    },
    "kernelspec": {
      "name": "python3",
      "display_name": "Python 3"
    },
    "language_info": {
      "name": "python"
    }
  },
  "cells": [
    {
      "cell_type": "markdown",
      "source": [
        "# Codificação de valores categóricos"
      ],
      "metadata": {
        "id": "FQ-z9f-ui3At"
      }
    },
    {
      "cell_type": "code",
      "source": [
        "import pandas as pd\n",
        "nome = [\"Paula\",\"Ana\",\"Denise\",\"Arthur\",\"Maria\",\"Thiago\",\"Alan\",\"Catarina\",\"Marcos\",\"José\"]\n",
        "turno =[\"Primeiro\",\"Segundo\",\"Primeiro\",\"Segundo\",\"Primeiro\",\"Segundo\",\"Primeiro\",\"Primeiro\",\"Segundo\",\"Primeiro\"]\n",
        "dataframe = pd.DataFrame({\"nome\":nome,\"turno\":turno})"
      ],
      "metadata": {
        "id": "Aw-zn1SwjENS"
      },
      "execution_count": null,
      "outputs": []
    },
    {
      "cell_type": "code",
      "source": [
        "\n",
        "turno = pd.get_dummies(dataframe[[\"turno\"]])\n",
        "turno.head()"
      ],
      "metadata": {
        "id": "CXfLOMaljE5_"
      },
      "execution_count": null,
      "outputs": []
    },
    {
      "cell_type": "code",
      "source": [
        "0.4+0.3+0.1+0.1+0.1 = 1"
      ],
      "metadata": {
        "id": "rqUPPVZfjE9H"
      },
      "execution_count": null,
      "outputs": []
    },
    {
      "cell_type": "code",
      "source": [
        "import pandas as pd\n",
        "\n",
        "nome = [\"Paula\",\"Ana\",\"Denise\",\"Arthur\",\"Maria\",\"Thiago\",\"Alan\",\"Catarina\",\"Marcos\",\"José\"]\n",
        "turno =[\"Primeiro\",\"Segundo\",\"Primeiro\",\"Segundo\",\"Primeiro\",\"Segundo\",\"Primeiro\",\"Primeiro\",\"Segundo\",\"Primeiro\"]\n",
        "cidade = [\"Curitiba\",\"Curitiba\",\"Cascável\",\"Cascável\",\"Maringá\",\"Indaiatuba\",\"Cascável\",\"Cascável\",\"Curitiba\",\"Ponta Grossa\",\"Curitba\"]\n",
        "\n",
        "dataframe= pd.DataFrame({\"nome\":nome,\"turno\":turno,\"cidade\":cidade})"
      ],
      "metadata": {
        "id": "_EX0AtiGjFAD"
      },
      "execution_count": null,
      "outputs": []
    },
    {
      "cell_type": "code",
      "source": [
        "contagem_cidade = dataframe[\"cidade\"].value_counts().to_dict()"
      ],
      "metadata": {
        "id": "QEOjER03jFF_"
      },
      "execution_count": null,
      "outputs": []
    },
    {
      "cell_type": "code",
      "source": [
        "contagem_cidade"
      ],
      "metadata": {
        "id": "8LjTN8CUjFJh"
      },
      "execution_count": null,
      "outputs": []
    },
    {
      "cell_type": "code",
      "source": [
        "contagem_cidade = Dict(dataframe[\"cidade\"].value_counts())\n",
        "\n",
        "print(contagem_cidade)\n",
        "\n",
        "{\"Curitiba\":4, \"Cascável\":3, \"Maringá\":1,\"Indaiatuba\":1,\"Ponta Grossa\":1}"
      ],
      "metadata": {
        "id": "FoWx6t80jFM_"
      },
      "execution_count": null,
      "outputs": []
    },
    {
      "cell_type": "code",
      "source": [
        "dataframe[\"cidade\"] = dataframe[\"cidade\"].map(contagem_cidade)"
      ],
      "metadata": {
        "id": "z2KpqHVtjFQR"
      },
      "execution_count": null,
      "outputs": []
    },
    {
      "cell_type": "code",
      "source": [
        "def codificacao_frequencia(dataframe,coluna):\n",
        "    aux = (dataframe[coluna].value_counts()/len(dataframe[coluna])).to_dict()\n",
        "    coluna_aux = dataframe[coluna].map(aux)\n",
        "\n",
        "    return coluna_aux"
      ],
      "metadata": {
        "id": "-Ye4TRYbjFTd"
      },
      "execution_count": null,
      "outputs": []
    },
    {
      "cell_type": "code",
      "source": [
        "nome = [\"Paula\",\"Ana\",\"Denise\",\"Arthur\",\"Maria\",\"Thiago\",\"Alan\",\"Catarina\",\"Marcos\",\"José\"]\n",
        "turno =[\"Primeiro\",\"Segundo\",\"Primeiro\",\"Segundo\",\"Primeiro\",\"Segundo\",\"Primeiro\",\"Primeiro\",\"Segundo\",\"Primeiro\"]\n",
        "cidade = [\"Curitiba\",\"Curitiba\",\"Cascável\",\"Cascável\",\"Maringá\",\"Indaiatuba\",\"Cascável\",\"Cascável\",\"Curitiba\",\"Ponta Grossa\"  ]\n",
        "idade =[18,18,17,19,21,22,23,25,18,17]\n",
        "\n",
        "dataframe= pd.DataFrame({\"nome\":nome,\"turno\":turno,\"cidade\":cidade,\"idade\":idade})"
      ],
      "metadata": {
        "id": "16lZL0dPjFWr"
      },
      "execution_count": null,
      "outputs": []
    },
    {
      "cell_type": "code",
      "source": [
        "def grafico(dataframe,coluna1,coluna2): \n",
        "  plt.figure(figsize=(12,7))\n",
        "  dataframe.groupby(coluna1)[coluna2].mean().plot()\n",
        "  texto = f\"Relação entre a {coluna1} e a media do {coluna2}\"\n",
        "  plt.title(texto)\n",
        "  plt.ylabel(coluna2)"
      ],
      "metadata": {
        "id": "Dl_ConkFjFZT"
      },
      "execution_count": null,
      "outputs": []
    },
    {
      "cell_type": "code",
      "source": [
        "rotulos_ordenados = dataframe.groupby([\"Cidade\"])[\"Idade\"].mean().sort_values().index"
      ],
      "metadata": {
        "id": "wj3_pea3jFcL"
      },
      "execution_count": null,
      "outputs": []
    },
    {
      "cell_type": "code",
      "source": [
        "Index(['Ponta Grossa', 'Curitiba', 'Cascável', 'Maringá', 'Indaiatuba'], dtype='object', name='cidade')"
      ],
      "metadata": {
        "id": "D6WNJQ7vjFfI"
      },
      "execution_count": null,
      "outputs": []
    },
    {
      "cell_type": "code",
      "source": [
        "ordinal = {k:i for i, k in enumerate(rotulos_ordenados,0)}"
      ],
      "metadata": {
        "id": "cMxE7hz4jFiY"
      },
      "execution_count": null,
      "outputs": []
    },
    {
      "cell_type": "code",
      "source": [
        "dataframe[\"cidade\"] = dataframe[\"cidade\"].map(ordinal)"
      ],
      "metadata": {
        "id": "P2IYVzRbjFlu"
      },
      "execution_count": null,
      "outputs": []
    },
    {
      "cell_type": "code",
      "source": [
        "grafico(dataframe,\"cidade\",\"idade\")"
      ],
      "metadata": {
        "id": "eAzF4960jFqh"
      },
      "execution_count": null,
      "outputs": []
    },
    {
      "cell_type": "code",
      "source": [
        "dataframe[\"Cidade\"] = dataframe[\"Cidade\"].map(ordinal)"
      ],
      "metadata": {
        "id": "W2fsSSRDjFui"
      },
      "execution_count": null,
      "outputs": []
    },
    {
      "cell_type": "markdown",
      "source": [
        "# Projeto prático"
      ],
      "metadata": {
        "id": "EcYxhj46jFyT"
      }
    },
    {
      "cell_type": "code",
      "source": [
        "import pandas as pd\n",
        "\n",
        "dataframe = pd.read_csv(\"projeto2.csv\")\n",
        "dataframe.drop(columns=[\"Unnamed: 0\"],inplace=True)"
      ],
      "metadata": {
        "id": "AHE0XGRAjF1Y"
      },
      "execution_count": null,
      "outputs": []
    },
    {
      "cell_type": "code",
      "source": [
        "from sklearn.model_selection import train_test_split\n",
        "\n",
        "X_treino, X_teste, y_treino, y_teste = train_test_split(dataframe.drop(\"Survived\",axis=1),dataframe[\"Survived\"],test_size=0.3,random_state=0)"
      ],
      "metadata": {
        "id": "Q6UNO78FjkRX"
      },
      "execution_count": null,
      "outputs": []
    },
    {
      "cell_type": "code",
      "source": [
        "from sklearn.preprocessing import OneHotEncoder"
      ],
      "metadata": {
        "id": "ZCmYYKInjkUm"
      },
      "execution_count": null,
      "outputs": []
    },
    {
      "cell_type": "code",
      "source": [
        "ohe = OneHotEncoder(categories= \"auto\",drop=\"first\", sparse= False)"
      ],
      "metadata": {
        "id": "gMjHNuuMjkaO"
      },
      "execution_count": null,
      "outputs": []
    },
    {
      "cell_type": "code",
      "source": [
        "ohe.fit(X_treino[[\"Sex\",\"Embarked\"]])"
      ],
      "metadata": {
        "id": "Kh3ro7WsjkdK"
      },
      "execution_count": null,
      "outputs": []
    },
    {
      "cell_type": "code",
      "source": [
        "treino_onehot = ohe.transform(X_treino[[\"Sex\",\"Embarked\"]])\n",
        "teste_onehot = ohe.transform(X_teste[[\"Sex\",\"Embarked\"]])"
      ],
      "metadata": {
        "id": "ElmNhl5-jkjC"
      },
      "execution_count": null,
      "outputs": []
    },
    {
      "cell_type": "code",
      "source": [
        "treino_onhot"
      ],
      "metadata": {
        "id": "Do4NtS9rjkmr"
      },
      "execution_count": null,
      "outputs": []
    },
    {
      "cell_type": "code",
      "source": [
        "from feature_engine.encoding import OneHotEncoder"
      ],
      "metadata": {
        "id": "vEPTT__hjkum"
      },
      "execution_count": null,
      "outputs": []
    },
    {
      "cell_type": "code",
      "source": [
        "ohe_fe = OneHotEncoder(top_categories=None,variables=[\"Sex\",\"Embarked\"],drop_last=True)"
      ],
      "metadata": {
        "id": "CwRPNRVYjkzA"
      },
      "execution_count": null,
      "outputs": []
    },
    {
      "cell_type": "code",
      "source": [
        "ohe_fe.fit(X_treino)"
      ],
      "metadata": {
        "id": "o0sw5_3Mjk3v"
      },
      "execution_count": null,
      "outputs": []
    },
    {
      "cell_type": "code",
      "source": [
        "treino_ohe_fe = ohe_fe.transform(X_treino)\n",
        "teste_ohe_fe = ohe_fe.transform(X_teste)"
      ],
      "metadata": {
        "id": "rg-DlttOjk7H"
      },
      "execution_count": null,
      "outputs": []
    },
    {
      "cell_type": "code",
      "source": [
        "from feature_engine.encoding import CountFrequencyEncoder"
      ],
      "metadata": {
        "id": "bYLaoKnqjk-m"
      },
      "execution_count": null,
      "outputs": []
    },
    {
      "cell_type": "code",
      "source": [
        "contagem = CountFrequencyEncoder(encoding_method=\"count\",variables=[\"Sex\",\"Embarked\"])"
      ],
      "metadata": {
        "id": "v_F5oukqj2R8"
      },
      "execution_count": null,
      "outputs": []
    },
    {
      "cell_type": "code",
      "source": [
        "contagem = CountFrequencyEncoder(encoding_method=\"count\",variables=[\"Sex\",\"Embarked\"])"
      ],
      "metadata": {
        "id": "pEhcEVPXj2Vj"
      },
      "execution_count": null,
      "outputs": []
    },
    {
      "cell_type": "code",
      "source": [
        "contagem.fit(X_treino)"
      ],
      "metadata": {
        "id": "nPAJOIq7j2ZG"
      },
      "execution_count": null,
      "outputs": []
    },
    {
      "cell_type": "code",
      "source": [
        "contagem.encoder_dict_"
      ],
      "metadata": {
        "id": "qzqa7Yh1j59z"
      },
      "execution_count": null,
      "outputs": []
    },
    {
      "cell_type": "code",
      "source": [
        "treino_contagem = contagem.transform(X_treino)\n",
        "teste_contagem = contagem.transform(X_teste)"
      ],
      "metadata": {
        "id": "oXaCdFNHj6A_"
      },
      "execution_count": null,
      "outputs": []
    },
    {
      "cell_type": "code",
      "source": [
        "treino_contagem.head(3)"
      ],
      "metadata": {
        "id": "0eEnJ_d1j6Dn"
      },
      "execution_count": null,
      "outputs": []
    },
    {
      "cell_type": "code",
      "source": [
        "teste_contagem.head(3)"
      ],
      "metadata": {
        "id": "ipro_Mesj6Iu"
      },
      "execution_count": null,
      "outputs": []
    },
    {
      "cell_type": "code",
      "source": [
        "frequencia = CountFrequencyEncoder(encoding_method=\"frequency\",variables=[\"Sex\",\"Embarked\"])"
      ],
      "metadata": {
        "id": "y9ADRI7Vj6Ls"
      },
      "execution_count": null,
      "outputs": []
    },
    {
      "cell_type": "code",
      "source": [
        "frequencia.fit(X_treino)"
      ],
      "metadata": {
        "id": "W8_nPMYoj6Oy"
      },
      "execution_count": null,
      "outputs": []
    },
    {
      "cell_type": "code",
      "source": [
        "treino_frequencia = frequencia.transform(X_treino)\n",
        "teste_frequencia = frequencia.transform(X_teste)"
      ],
      "metadata": {
        "id": "Rl_nxsMOj6SB"
      },
      "execution_count": null,
      "outputs": []
    },
    {
      "cell_type": "code",
      "source": [
        "treino_contagem.head(3)"
      ],
      "metadata": {
        "id": "ZSQTPxXEkA8J"
      },
      "execution_count": null,
      "outputs": []
    },
    {
      "cell_type": "code",
      "source": [
        "teste_contagem.head(3)"
      ],
      "metadata": {
        "id": "yyr2gfPnkA_S"
      },
      "execution_count": null,
      "outputs": []
    },
    {
      "cell_type": "code",
      "source": [
        "from feature_engine.encoding import OrdinalEncoder"
      ],
      "metadata": {
        "id": "i06g59RSkBEF"
      },
      "execution_count": null,
      "outputs": []
    },
    {
      "cell_type": "code",
      "source": [
        "ordinal = OrdinalEncoder(encoding_method=\"ordered\", variables=[\"Sex\",\"Embarked\"])"
      ],
      "metadata": {
        "id": "3SebpWtxkBHO"
      },
      "execution_count": null,
      "outputs": []
    },
    {
      "cell_type": "code",
      "source": [
        "ordinal.fit(X_treino,y_treino)"
      ],
      "metadata": {
        "id": "2mWlsfSlkBKo"
      },
      "execution_count": null,
      "outputs": []
    },
    {
      "cell_type": "code",
      "source": [
        "ordinal.encoder_dict_"
      ],
      "metadata": {
        "id": "JlmSuV88kBNu"
      },
      "execution_count": null,
      "outputs": []
    },
    {
      "cell_type": "code",
      "source": [
        "treino_ordinal = ordinal.transform(X_treino)\n",
        "teste_ordinal = ordinal.transform(X_teste)"
      ],
      "metadata": {
        "id": "rrNXCEbbkGyf"
      },
      "execution_count": null,
      "outputs": []
    },
    {
      "cell_type": "code",
      "source": [
        "treino_contagem.head(3)"
      ],
      "metadata": {
        "id": "BJ8iWUHskG14"
      },
      "execution_count": null,
      "outputs": []
    },
    {
      "cell_type": "code",
      "source": [
        "teste_contagem.head(3)"
      ],
      "metadata": {
        "id": "1AarZ4x-kG4k"
      },
      "execution_count": null,
      "outputs": []
    },
    {
      "cell_type": "code",
      "source": [
        " def grafico(dataframe,coluna1,coluna2): \n",
        "  plt.figure(figsize=(12,7))\n",
        "  dataframe.groupby(coluna1)[coluna2].mean().plot()\n",
        "  texto = f\"Relação entre a {coluna1} e a media do {coluna2}\"\n",
        "  plt.title(texto)\n",
        "  plt.ylabel(coluna2)"
      ],
      "metadata": {
        "id": "ul-hG2UskG7q"
      },
      "execution_count": null,
      "outputs": []
    },
    {
      "cell_type": "code",
      "source": [
        " sex_treino = X_treino[\"Sex\"]\n",
        "embarked_treino = X_treino[\"Embarked\"]\n",
        "\n",
        "temp = pd.concat([sex_treino,embarked_treino, y_treino], axis=1)"
      ],
      "metadata": {
        "id": "Bpc-iS4gkG-r"
      },
      "execution_count": null,
      "outputs": []
    },
    {
      "cell_type": "code",
      "source": [
        "temp.head()"
      ],
      "metadata": {
        "id": "mxowulvYkK7N"
      },
      "execution_count": null,
      "outputs": []
    },
    {
      "cell_type": "code",
      "source": [
        "def concatena_e_plota(dataframe,alvo,coluna1,coluna2):\n",
        "    aux1 = dataframe[coluna1]\n",
        "    aux2 = alvo\n",
        "\n",
        "    temp = pd.concat([aux1,aux2],axis=1)\n",
        "    grafico(temp,coluna1,coluna2)"
      ],
      "metadata": {
        "id": "4p5QP2kYkK-r"
      },
      "execution_count": null,
      "outputs": []
    },
    {
      "cell_type": "code",
      "source": [
        "concatena_e_plota(X_treino,y_treino,\"Sex\",\"Survived\")"
      ],
      "metadata": {
        "id": "Jjw3XO61kLE-"
      },
      "execution_count": null,
      "outputs": []
    },
    {
      "cell_type": "code",
      "source": [
        "concatena_e_plota(treino_ordinal,y_treino,\"Sex\",\"Survived\")"
      ],
      "metadata": {
        "id": "mLpWdVw4kLIc"
      },
      "execution_count": null,
      "outputs": []
    },
    {
      "cell_type": "code",
      "source": [],
      "metadata": {
        "id": "L30chCeekLLm"
      },
      "execution_count": null,
      "outputs": []
    },
    {
      "cell_type": "code",
      "source": [],
      "metadata": {
        "id": "O3qtXJ2fkLOn"
      },
      "execution_count": null,
      "outputs": []
    },
    {
      "cell_type": "code",
      "source": [],
      "metadata": {
        "id": "i2RoUaxGkLR2"
      },
      "execution_count": null,
      "outputs": []
    },
    {
      "cell_type": "code",
      "source": [],
      "metadata": {
        "id": "IAiQooFWkLUt"
      },
      "execution_count": null,
      "outputs": []
    }
  ]
}