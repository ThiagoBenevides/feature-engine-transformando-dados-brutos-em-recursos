{
  "nbformat": 4,
  "nbformat_minor": 0,
  "metadata": {
    "colab": {
      "provenance": []
    },
    "kernelspec": {
      "name": "python3",
      "display_name": "Python 3"
    },
    "language_info": {
      "name": "python"
    }
  },
  "cells": [
    {
      "cell_type": "markdown",
      "source": [
        "# Trabalhando com valores ausentes em um conjunto de dados"
      ],
      "metadata": {
        "id": "SO8itamLcqqf"
      }
    },
    {
      "cell_type": "code",
      "execution_count": null,
      "metadata": {
        "id": "-S3ce6xjcgbo"
      },
      "outputs": [],
      "source": [
        "import pandas as pd\n",
        "import numpy as np\n",
        "\n",
        "def cat_frequente(dataframe,coluna):\n",
        "    moda = dataframe[coluna].mode()[0]\n",
        "    valores_trocados = dataframe[coluna].fillna(moda)\n",
        "\n",
        "    return valores trocados"
      ]
    },
    {
      "cell_type": "code",
      "source": [
        "dicionario = {\"sobrenome\":[\"Silva\",\"Cavalcanti\",\"OLiveira\",\"Santos\",\"Souza\",\"Lima\",\"Pereira\",\"Rodirgues\",\"Carvalho\",\"Alves\"],\n",
        "\t\t\"idade\":[71,35,61,73,28,41,35,70,46,68],\n",
        "\t\t\"genero\":[\"Masculino\",np.nan,\"Feminino\",\"Masculino\",\"Feminino\",np.nan,\"Feminino\",np.nan,\"Masculino\",\"Feminino\"]}\n",
        "\n",
        "\tdataframe = pd.dataframe(dicionario)\n",
        "\tdataframe[\"gero_alterado\"] = cat_frequente(dataframe, \"coluna\")"
      ],
      "metadata": {
        "id": "gwaE8lAIcnra"
      },
      "execution_count": null,
      "outputs": []
    },
    {
      "cell_type": "markdown",
      "source": [
        "# Projeto prático- SUbstituição de valores ausentes"
      ],
      "metadata": {
        "id": "EeM6pJT5cydn"
      }
    },
    {
      "cell_type": "code",
      "source": [
        "from sklearn.model_selection import train_test_split\n",
        "\n",
        "X_treino, X_teste, y_treino, y_teste = train_test_split(dataframe.drop(\"Survived\",axis=1),dataframe[\"Survived\"],test_size=0.3,random_state=0)"
      ],
      "metadata": {
        "id": "FcwqmuSbc3qX"
      },
      "execution_count": null,
      "outputs": []
    },
    {
      "cell_type": "code",
      "source": [
        "X_treino.shape"
      ],
      "metadata": {
        "id": "Ng1q2hXPc7Bu"
      },
      "execution_count": null,
      "outputs": []
    },
    {
      "cell_type": "code",
      "source": [
        "X_teste.shape"
      ],
      "metadata": {
        "id": "46g59TNyc9fn"
      },
      "execution_count": null,
      "outputs": []
    },
    {
      "cell_type": "code",
      "source": [
        "X_treino.drop(columns=[\"Unnamed: 0\"], inplace=True)\n",
        "X_teste.drop(columns=[\"Unnamed: 0\"], inplace=True)"
      ],
      "metadata": {
        "id": "DfrL8iBJc_RW"
      },
      "execution_count": null,
      "outputs": []
    },
    {
      "cell_type": "code",
      "source": [
        "numericos_treino =X_treino[[\"PassengerId\",\"Pclass\",\"Age\",\"SibSp\",\"Parch\",\"Fare\"]]\n",
        "numericos_teste =X_teste[[\"PassengerId\",\"Pclass\",\"Age\",\"SibSp\",\"Parch\",\"Fare\"]]"
      ],
      "metadata": {
        "id": "Iz2lcOY_dBDX"
      },
      "execution_count": null,
      "outputs": []
    },
    {
      "cell_type": "code",
      "source": [
        "from sklearn.impute import SimpleImputer\n",
        "\n",
        "imputer = SimpleImputer(strategy=\"mean\")"
      ],
      "metadata": {
        "id": "vQtJFRsmdDUe"
      },
      "execution_count": null,
      "outputs": []
    },
    {
      "cell_type": "code",
      "source": [
        "imputer.fit(numericos_treino)"
      ],
      "metadata": {
        "id": "sFowNmK3dFIf"
      },
      "execution_count": null,
      "outputs": []
    },
    {
      "cell_type": "code",
      "source": [
        "numericos_treino = impute.transform(numericos_treino)\n",
        "numericos_teste = impute.transform(numericos_teste)"
      ],
      "metadata": {
        "id": "fE4qi2AzdHmh"
      },
      "execution_count": null,
      "outputs": []
    },
    {
      "cell_type": "code",
      "source": [
        "numericos_treino = pd.dataframe(numericos_treino,columns=[\"PassengerId\",\"Pclass\",\"Age\",\"SibSp\",\"Parch\",\"Fare\"])\n",
        "numericos_teste = pd.dataframe(numericos_teste,columns=[\"PassengerId\",\"Pclass\",\"Age\",\"SibSp\",\"Parch\",\"Fare\"])"
      ],
      "metadata": {
        "id": "LtOzufhKdJfX"
      },
      "execution_count": null,
      "outputs": []
    },
    {
      "cell_type": "code",
      "source": [
        "numericos_treino.head()"
      ],
      "metadata": {
        "id": "YIhwwRFAdL28"
      },
      "execution_count": null,
      "outputs": []
    },
    {
      "cell_type": "code",
      "source": [
        "numericos_teste.head()"
      ],
      "metadata": {
        "id": "6XTjD7S_dMcX"
      },
      "execution_count": null,
      "outputs": []
    },
    {
      "cell_type": "code",
      "source": [
        "numericos_treino.isnull().mean()"
      ],
      "metadata": {
        "id": "zC26SrASdN7v"
      },
      "execution_count": null,
      "outputs": []
    },
    {
      "cell_type": "code",
      "source": [
        "numericos_teste.isnull().mean()"
      ],
      "metadata": {
        "id": "MyjA_y5WdPk_"
      },
      "execution_count": null,
      "outputs": []
    },
    {
      "cell_type": "code",
      "source": [
        "numericos_treino.isnull().mean()"
      ],
      "metadata": {
        "id": "IxDccF7TdReG"
      },
      "execution_count": null,
      "outputs": []
    },
    {
      "cell_type": "code",
      "source": [
        "numericos_teste.isnull().mean()"
      ],
      "metadata": {
        "id": "Pvf8709YdTKP"
      },
      "execution_count": null,
      "outputs": []
    },
    {
      "cell_type": "code",
      "source": [
        "from sklearn.impute import SimpleImputer\n",
        "\n",
        "imputer = SimpleImputer(strategy=\"median\")"
      ],
      "metadata": {
        "id": "AZDwE26QdU3P"
      },
      "execution_count": null,
      "outputs": []
    },
    {
      "cell_type": "code",
      "source": [
        "imputer.fit(numericos_treino)\n",
        "\n",
        "numericos_treino = imputer.transform(numericos_treino)\n",
        "numericos_teste = imputer.transform(numericos_teste)"
      ],
      "metadata": {
        "id": "lJi2KVBAdWh_"
      },
      "execution_count": null,
      "outputs": []
    },
    {
      "cell_type": "code",
      "source": [
        "numericos_treino"
      ],
      "metadata": {
        "id": "b64yWSAydYMn"
      },
      "execution_count": null,
      "outputs": []
    },
    {
      "cell_type": "code",
      "source": [
        "numericos_teste"
      ],
      "metadata": {
        "id": "uTcqiS9XdaBp"
      },
      "execution_count": null,
      "outputs": []
    },
    {
      "cell_type": "code",
      "source": [
        "numericos_treino = pd.dataframe(numericos_treino,columns=[\"PassengerId\",\"Pclass\",\"Age\",\"SibSp\",\"Parch\",\"Fare\"])\n",
        "numericos_teste = pd.dataframe(numericos_teste,columns=[\"PassengerId\",\"Pclass\",\"Age\",\"SibSp\",\"Parch\",\"Fare\"])"
      ],
      "metadata": {
        "id": "ZVqgCtAJdbeI"
      },
      "execution_count": null,
      "outputs": []
    },
    {
      "cell_type": "code",
      "source": [
        "!pip install feature-engine"
      ],
      "metadata": {
        "id": "n0hJdklNddLI"
      },
      "execution_count": null,
      "outputs": []
    },
    {
      "cell_type": "code",
      "source": [
        "from feature_engine.imputation import MeanMedianImputer"
      ],
      "metadata": {
        "id": "vzq_8CtXdes4"
      },
      "execution_count": null,
      "outputs": []
    },
    {
      "cell_type": "code",
      "source": [
        "imputer = MeanMedianImputer(imputation_method=\"mean\",variables=[\"PassengerId\",\"Pclass\",\"Age\",\"SibSp\",\"Parch\",\"Fare\"])"
      ],
      "metadata": {
        "id": "hs4TaW83dgkJ"
      },
      "execution_count": null,
      "outputs": []
    },
    {
      "cell_type": "code",
      "source": [
        "imputer.fit(X_treino)"
      ],
      "metadata": {
        "id": "zc81EhTrdh-A"
      },
      "execution_count": null,
      "outputs": []
    },
    {
      "cell_type": "code",
      "source": [
        "media_imputer.imputer_dict_"
      ],
      "metadata": {
        "id": "mjTlSvXEdjuH"
      },
      "execution_count": null,
      "outputs": []
    },
    {
      "cell_type": "code",
      "source": [
        "X_treino = imputer.transform(X_treino)\n",
        "X_teste = imputer.transform(X_teste)"
      ],
      "metadata": {
        "id": "qhIfk1PJdlbN"
      },
      "execution_count": null,
      "outputs": []
    },
    {
      "cell_type": "code",
      "source": [
        "X_treino.isnull().mean()"
      ],
      "metadata": {
        "id": "ZnJ5rgMCdm-l"
      },
      "execution_count": null,
      "outputs": []
    },
    {
      "cell_type": "code",
      "source": [
        " X_teste.isnull().mean()"
      ],
      "metadata": {
        "id": "dpp5gKL9do8W"
      },
      "execution_count": null,
      "outputs": []
    },
    {
      "cell_type": "code",
      "source": [
        "from feature_engine.imputation import MeanMedianImputer\n",
        "imputer_mediana = MeanMedianImputer(imputation_method=\"median\",variables=[\"PassengerId\",\"Pclass\",\"Age\",\"SibSp\",\"Fare\"])"
      ],
      "metadata": {
        "id": "BU6oxhX_drWV"
      },
      "execution_count": null,
      "outputs": []
    },
    {
      "cell_type": "code",
      "source": [
        "imputer_mediana.fit(X_treino)\n",
        "X_treino = imputer_mediana.transform(X_treino)\n",
        "X_teste = imputer_mediana.transform(X_teste)"
      ],
      "metadata": {
        "id": "GljEHCU-dsDG"
      },
      "execution_count": null,
      "outputs": []
    },
    {
      "cell_type": "code",
      "source": [
        "mediana_imputer.imputer_dict_"
      ],
      "metadata": {
        "id": "uKXf6LHWdujg"
      },
      "execution_count": null,
      "outputs": []
    },
    {
      "cell_type": "code",
      "source": [
        "X_treino.isnull().mean()"
      ],
      "metadata": {
        "id": "VdwZPS45dvRG"
      },
      "execution_count": null,
      "outputs": []
    },
    {
      "cell_type": "code",
      "source": [
        "X_teste.isnull().mean()"
      ],
      "metadata": {
        "id": "-TethhrjdxAe"
      },
      "execution_count": null,
      "outputs": []
    },
    {
      "cell_type": "code",
      "source": [
        "X_treino.dtypes"
      ],
      "metadata": {
        "id": "p8FuimOHdx3E"
      },
      "execution_count": null,
      "outputs": []
    },
    {
      "cell_type": "code",
      "source": [
        "X_treino.drop(columns[\"Cabin\"],inplace=True)\n",
        "X_teste.drop(columns[\"Cabin\"],inplace=True)"
      ],
      "metadata": {
        "id": "30PqVpkTd07H"
      },
      "execution_count": null,
      "outputs": []
    },
    {
      "cell_type": "code",
      "source": [
        "X_treino[\"Sex\"].unique()"
      ],
      "metadata": {
        "id": "mlhtKUG2d2j-"
      },
      "execution_count": null,
      "outputs": []
    },
    {
      "cell_type": "code",
      "source": [
        "X_teste[\"Sex\"].unique()"
      ],
      "metadata": {
        "id": "XcpI6nDPd4Eg"
      },
      "execution_count": null,
      "outputs": []
    },
    {
      "cell_type": "code",
      "source": [
        "sex_treino= X_treino[\"Sex\"]\n",
        "sex_teste = X_teste[\"Sex\"]"
      ],
      "metadata": {
        "id": "ZGGfxMl0d5bf"
      },
      "execution_count": null,
      "outputs": []
    },
    {
      "cell_type": "code",
      "source": [
        "sex_treino.head()"
      ],
      "metadata": {
        "id": "_PVu_e2Md7ko"
      },
      "execution_count": null,
      "outputs": []
    },
    {
      "cell_type": "code",
      "source": [
        "sex_teste.head()"
      ],
      "metadata": {
        "id": "FXDNs_iGd8o6"
      },
      "execution_count": null,
      "outputs": []
    },
    {
      "cell_type": "code",
      "source": [
        "from sklearn.impute import SimpleImputer\n",
        "imputer_freq = SimpleImputer(strategy=\"most_frequent\")"
      ],
      "metadata": {
        "id": "W4NgKkNXd-OI"
      },
      "execution_count": null,
      "outputs": []
    },
    {
      "cell_type": "code",
      "source": [
        "imputer_freq.fit(sex_treino.to_frame())"
      ],
      "metadata": {
        "id": "ji-dq-jGd_sx"
      },
      "execution_count": null,
      "outputs": []
    },
    {
      "cell_type": "code",
      "source": [
        "imputer_freq.statistics_"
      ],
      "metadata": {
        "id": "dWQi-Ws9eBcv"
      },
      "execution_count": null,
      "outputs": []
    },
    {
      "cell_type": "code",
      "source": [
        "sex_treino = imputer_freq.transform(sex_treino.to_frame())\n",
        "sex_teste = imputer_freq.transform(sex_teste.to_frame())"
      ],
      "metadata": {
        "id": "8bI3wL36eDM4"
      },
      "execution_count": null,
      "outputs": []
    },
    {
      "cell_type": "code",
      "source": [
        "sex_treino =pd.dataframe(sex_treino,columns=[\"Sex\"])\n",
        "sex_teste =pd.dataframe(sex_teste,columns=[\"Sex\"])"
      ],
      "metadata": {
        "id": "hfMIo4gzeEzS"
      },
      "execution_count": null,
      "outputs": []
    },
    {
      "cell_type": "code",
      "source": [
        "sex_treino.head()   "
      ],
      "metadata": {
        "id": "YqIhNWWaeHGo"
      },
      "execution_count": null,
      "outputs": []
    },
    {
      "cell_type": "code",
      "source": [
        "sex_teste.head()"
      ],
      "metadata": {
        "id": "Bh20bWwEeHOV"
      },
      "execution_count": null,
      "outputs": []
    },
    {
      "cell_type": "code",
      "source": [
        "from feature_engine.imputaton import CategoricalImputer"
      ],
      "metadata": {
        "id": "aRjukaHceHSC"
      },
      "execution_count": null,
      "outputs": []
    },
    {
      "cell_type": "code",
      "source": [
        "ft_imputer = CategoricalImputer(imputation_method=\"frequent\",variables=[\"Sex\"])"
      ],
      "metadata": {
        "id": "a9ZYhKXteHVo"
      },
      "execution_count": null,
      "outputs": []
    },
    {
      "cell_type": "code",
      "source": [
        "ft_imputer.fit(X_treino)"
      ],
      "metadata": {
        "id": "KUzxTEtjeHYm"
      },
      "execution_count": null,
      "outputs": []
    },
    {
      "cell_type": "code",
      "source": [
        "ft_imputer.imputer_dict_"
      ],
      "metadata": {
        "id": "EzTiAb8eeOS_"
      },
      "execution_count": null,
      "outputs": []
    },
    {
      "cell_type": "code",
      "source": [
        "X_treino = ft_imputer.transform(X_treino)\n",
        "X_teste= ft_imputer.transform(X_teste)"
      ],
      "metadata": {
        "id": "4fEAAEaPeOWm"
      },
      "execution_count": null,
      "outputs": []
    },
    {
      "cell_type": "code",
      "source": [
        "X_treino.head()"
      ],
      "metadata": {
        "id": "-_uDHwegeOaO"
      },
      "execution_count": null,
      "outputs": []
    },
    {
      "cell_type": "code",
      "source": [
        "X_teste.head()"
      ],
      "metadata": {
        "id": "TB4SWCRPeOdr"
      },
      "execution_count": null,
      "outputs": []
    },
    {
      "cell_type": "code",
      "source": [
        "X_treino.isnull().mean()"
      ],
      "metadata": {
        "id": "g8t-sT0geOhc"
      },
      "execution_count": null,
      "outputs": []
    },
    {
      "cell_type": "code",
      "source": [
        "X_teste.isnull().mean()"
      ],
      "metadata": {
        "id": "-jYI_KO5eUw4"
      },
      "execution_count": null,
      "outputs": []
    },
    {
      "cell_type": "code",
      "source": [],
      "metadata": {
        "id": "lFpzKxzWeU7R"
      },
      "execution_count": null,
      "outputs": []
    }
  ]
}