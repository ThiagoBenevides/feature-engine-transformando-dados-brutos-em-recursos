{
  "nbformat": 4,
  "nbformat_minor": 0,
  "metadata": {
    "colab": {
      "name": "Capitulo 1- Substituição de dados ausentes.ipynb",
      "provenance": [],
      "collapsed_sections": []
    },
    "kernelspec": {
      "name": "python3",
      "display_name": "Python 3"
    },
    "language_info": {
      "name": "python"
    }
  },
  "cells": [
    {
      "cell_type": "code",
      "metadata": {
        "id": "rqC-rYPpYyVb"
      },
      "source": [
        "import pandas as pd\n",
        "import numpy as np"
      ],
      "execution_count": null,
      "outputs": []
    },
    {
      "cell_type": "code",
      "metadata": {
        "id": "ALAcn1YV2snX"
      },
      "source": [
        "vetor = [10,np.nan,1,9,np.nan,20,np.nan,14,2,20]\n",
        "dataframe = pd.DataFrame({\"valores\":vetor})"
      ],
      "execution_count": null,
      "outputs": []
    },
    {
      "cell_type": "code",
      "metadata": {
        "colab": {
          "base_uri": "https://localhost:8080/",
          "height": 363
        },
        "id": "sm0zw8Ji2yR1",
        "outputId": "4f41b0a3-6f4d-4846-9a30-f808d6c04c75"
      },
      "source": [
        "dataframe.head(10)"
      ],
      "execution_count": null,
      "outputs": [
        {
          "output_type": "execute_result",
          "data": {
            "text/html": [
              "<div>\n",
              "<style scoped>\n",
              "    .dataframe tbody tr th:only-of-type {\n",
              "        vertical-align: middle;\n",
              "    }\n",
              "\n",
              "    .dataframe tbody tr th {\n",
              "        vertical-align: top;\n",
              "    }\n",
              "\n",
              "    .dataframe thead th {\n",
              "        text-align: right;\n",
              "    }\n",
              "</style>\n",
              "<table border=\"1\" class=\"dataframe\">\n",
              "  <thead>\n",
              "    <tr style=\"text-align: right;\">\n",
              "      <th></th>\n",
              "      <th>valores</th>\n",
              "    </tr>\n",
              "  </thead>\n",
              "  <tbody>\n",
              "    <tr>\n",
              "      <th>0</th>\n",
              "      <td>10.0</td>\n",
              "    </tr>\n",
              "    <tr>\n",
              "      <th>1</th>\n",
              "      <td>NaN</td>\n",
              "    </tr>\n",
              "    <tr>\n",
              "      <th>2</th>\n",
              "      <td>1.0</td>\n",
              "    </tr>\n",
              "    <tr>\n",
              "      <th>3</th>\n",
              "      <td>9.0</td>\n",
              "    </tr>\n",
              "    <tr>\n",
              "      <th>4</th>\n",
              "      <td>NaN</td>\n",
              "    </tr>\n",
              "    <tr>\n",
              "      <th>5</th>\n",
              "      <td>20.0</td>\n",
              "    </tr>\n",
              "    <tr>\n",
              "      <th>6</th>\n",
              "      <td>NaN</td>\n",
              "    </tr>\n",
              "    <tr>\n",
              "      <th>7</th>\n",
              "      <td>14.0</td>\n",
              "    </tr>\n",
              "    <tr>\n",
              "      <th>8</th>\n",
              "      <td>2.0</td>\n",
              "    </tr>\n",
              "    <tr>\n",
              "      <th>9</th>\n",
              "      <td>20.0</td>\n",
              "    </tr>\n",
              "  </tbody>\n",
              "</table>\n",
              "</div>"
            ],
            "text/plain": [
              "   valores\n",
              "0     10.0\n",
              "1      NaN\n",
              "2      1.0\n",
              "3      9.0\n",
              "4      NaN\n",
              "5     20.0\n",
              "6      NaN\n",
              "7     14.0\n",
              "8      2.0\n",
              "9     20.0"
            ]
          },
          "metadata": {},
          "execution_count": 4
        }
      ]
    },
    {
      "cell_type": "code",
      "metadata": {
        "id": "NeoPhUsO24bn"
      },
      "source": [
        "def troca_media(dataframe,coluna):\n",
        "    media = dataframe[coluna].mean()\n",
        "    valores_trocados = dataframe[coluna].fillna(media)\n",
        "\n",
        "    return valores_trocados"
      ],
      "execution_count": null,
      "outputs": []
    },
    {
      "cell_type": "code",
      "metadata": {
        "id": "6q3lz0aB2886"
      },
      "source": [
        "dataframe[\"valores_trocados\"] = troca_media(dataframe,\"valores\")"
      ],
      "execution_count": null,
      "outputs": []
    },
    {
      "cell_type": "code",
      "metadata": {
        "colab": {
          "base_uri": "https://localhost:8080/",
          "height": 300
        },
        "id": "9C8i7CNt3DuW",
        "outputId": "c1692c40-762a-4f42-aba2-063cc83d7f8d"
      },
      "source": [
        "dataframe.describe()"
      ],
      "execution_count": null,
      "outputs": [
        {
          "output_type": "execute_result",
          "data": {
            "text/html": [
              "<div>\n",
              "<style scoped>\n",
              "    .dataframe tbody tr th:only-of-type {\n",
              "        vertical-align: middle;\n",
              "    }\n",
              "\n",
              "    .dataframe tbody tr th {\n",
              "        vertical-align: top;\n",
              "    }\n",
              "\n",
              "    .dataframe thead th {\n",
              "        text-align: right;\n",
              "    }\n",
              "</style>\n",
              "<table border=\"1\" class=\"dataframe\">\n",
              "  <thead>\n",
              "    <tr style=\"text-align: right;\">\n",
              "      <th></th>\n",
              "      <th>valores</th>\n",
              "      <th>valores_trocados</th>\n",
              "    </tr>\n",
              "  </thead>\n",
              "  <tbody>\n",
              "    <tr>\n",
              "      <th>count</th>\n",
              "      <td>7.000000</td>\n",
              "      <td>10.000000</td>\n",
              "    </tr>\n",
              "    <tr>\n",
              "      <th>mean</th>\n",
              "      <td>10.857143</td>\n",
              "      <td>10.857143</td>\n",
              "    </tr>\n",
              "    <tr>\n",
              "      <th>std</th>\n",
              "      <td>7.712081</td>\n",
              "      <td>6.296888</td>\n",
              "    </tr>\n",
              "    <tr>\n",
              "      <th>min</th>\n",
              "      <td>1.000000</td>\n",
              "      <td>1.000000</td>\n",
              "    </tr>\n",
              "    <tr>\n",
              "      <th>25%</th>\n",
              "      <td>5.500000</td>\n",
              "      <td>9.250000</td>\n",
              "    </tr>\n",
              "    <tr>\n",
              "      <th>50%</th>\n",
              "      <td>10.000000</td>\n",
              "      <td>10.857143</td>\n",
              "    </tr>\n",
              "    <tr>\n",
              "      <th>75%</th>\n",
              "      <td>17.000000</td>\n",
              "      <td>13.214286</td>\n",
              "    </tr>\n",
              "    <tr>\n",
              "      <th>max</th>\n",
              "      <td>20.000000</td>\n",
              "      <td>20.000000</td>\n",
              "    </tr>\n",
              "  </tbody>\n",
              "</table>\n",
              "</div>"
            ],
            "text/plain": [
              "         valores  valores_trocados\n",
              "count   7.000000         10.000000\n",
              "mean   10.857143         10.857143\n",
              "std     7.712081          6.296888\n",
              "min     1.000000          1.000000\n",
              "25%     5.500000          9.250000\n",
              "50%    10.000000         10.857143\n",
              "75%    17.000000         13.214286\n",
              "max    20.000000         20.000000"
            ]
          },
          "metadata": {},
          "execution_count": 7
        }
      ]
    },
    {
      "cell_type": "code",
      "metadata": {
        "id": "u55aVOYJ3Fgy"
      },
      "source": [
        "vetor2 = [10,np.nan,1,9,np.nan,20,np.nan,14,2,20]\n",
        "\n",
        "dicionario2 = {\"valores\":vetor2}\n",
        "dataframe = pd.DataFrame(dicionario2)"
      ],
      "execution_count": null,
      "outputs": []
    },
    {
      "cell_type": "code",
      "metadata": {
        "colab": {
          "base_uri": "https://localhost:8080/",
          "height": 363
        },
        "id": "jv3L_HRS90Zr",
        "outputId": "7df81e9f-f6b5-4331-fa3a-5eb62ee93e30"
      },
      "source": [
        "dataframe.head(10)"
      ],
      "execution_count": null,
      "outputs": [
        {
          "output_type": "execute_result",
          "data": {
            "text/html": [
              "<div>\n",
              "<style scoped>\n",
              "    .dataframe tbody tr th:only-of-type {\n",
              "        vertical-align: middle;\n",
              "    }\n",
              "\n",
              "    .dataframe tbody tr th {\n",
              "        vertical-align: top;\n",
              "    }\n",
              "\n",
              "    .dataframe thead th {\n",
              "        text-align: right;\n",
              "    }\n",
              "</style>\n",
              "<table border=\"1\" class=\"dataframe\">\n",
              "  <thead>\n",
              "    <tr style=\"text-align: right;\">\n",
              "      <th></th>\n",
              "      <th>valores</th>\n",
              "    </tr>\n",
              "  </thead>\n",
              "  <tbody>\n",
              "    <tr>\n",
              "      <th>0</th>\n",
              "      <td>10.0</td>\n",
              "    </tr>\n",
              "    <tr>\n",
              "      <th>1</th>\n",
              "      <td>NaN</td>\n",
              "    </tr>\n",
              "    <tr>\n",
              "      <th>2</th>\n",
              "      <td>1.0</td>\n",
              "    </tr>\n",
              "    <tr>\n",
              "      <th>3</th>\n",
              "      <td>9.0</td>\n",
              "    </tr>\n",
              "    <tr>\n",
              "      <th>4</th>\n",
              "      <td>NaN</td>\n",
              "    </tr>\n",
              "    <tr>\n",
              "      <th>5</th>\n",
              "      <td>20.0</td>\n",
              "    </tr>\n",
              "    <tr>\n",
              "      <th>6</th>\n",
              "      <td>NaN</td>\n",
              "    </tr>\n",
              "    <tr>\n",
              "      <th>7</th>\n",
              "      <td>14.0</td>\n",
              "    </tr>\n",
              "    <tr>\n",
              "      <th>8</th>\n",
              "      <td>2.0</td>\n",
              "    </tr>\n",
              "    <tr>\n",
              "      <th>9</th>\n",
              "      <td>20.0</td>\n",
              "    </tr>\n",
              "  </tbody>\n",
              "</table>\n",
              "</div>"
            ],
            "text/plain": [
              "   valores\n",
              "0     10.0\n",
              "1      NaN\n",
              "2      1.0\n",
              "3      9.0\n",
              "4      NaN\n",
              "5     20.0\n",
              "6      NaN\n",
              "7     14.0\n",
              "8      2.0\n",
              "9     20.0"
            ]
          },
          "metadata": {},
          "execution_count": 12
        }
      ]
    },
    {
      "cell_type": "code",
      "metadata": {
        "id": "-pITuUkq9iEE"
      },
      "source": [
        "def troca_mediana(dataframe,coluna):\n",
        "    mediana = dataframe[coluna].median()\n",
        "    valores_trocados = dataframe[coluna].fillna(mediana)\n",
        "\n",
        "    return valores_trocados"
      ],
      "execution_count": null,
      "outputs": []
    },
    {
      "cell_type": "code",
      "metadata": {
        "id": "HCKFXyHj9qD_"
      },
      "source": [
        "dataframe[\"valores_trocados\"] = troca_mediana(dataframe,\"valores\")"
      ],
      "execution_count": null,
      "outputs": []
    },
    {
      "cell_type": "code",
      "metadata": {
        "id": "rmj5H7Ze93oI",
        "colab": {
          "base_uri": "https://localhost:8080/",
          "height": 300
        },
        "outputId": "9705ee11-cb26-43f2-816a-bb9d73ca40ba"
      },
      "source": [
        "dataframe.describe()"
      ],
      "execution_count": null,
      "outputs": [
        {
          "output_type": "execute_result",
          "data": {
            "text/html": [
              "<div>\n",
              "<style scoped>\n",
              "    .dataframe tbody tr th:only-of-type {\n",
              "        vertical-align: middle;\n",
              "    }\n",
              "\n",
              "    .dataframe tbody tr th {\n",
              "        vertical-align: top;\n",
              "    }\n",
              "\n",
              "    .dataframe thead th {\n",
              "        text-align: right;\n",
              "    }\n",
              "</style>\n",
              "<table border=\"1\" class=\"dataframe\">\n",
              "  <thead>\n",
              "    <tr style=\"text-align: right;\">\n",
              "      <th></th>\n",
              "      <th>valores</th>\n",
              "      <th>valores_trocados</th>\n",
              "    </tr>\n",
              "  </thead>\n",
              "  <tbody>\n",
              "    <tr>\n",
              "      <th>count</th>\n",
              "      <td>7.000000</td>\n",
              "      <td>10.000000</td>\n",
              "    </tr>\n",
              "    <tr>\n",
              "      <th>mean</th>\n",
              "      <td>10.857143</td>\n",
              "      <td>10.600000</td>\n",
              "    </tr>\n",
              "    <tr>\n",
              "      <th>std</th>\n",
              "      <td>7.712081</td>\n",
              "      <td>6.310485</td>\n",
              "    </tr>\n",
              "    <tr>\n",
              "      <th>min</th>\n",
              "      <td>1.000000</td>\n",
              "      <td>1.000000</td>\n",
              "    </tr>\n",
              "    <tr>\n",
              "      <th>25%</th>\n",
              "      <td>5.500000</td>\n",
              "      <td>9.250000</td>\n",
              "    </tr>\n",
              "    <tr>\n",
              "      <th>50%</th>\n",
              "      <td>10.000000</td>\n",
              "      <td>10.000000</td>\n",
              "    </tr>\n",
              "    <tr>\n",
              "      <th>75%</th>\n",
              "      <td>17.000000</td>\n",
              "      <td>13.000000</td>\n",
              "    </tr>\n",
              "    <tr>\n",
              "      <th>max</th>\n",
              "      <td>20.000000</td>\n",
              "      <td>20.000000</td>\n",
              "    </tr>\n",
              "  </tbody>\n",
              "</table>\n",
              "</div>"
            ],
            "text/plain": [
              "         valores  valores_trocados\n",
              "count   7.000000         10.000000\n",
              "mean   10.857143         10.600000\n",
              "std     7.712081          6.310485\n",
              "min     1.000000          1.000000\n",
              "25%     5.500000          9.250000\n",
              "50%    10.000000         10.000000\n",
              "75%    17.000000         13.000000\n",
              "max    20.000000         20.000000"
            ]
          },
          "metadata": {},
          "execution_count": 14
        }
      ]
    },
    {
      "cell_type": "markdown",
      "metadata": {
        "id": "jesUSnWe95Jc"
      },
      "source": [
        "# Projeto prático"
      ]
    },
    {
      "cell_type": "code",
      "metadata": {
        "id": "HJYl9iPxrZ9S"
      },
      "source": [
        "dataframe = pd.read_csv(\"titanic.csv\")"
      ],
      "execution_count": null,
      "outputs": []
    },
    {
      "cell_type": "code",
      "metadata": {
        "colab": {
          "base_uri": "https://localhost:8080/"
        },
        "id": "D90zCWcCrirE",
        "outputId": "f13c96b2-9e04-40dc-b47c-eb83470431b0"
      },
      "source": [
        "dataframe.shape"
      ],
      "execution_count": null,
      "outputs": [
        {
          "output_type": "execute_result",
          "data": {
            "text/plain": [
              "(418, 13)"
            ]
          },
          "metadata": {},
          "execution_count": 7
        }
      ]
    },
    {
      "cell_type": "code",
      "metadata": {
        "colab": {
          "base_uri": "https://localhost:8080/"
        },
        "id": "gMjdvDbLrvcV",
        "outputId": "84d209a7-3445-412d-c369-a52ee39decd5"
      },
      "source": [
        "dataframe.isnull().sum()"
      ],
      "execution_count": null,
      "outputs": [
        {
          "output_type": "execute_result",
          "data": {
            "text/plain": [
              "Unnamed: 0       0\n",
              "PassengerId      0\n",
              "Survived         0\n",
              "Pclass           0\n",
              "Name             0\n",
              "Sex             23\n",
              "Age             86\n",
              "SibSp            0\n",
              "Parch           48\n",
              "Ticket           0\n",
              "Fare             1\n",
              "Cabin          327\n",
              "Embarked         0\n",
              "dtype: int64"
            ]
          },
          "metadata": {},
          "execution_count": 8
        }
      ]
    },
    {
      "cell_type": "code",
      "metadata": {
        "colab": {
          "base_uri": "https://localhost:8080/"
        },
        "id": "nhge1bDLxb6e",
        "outputId": "ee127c20-c4cd-4887-c797-07a34075772d"
      },
      "source": [
        "dataframe.isnull().mean()"
      ],
      "execution_count": null,
      "outputs": [
        {
          "output_type": "execute_result",
          "data": {
            "text/plain": [
              "Unnamed: 0     0.000000\n",
              "PassengerId    0.000000\n",
              "Survived       0.000000\n",
              "Pclass         0.000000\n",
              "Name           0.000000\n",
              "Sex            0.055024\n",
              "Age            0.205742\n",
              "SibSp          0.000000\n",
              "Parch          0.114833\n",
              "Ticket         0.000000\n",
              "Fare           0.002392\n",
              "Cabin          0.782297\n",
              "Embarked       0.000000\n",
              "dtype: float64"
            ]
          },
          "metadata": {},
          "execution_count": 9
        }
      ]
    },
    {
      "cell_type": "code",
      "metadata": {
        "colab": {
          "base_uri": "https://localhost:8080/"
        },
        "id": "ZHgSx5QewDAP",
        "outputId": "c719d241-2d8b-4c1e-b456-bc255abe64ec"
      },
      "source": [
        "dataframe.dtypes"
      ],
      "execution_count": null,
      "outputs": [
        {
          "output_type": "execute_result",
          "data": {
            "text/plain": [
              "Unnamed: 0       int64\n",
              "PassengerId      int64\n",
              "Survived         int64\n",
              "Pclass           int64\n",
              "Name            object\n",
              "Sex             object\n",
              "Age            float64\n",
              "SibSp            int64\n",
              "Parch          float64\n",
              "Ticket          object\n",
              "Fare           float64\n",
              "Cabin           object\n",
              "Embarked        object\n",
              "dtype: object"
            ]
          },
          "metadata": {},
          "execution_count": 10
        }
      ]
    },
    {
      "cell_type": "code",
      "metadata": {
        "id": "OjudjjIn28ll"
      },
      "source": [
        "from sklearn.model_selection import train_test_split\n",
        "\n",
        "X_treino, X_teste, y_treino, y_teste = train_test_split(dataframe.drop(\"Survived\",axis=1),dataframe[\"Survived\"],test_size=0.3,random_state=0)\n"
      ],
      "execution_count": null,
      "outputs": []
    },
    {
      "cell_type": "code",
      "metadata": {
        "colab": {
          "base_uri": "https://localhost:8080/",
          "height": 363
        },
        "id": "vongcKgnCGrf",
        "outputId": "270d0e45-989b-4090-e2ed-663241b9e2bb"
      },
      "source": [
        "X_treino.head(10)"
      ],
      "execution_count": null,
      "outputs": [
        {
          "output_type": "execute_result",
          "data": {
            "text/html": [
              "<div>\n",
              "<style scoped>\n",
              "    .dataframe tbody tr th:only-of-type {\n",
              "        vertical-align: middle;\n",
              "    }\n",
              "\n",
              "    .dataframe tbody tr th {\n",
              "        vertical-align: top;\n",
              "    }\n",
              "\n",
              "    .dataframe thead th {\n",
              "        text-align: right;\n",
              "    }\n",
              "</style>\n",
              "<table border=\"1\" class=\"dataframe\">\n",
              "  <thead>\n",
              "    <tr style=\"text-align: right;\">\n",
              "      <th></th>\n",
              "      <th>Unnamed: 0</th>\n",
              "      <th>PassengerId</th>\n",
              "      <th>Pclass</th>\n",
              "      <th>Name</th>\n",
              "      <th>Sex</th>\n",
              "      <th>Age</th>\n",
              "      <th>SibSp</th>\n",
              "      <th>Parch</th>\n",
              "      <th>Ticket</th>\n",
              "      <th>Fare</th>\n",
              "      <th>Cabin</th>\n",
              "      <th>Embarked</th>\n",
              "    </tr>\n",
              "  </thead>\n",
              "  <tbody>\n",
              "    <tr>\n",
              "      <th>96</th>\n",
              "      <td>96</td>\n",
              "      <td>988</td>\n",
              "      <td>1</td>\n",
              "      <td>Cavendish, Mrs. Tyrell William (Julia Florence...</td>\n",
              "      <td>female</td>\n",
              "      <td>76.00</td>\n",
              "      <td>1</td>\n",
              "      <td>0.0</td>\n",
              "      <td>19877</td>\n",
              "      <td>78.8500</td>\n",
              "      <td>C46</td>\n",
              "      <td>S</td>\n",
              "    </tr>\n",
              "    <tr>\n",
              "      <th>381</th>\n",
              "      <td>381</td>\n",
              "      <td>1273</td>\n",
              "      <td>3</td>\n",
              "      <td>Foley, Mr. Joseph</td>\n",
              "      <td>male</td>\n",
              "      <td>26.00</td>\n",
              "      <td>0</td>\n",
              "      <td>0.0</td>\n",
              "      <td>330910</td>\n",
              "      <td>7.8792</td>\n",
              "      <td>NaN</td>\n",
              "      <td>Q</td>\n",
              "    </tr>\n",
              "    <tr>\n",
              "      <th>89</th>\n",
              "      <td>89</td>\n",
              "      <td>981</td>\n",
              "      <td>2</td>\n",
              "      <td>Wells, Master. Ralph Lester</td>\n",
              "      <td>male</td>\n",
              "      <td>2.00</td>\n",
              "      <td>1</td>\n",
              "      <td>1.0</td>\n",
              "      <td>29103</td>\n",
              "      <td>23.0000</td>\n",
              "      <td>NaN</td>\n",
              "      <td>S</td>\n",
              "    </tr>\n",
              "    <tr>\n",
              "      <th>233</th>\n",
              "      <td>233</td>\n",
              "      <td>1125</td>\n",
              "      <td>3</td>\n",
              "      <td>Linehan, Mr. Michael</td>\n",
              "      <td>male</td>\n",
              "      <td>NaN</td>\n",
              "      <td>0</td>\n",
              "      <td>0.0</td>\n",
              "      <td>330971</td>\n",
              "      <td>7.8792</td>\n",
              "      <td>NaN</td>\n",
              "      <td>Q</td>\n",
              "    </tr>\n",
              "    <tr>\n",
              "      <th>191</th>\n",
              "      <td>191</td>\n",
              "      <td>1083</td>\n",
              "      <td>1</td>\n",
              "      <td>Salomon, Mr. Abraham L</td>\n",
              "      <td>NaN</td>\n",
              "      <td>NaN</td>\n",
              "      <td>0</td>\n",
              "      <td>0.0</td>\n",
              "      <td>111163</td>\n",
              "      <td>26.0000</td>\n",
              "      <td>NaN</td>\n",
              "      <td>S</td>\n",
              "    </tr>\n",
              "    <tr>\n",
              "      <th>354</th>\n",
              "      <td>354</td>\n",
              "      <td>1246</td>\n",
              "      <td>3</td>\n",
              "      <td>Dean, Miss. Elizabeth Gladys Millvina\"\"</td>\n",
              "      <td>female</td>\n",
              "      <td>0.17</td>\n",
              "      <td>1</td>\n",
              "      <td>2.0</td>\n",
              "      <td>C.A. 2315</td>\n",
              "      <td>20.5750</td>\n",
              "      <td>NaN</td>\n",
              "      <td>S</td>\n",
              "    </tr>\n",
              "    <tr>\n",
              "      <th>253</th>\n",
              "      <td>253</td>\n",
              "      <td>1145</td>\n",
              "      <td>3</td>\n",
              "      <td>Salander, Mr. Karl Johan</td>\n",
              "      <td>male</td>\n",
              "      <td>24.00</td>\n",
              "      <td>0</td>\n",
              "      <td>0.0</td>\n",
              "      <td>7266</td>\n",
              "      <td>9.3250</td>\n",
              "      <td>NaN</td>\n",
              "      <td>S</td>\n",
              "    </tr>\n",
              "    <tr>\n",
              "      <th>92</th>\n",
              "      <td>92</td>\n",
              "      <td>984</td>\n",
              "      <td>1</td>\n",
              "      <td>Davidson, Mrs. Thornton (Orian Hays)</td>\n",
              "      <td>female</td>\n",
              "      <td>27.00</td>\n",
              "      <td>1</td>\n",
              "      <td>2.0</td>\n",
              "      <td>F.C. 12750</td>\n",
              "      <td>52.0000</td>\n",
              "      <td>B71</td>\n",
              "      <td>S</td>\n",
              "    </tr>\n",
              "    <tr>\n",
              "      <th>240</th>\n",
              "      <td>240</td>\n",
              "      <td>1132</td>\n",
              "      <td>1</td>\n",
              "      <td>Lindstrom, Mrs. Carl Johan (Sigrid Posse)</td>\n",
              "      <td>NaN</td>\n",
              "      <td>55.00</td>\n",
              "      <td>0</td>\n",
              "      <td>0.0</td>\n",
              "      <td>112377</td>\n",
              "      <td>27.7208</td>\n",
              "      <td>NaN</td>\n",
              "      <td>C</td>\n",
              "    </tr>\n",
              "    <tr>\n",
              "      <th>194</th>\n",
              "      <td>194</td>\n",
              "      <td>1086</td>\n",
              "      <td>2</td>\n",
              "      <td>Drew, Master. Marshall Brines</td>\n",
              "      <td>male</td>\n",
              "      <td>8.00</td>\n",
              "      <td>0</td>\n",
              "      <td>2.0</td>\n",
              "      <td>28220</td>\n",
              "      <td>32.5000</td>\n",
              "      <td>NaN</td>\n",
              "      <td>S</td>\n",
              "    </tr>\n",
              "  </tbody>\n",
              "</table>\n",
              "</div>"
            ],
            "text/plain": [
              "     Unnamed: 0  PassengerId  Pclass  ...     Fare Cabin  Embarked\n",
              "96           96          988       1  ...  78.8500   C46         S\n",
              "381         381         1273       3  ...   7.8792   NaN         Q\n",
              "89           89          981       2  ...  23.0000   NaN         S\n",
              "233         233         1125       3  ...   7.8792   NaN         Q\n",
              "191         191         1083       1  ...  26.0000   NaN         S\n",
              "354         354         1246       3  ...  20.5750   NaN         S\n",
              "253         253         1145       3  ...   9.3250   NaN         S\n",
              "92           92          984       1  ...  52.0000   B71         S\n",
              "240         240         1132       1  ...  27.7208   NaN         C\n",
              "194         194         1086       2  ...  32.5000   NaN         S\n",
              "\n",
              "[10 rows x 12 columns]"
            ]
          },
          "metadata": {},
          "execution_count": 164
        }
      ]
    },
    {
      "cell_type": "code",
      "metadata": {
        "colab": {
          "base_uri": "https://localhost:8080/"
        },
        "id": "I2G-p52ICI0G",
        "outputId": "5af6bdc9-0652-48ec-b96e-e62b35098ad9"
      },
      "source": [
        "y_treino.head(10)"
      ],
      "execution_count": null,
      "outputs": [
        {
          "output_type": "execute_result",
          "data": {
            "text/plain": [
              "96     1\n",
              "381    0\n",
              "89     0\n",
              "233    0\n",
              "191    0\n",
              "354    1\n",
              "253    0\n",
              "92     1\n",
              "240    1\n",
              "194    0\n",
              "Name: Survived, dtype: int64"
            ]
          },
          "metadata": {},
          "execution_count": 165
        }
      ]
    },
    {
      "cell_type": "code",
      "metadata": {
        "colab": {
          "base_uri": "https://localhost:8080/",
          "height": 363
        },
        "id": "cJmDcLV3DdXm",
        "outputId": "c13676b8-dfb4-49a8-9071-a8042a14ed37"
      },
      "source": [
        "X_teste.head(10)"
      ],
      "execution_count": null,
      "outputs": [
        {
          "output_type": "execute_result",
          "data": {
            "text/html": [
              "<div>\n",
              "<style scoped>\n",
              "    .dataframe tbody tr th:only-of-type {\n",
              "        vertical-align: middle;\n",
              "    }\n",
              "\n",
              "    .dataframe tbody tr th {\n",
              "        vertical-align: top;\n",
              "    }\n",
              "\n",
              "    .dataframe thead th {\n",
              "        text-align: right;\n",
              "    }\n",
              "</style>\n",
              "<table border=\"1\" class=\"dataframe\">\n",
              "  <thead>\n",
              "    <tr style=\"text-align: right;\">\n",
              "      <th></th>\n",
              "      <th>Unnamed: 0</th>\n",
              "      <th>PassengerId</th>\n",
              "      <th>Pclass</th>\n",
              "      <th>Name</th>\n",
              "      <th>Sex</th>\n",
              "      <th>Age</th>\n",
              "      <th>SibSp</th>\n",
              "      <th>Parch</th>\n",
              "      <th>Ticket</th>\n",
              "      <th>Fare</th>\n",
              "      <th>Cabin</th>\n",
              "      <th>Embarked</th>\n",
              "    </tr>\n",
              "  </thead>\n",
              "  <tbody>\n",
              "    <tr>\n",
              "      <th>360</th>\n",
              "      <td>360</td>\n",
              "      <td>1252</td>\n",
              "      <td>3</td>\n",
              "      <td>Sage, Master. William Henry</td>\n",
              "      <td>male</td>\n",
              "      <td>14.5</td>\n",
              "      <td>8</td>\n",
              "      <td>2.0</td>\n",
              "      <td>CA. 2343</td>\n",
              "      <td>69.5500</td>\n",
              "      <td>NaN</td>\n",
              "      <td>S</td>\n",
              "    </tr>\n",
              "    <tr>\n",
              "      <th>170</th>\n",
              "      <td>170</td>\n",
              "      <td>1062</td>\n",
              "      <td>3</td>\n",
              "      <td>Lithman, Mr. Simon</td>\n",
              "      <td>male</td>\n",
              "      <td>NaN</td>\n",
              "      <td>0</td>\n",
              "      <td>0.0</td>\n",
              "      <td>S.O./P.P. 251</td>\n",
              "      <td>7.5500</td>\n",
              "      <td>NaN</td>\n",
              "      <td>S</td>\n",
              "    </tr>\n",
              "    <tr>\n",
              "      <th>224</th>\n",
              "      <td>224</td>\n",
              "      <td>1116</td>\n",
              "      <td>1</td>\n",
              "      <td>Candee, Mrs. Edward (Helen Churchill Hungerford)</td>\n",
              "      <td>female</td>\n",
              "      <td>53.0</td>\n",
              "      <td>0</td>\n",
              "      <td>0.0</td>\n",
              "      <td>PC 17606</td>\n",
              "      <td>27.4458</td>\n",
              "      <td>NaN</td>\n",
              "      <td>C</td>\n",
              "    </tr>\n",
              "    <tr>\n",
              "      <th>358</th>\n",
              "      <td>358</td>\n",
              "      <td>1250</td>\n",
              "      <td>3</td>\n",
              "      <td>O'Keefe, Mr. Patrick</td>\n",
              "      <td>male</td>\n",
              "      <td>NaN</td>\n",
              "      <td>0</td>\n",
              "      <td>0.0</td>\n",
              "      <td>368402</td>\n",
              "      <td>7.7500</td>\n",
              "      <td>NaN</td>\n",
              "      <td>Q</td>\n",
              "    </tr>\n",
              "    <tr>\n",
              "      <th>309</th>\n",
              "      <td>309</td>\n",
              "      <td>1201</td>\n",
              "      <td>3</td>\n",
              "      <td>Hansen, Mrs. Claus Peter (Jennie L Howard)</td>\n",
              "      <td>female</td>\n",
              "      <td>45.0</td>\n",
              "      <td>1</td>\n",
              "      <td>0.0</td>\n",
              "      <td>350026</td>\n",
              "      <td>14.1083</td>\n",
              "      <td>NaN</td>\n",
              "      <td>S</td>\n",
              "    </tr>\n",
              "    <tr>\n",
              "      <th>308</th>\n",
              "      <td>308</td>\n",
              "      <td>1200</td>\n",
              "      <td>1</td>\n",
              "      <td>Hays, Mr. Charles Melville</td>\n",
              "      <td>male</td>\n",
              "      <td>55.0</td>\n",
              "      <td>1</td>\n",
              "      <td>1.0</td>\n",
              "      <td>12749</td>\n",
              "      <td>93.5000</td>\n",
              "      <td>B69</td>\n",
              "      <td>S</td>\n",
              "    </tr>\n",
              "    <tr>\n",
              "      <th>150</th>\n",
              "      <td>150</td>\n",
              "      <td>1042</td>\n",
              "      <td>1</td>\n",
              "      <td>Earnshaw, Mrs. Boulton (Olive Potter)</td>\n",
              "      <td>female</td>\n",
              "      <td>23.0</td>\n",
              "      <td>0</td>\n",
              "      <td>1.0</td>\n",
              "      <td>11767</td>\n",
              "      <td>83.1583</td>\n",
              "      <td>C54</td>\n",
              "      <td>C</td>\n",
              "    </tr>\n",
              "    <tr>\n",
              "      <th>10</th>\n",
              "      <td>10</td>\n",
              "      <td>902</td>\n",
              "      <td>3</td>\n",
              "      <td>Ilieff, Mr. Ylio</td>\n",
              "      <td>male</td>\n",
              "      <td>NaN</td>\n",
              "      <td>0</td>\n",
              "      <td>0.0</td>\n",
              "      <td>349220</td>\n",
              "      <td>7.8958</td>\n",
              "      <td>NaN</td>\n",
              "      <td>S</td>\n",
              "    </tr>\n",
              "    <tr>\n",
              "      <th>21</th>\n",
              "      <td>21</td>\n",
              "      <td>913</td>\n",
              "      <td>3</td>\n",
              "      <td>Olsen, Master. Artur Karl</td>\n",
              "      <td>male</td>\n",
              "      <td>9.0</td>\n",
              "      <td>0</td>\n",
              "      <td>1.0</td>\n",
              "      <td>C 17368</td>\n",
              "      <td>3.1708</td>\n",
              "      <td>NaN</td>\n",
              "      <td>S</td>\n",
              "    </tr>\n",
              "    <tr>\n",
              "      <th>261</th>\n",
              "      <td>261</td>\n",
              "      <td>1153</td>\n",
              "      <td>3</td>\n",
              "      <td>Nilsson, Mr. August Ferdinand</td>\n",
              "      <td>male</td>\n",
              "      <td>21.0</td>\n",
              "      <td>0</td>\n",
              "      <td>0.0</td>\n",
              "      <td>350410</td>\n",
              "      <td>7.8542</td>\n",
              "      <td>NaN</td>\n",
              "      <td>S</td>\n",
              "    </tr>\n",
              "  </tbody>\n",
              "</table>\n",
              "</div>"
            ],
            "text/plain": [
              "     Unnamed: 0  PassengerId  Pclass  ...     Fare Cabin  Embarked\n",
              "360         360         1252       3  ...  69.5500   NaN         S\n",
              "170         170         1062       3  ...   7.5500   NaN         S\n",
              "224         224         1116       1  ...  27.4458   NaN         C\n",
              "358         358         1250       3  ...   7.7500   NaN         Q\n",
              "309         309         1201       3  ...  14.1083   NaN         S\n",
              "308         308         1200       1  ...  93.5000   B69         S\n",
              "150         150         1042       1  ...  83.1583   C54         C\n",
              "10           10          902       3  ...   7.8958   NaN         S\n",
              "21           21          913       3  ...   3.1708   NaN         S\n",
              "261         261         1153       3  ...   7.8542   NaN         S\n",
              "\n",
              "[10 rows x 12 columns]"
            ]
          },
          "metadata": {},
          "execution_count": 166
        }
      ]
    },
    {
      "cell_type": "code",
      "metadata": {
        "colab": {
          "base_uri": "https://localhost:8080/"
        },
        "id": "_Q4ITz5sETk8",
        "outputId": "104e8709-ff08-452d-efd0-a4030c8c74d2"
      },
      "source": [
        "X_treino.shape"
      ],
      "execution_count": null,
      "outputs": [
        {
          "output_type": "execute_result",
          "data": {
            "text/plain": [
              "(292, 12)"
            ]
          },
          "metadata": {},
          "execution_count": 167
        }
      ]
    },
    {
      "cell_type": "code",
      "metadata": {
        "colab": {
          "base_uri": "https://localhost:8080/"
        },
        "id": "cFhDKPy7FXHg",
        "outputId": "e4e3b634-d6b1-4e74-f149-6cd97bfe4c16"
      },
      "source": [
        "X_teste.shape"
      ],
      "execution_count": null,
      "outputs": [
        {
          "output_type": "execute_result",
          "data": {
            "text/plain": [
              "(126, 12)"
            ]
          },
          "metadata": {},
          "execution_count": 168
        }
      ]
    },
    {
      "cell_type": "code",
      "metadata": {
        "id": "t3a4VjVDGE-f"
      },
      "source": [
        "X_treino.drop(columns=[\"Unnamed: 0\"], inplace=True)\n",
        "X_teste.drop(columns=[\"Unnamed: 0\"], inplace=True)"
      ],
      "execution_count": null,
      "outputs": []
    },
    {
      "cell_type": "code",
      "metadata": {
        "colab": {
          "base_uri": "https://localhost:8080/",
          "height": 363
        },
        "id": "XVZBHemIIGVD",
        "outputId": "188c584b-4ecc-41d9-e23b-a1019022b5dc"
      },
      "source": [
        "X_treino.head(10)"
      ],
      "execution_count": null,
      "outputs": [
        {
          "output_type": "execute_result",
          "data": {
            "text/html": [
              "<div>\n",
              "<style scoped>\n",
              "    .dataframe tbody tr th:only-of-type {\n",
              "        vertical-align: middle;\n",
              "    }\n",
              "\n",
              "    .dataframe tbody tr th {\n",
              "        vertical-align: top;\n",
              "    }\n",
              "\n",
              "    .dataframe thead th {\n",
              "        text-align: right;\n",
              "    }\n",
              "</style>\n",
              "<table border=\"1\" class=\"dataframe\">\n",
              "  <thead>\n",
              "    <tr style=\"text-align: right;\">\n",
              "      <th></th>\n",
              "      <th>PassengerId</th>\n",
              "      <th>Pclass</th>\n",
              "      <th>Name</th>\n",
              "      <th>Sex</th>\n",
              "      <th>Age</th>\n",
              "      <th>SibSp</th>\n",
              "      <th>Parch</th>\n",
              "      <th>Ticket</th>\n",
              "      <th>Fare</th>\n",
              "      <th>Cabin</th>\n",
              "      <th>Embarked</th>\n",
              "    </tr>\n",
              "  </thead>\n",
              "  <tbody>\n",
              "    <tr>\n",
              "      <th>96</th>\n",
              "      <td>988</td>\n",
              "      <td>1</td>\n",
              "      <td>Cavendish, Mrs. Tyrell William (Julia Florence...</td>\n",
              "      <td>female</td>\n",
              "      <td>76.00</td>\n",
              "      <td>1</td>\n",
              "      <td>0.0</td>\n",
              "      <td>19877</td>\n",
              "      <td>78.8500</td>\n",
              "      <td>C46</td>\n",
              "      <td>S</td>\n",
              "    </tr>\n",
              "    <tr>\n",
              "      <th>381</th>\n",
              "      <td>1273</td>\n",
              "      <td>3</td>\n",
              "      <td>Foley, Mr. Joseph</td>\n",
              "      <td>male</td>\n",
              "      <td>26.00</td>\n",
              "      <td>0</td>\n",
              "      <td>0.0</td>\n",
              "      <td>330910</td>\n",
              "      <td>7.8792</td>\n",
              "      <td>NaN</td>\n",
              "      <td>Q</td>\n",
              "    </tr>\n",
              "    <tr>\n",
              "      <th>89</th>\n",
              "      <td>981</td>\n",
              "      <td>2</td>\n",
              "      <td>Wells, Master. Ralph Lester</td>\n",
              "      <td>male</td>\n",
              "      <td>2.00</td>\n",
              "      <td>1</td>\n",
              "      <td>1.0</td>\n",
              "      <td>29103</td>\n",
              "      <td>23.0000</td>\n",
              "      <td>NaN</td>\n",
              "      <td>S</td>\n",
              "    </tr>\n",
              "    <tr>\n",
              "      <th>233</th>\n",
              "      <td>1125</td>\n",
              "      <td>3</td>\n",
              "      <td>Linehan, Mr. Michael</td>\n",
              "      <td>male</td>\n",
              "      <td>NaN</td>\n",
              "      <td>0</td>\n",
              "      <td>0.0</td>\n",
              "      <td>330971</td>\n",
              "      <td>7.8792</td>\n",
              "      <td>NaN</td>\n",
              "      <td>Q</td>\n",
              "    </tr>\n",
              "    <tr>\n",
              "      <th>191</th>\n",
              "      <td>1083</td>\n",
              "      <td>1</td>\n",
              "      <td>Salomon, Mr. Abraham L</td>\n",
              "      <td>NaN</td>\n",
              "      <td>NaN</td>\n",
              "      <td>0</td>\n",
              "      <td>0.0</td>\n",
              "      <td>111163</td>\n",
              "      <td>26.0000</td>\n",
              "      <td>NaN</td>\n",
              "      <td>S</td>\n",
              "    </tr>\n",
              "    <tr>\n",
              "      <th>354</th>\n",
              "      <td>1246</td>\n",
              "      <td>3</td>\n",
              "      <td>Dean, Miss. Elizabeth Gladys Millvina\"\"</td>\n",
              "      <td>female</td>\n",
              "      <td>0.17</td>\n",
              "      <td>1</td>\n",
              "      <td>2.0</td>\n",
              "      <td>C.A. 2315</td>\n",
              "      <td>20.5750</td>\n",
              "      <td>NaN</td>\n",
              "      <td>S</td>\n",
              "    </tr>\n",
              "    <tr>\n",
              "      <th>253</th>\n",
              "      <td>1145</td>\n",
              "      <td>3</td>\n",
              "      <td>Salander, Mr. Karl Johan</td>\n",
              "      <td>male</td>\n",
              "      <td>24.00</td>\n",
              "      <td>0</td>\n",
              "      <td>0.0</td>\n",
              "      <td>7266</td>\n",
              "      <td>9.3250</td>\n",
              "      <td>NaN</td>\n",
              "      <td>S</td>\n",
              "    </tr>\n",
              "    <tr>\n",
              "      <th>92</th>\n",
              "      <td>984</td>\n",
              "      <td>1</td>\n",
              "      <td>Davidson, Mrs. Thornton (Orian Hays)</td>\n",
              "      <td>female</td>\n",
              "      <td>27.00</td>\n",
              "      <td>1</td>\n",
              "      <td>2.0</td>\n",
              "      <td>F.C. 12750</td>\n",
              "      <td>52.0000</td>\n",
              "      <td>B71</td>\n",
              "      <td>S</td>\n",
              "    </tr>\n",
              "    <tr>\n",
              "      <th>240</th>\n",
              "      <td>1132</td>\n",
              "      <td>1</td>\n",
              "      <td>Lindstrom, Mrs. Carl Johan (Sigrid Posse)</td>\n",
              "      <td>NaN</td>\n",
              "      <td>55.00</td>\n",
              "      <td>0</td>\n",
              "      <td>0.0</td>\n",
              "      <td>112377</td>\n",
              "      <td>27.7208</td>\n",
              "      <td>NaN</td>\n",
              "      <td>C</td>\n",
              "    </tr>\n",
              "    <tr>\n",
              "      <th>194</th>\n",
              "      <td>1086</td>\n",
              "      <td>2</td>\n",
              "      <td>Drew, Master. Marshall Brines</td>\n",
              "      <td>male</td>\n",
              "      <td>8.00</td>\n",
              "      <td>0</td>\n",
              "      <td>2.0</td>\n",
              "      <td>28220</td>\n",
              "      <td>32.5000</td>\n",
              "      <td>NaN</td>\n",
              "      <td>S</td>\n",
              "    </tr>\n",
              "  </tbody>\n",
              "</table>\n",
              "</div>"
            ],
            "text/plain": [
              "     PassengerId  Pclass  ... Cabin Embarked\n",
              "96           988       1  ...   C46        S\n",
              "381         1273       3  ...   NaN        Q\n",
              "89           981       2  ...   NaN        S\n",
              "233         1125       3  ...   NaN        Q\n",
              "191         1083       1  ...   NaN        S\n",
              "354         1246       3  ...   NaN        S\n",
              "253         1145       3  ...   NaN        S\n",
              "92           984       1  ...   B71        S\n",
              "240         1132       1  ...   NaN        C\n",
              "194         1086       2  ...   NaN        S\n",
              "\n",
              "[10 rows x 11 columns]"
            ]
          },
          "metadata": {},
          "execution_count": 170
        }
      ]
    },
    {
      "cell_type": "code",
      "metadata": {
        "colab": {
          "base_uri": "https://localhost:8080/",
          "height": 363
        },
        "id": "XyvVFY4QIU4k",
        "outputId": "e78f016e-72fa-4cf8-e45f-ebca47ffb518"
      },
      "source": [
        "X_teste.head(10)"
      ],
      "execution_count": null,
      "outputs": [
        {
          "output_type": "execute_result",
          "data": {
            "text/html": [
              "<div>\n",
              "<style scoped>\n",
              "    .dataframe tbody tr th:only-of-type {\n",
              "        vertical-align: middle;\n",
              "    }\n",
              "\n",
              "    .dataframe tbody tr th {\n",
              "        vertical-align: top;\n",
              "    }\n",
              "\n",
              "    .dataframe thead th {\n",
              "        text-align: right;\n",
              "    }\n",
              "</style>\n",
              "<table border=\"1\" class=\"dataframe\">\n",
              "  <thead>\n",
              "    <tr style=\"text-align: right;\">\n",
              "      <th></th>\n",
              "      <th>PassengerId</th>\n",
              "      <th>Pclass</th>\n",
              "      <th>Name</th>\n",
              "      <th>Sex</th>\n",
              "      <th>Age</th>\n",
              "      <th>SibSp</th>\n",
              "      <th>Parch</th>\n",
              "      <th>Ticket</th>\n",
              "      <th>Fare</th>\n",
              "      <th>Cabin</th>\n",
              "      <th>Embarked</th>\n",
              "    </tr>\n",
              "  </thead>\n",
              "  <tbody>\n",
              "    <tr>\n",
              "      <th>360</th>\n",
              "      <td>1252</td>\n",
              "      <td>3</td>\n",
              "      <td>Sage, Master. William Henry</td>\n",
              "      <td>male</td>\n",
              "      <td>14.5</td>\n",
              "      <td>8</td>\n",
              "      <td>2.0</td>\n",
              "      <td>CA. 2343</td>\n",
              "      <td>69.5500</td>\n",
              "      <td>NaN</td>\n",
              "      <td>S</td>\n",
              "    </tr>\n",
              "    <tr>\n",
              "      <th>170</th>\n",
              "      <td>1062</td>\n",
              "      <td>3</td>\n",
              "      <td>Lithman, Mr. Simon</td>\n",
              "      <td>male</td>\n",
              "      <td>NaN</td>\n",
              "      <td>0</td>\n",
              "      <td>0.0</td>\n",
              "      <td>S.O./P.P. 251</td>\n",
              "      <td>7.5500</td>\n",
              "      <td>NaN</td>\n",
              "      <td>S</td>\n",
              "    </tr>\n",
              "    <tr>\n",
              "      <th>224</th>\n",
              "      <td>1116</td>\n",
              "      <td>1</td>\n",
              "      <td>Candee, Mrs. Edward (Helen Churchill Hungerford)</td>\n",
              "      <td>female</td>\n",
              "      <td>53.0</td>\n",
              "      <td>0</td>\n",
              "      <td>0.0</td>\n",
              "      <td>PC 17606</td>\n",
              "      <td>27.4458</td>\n",
              "      <td>NaN</td>\n",
              "      <td>C</td>\n",
              "    </tr>\n",
              "    <tr>\n",
              "      <th>358</th>\n",
              "      <td>1250</td>\n",
              "      <td>3</td>\n",
              "      <td>O'Keefe, Mr. Patrick</td>\n",
              "      <td>male</td>\n",
              "      <td>NaN</td>\n",
              "      <td>0</td>\n",
              "      <td>0.0</td>\n",
              "      <td>368402</td>\n",
              "      <td>7.7500</td>\n",
              "      <td>NaN</td>\n",
              "      <td>Q</td>\n",
              "    </tr>\n",
              "    <tr>\n",
              "      <th>309</th>\n",
              "      <td>1201</td>\n",
              "      <td>3</td>\n",
              "      <td>Hansen, Mrs. Claus Peter (Jennie L Howard)</td>\n",
              "      <td>female</td>\n",
              "      <td>45.0</td>\n",
              "      <td>1</td>\n",
              "      <td>0.0</td>\n",
              "      <td>350026</td>\n",
              "      <td>14.1083</td>\n",
              "      <td>NaN</td>\n",
              "      <td>S</td>\n",
              "    </tr>\n",
              "    <tr>\n",
              "      <th>308</th>\n",
              "      <td>1200</td>\n",
              "      <td>1</td>\n",
              "      <td>Hays, Mr. Charles Melville</td>\n",
              "      <td>male</td>\n",
              "      <td>55.0</td>\n",
              "      <td>1</td>\n",
              "      <td>1.0</td>\n",
              "      <td>12749</td>\n",
              "      <td>93.5000</td>\n",
              "      <td>B69</td>\n",
              "      <td>S</td>\n",
              "    </tr>\n",
              "    <tr>\n",
              "      <th>150</th>\n",
              "      <td>1042</td>\n",
              "      <td>1</td>\n",
              "      <td>Earnshaw, Mrs. Boulton (Olive Potter)</td>\n",
              "      <td>female</td>\n",
              "      <td>23.0</td>\n",
              "      <td>0</td>\n",
              "      <td>1.0</td>\n",
              "      <td>11767</td>\n",
              "      <td>83.1583</td>\n",
              "      <td>C54</td>\n",
              "      <td>C</td>\n",
              "    </tr>\n",
              "    <tr>\n",
              "      <th>10</th>\n",
              "      <td>902</td>\n",
              "      <td>3</td>\n",
              "      <td>Ilieff, Mr. Ylio</td>\n",
              "      <td>male</td>\n",
              "      <td>NaN</td>\n",
              "      <td>0</td>\n",
              "      <td>0.0</td>\n",
              "      <td>349220</td>\n",
              "      <td>7.8958</td>\n",
              "      <td>NaN</td>\n",
              "      <td>S</td>\n",
              "    </tr>\n",
              "    <tr>\n",
              "      <th>21</th>\n",
              "      <td>913</td>\n",
              "      <td>3</td>\n",
              "      <td>Olsen, Master. Artur Karl</td>\n",
              "      <td>male</td>\n",
              "      <td>9.0</td>\n",
              "      <td>0</td>\n",
              "      <td>1.0</td>\n",
              "      <td>C 17368</td>\n",
              "      <td>3.1708</td>\n",
              "      <td>NaN</td>\n",
              "      <td>S</td>\n",
              "    </tr>\n",
              "    <tr>\n",
              "      <th>261</th>\n",
              "      <td>1153</td>\n",
              "      <td>3</td>\n",
              "      <td>Nilsson, Mr. August Ferdinand</td>\n",
              "      <td>male</td>\n",
              "      <td>21.0</td>\n",
              "      <td>0</td>\n",
              "      <td>0.0</td>\n",
              "      <td>350410</td>\n",
              "      <td>7.8542</td>\n",
              "      <td>NaN</td>\n",
              "      <td>S</td>\n",
              "    </tr>\n",
              "  </tbody>\n",
              "</table>\n",
              "</div>"
            ],
            "text/plain": [
              "     PassengerId  Pclass  ... Cabin Embarked\n",
              "360         1252       3  ...   NaN        S\n",
              "170         1062       3  ...   NaN        S\n",
              "224         1116       1  ...   NaN        C\n",
              "358         1250       3  ...   NaN        Q\n",
              "309         1201       3  ...   NaN        S\n",
              "308         1200       1  ...   B69        S\n",
              "150         1042       1  ...   C54        C\n",
              "10           902       3  ...   NaN        S\n",
              "21           913       3  ...   NaN        S\n",
              "261         1153       3  ...   NaN        S\n",
              "\n",
              "[10 rows x 11 columns]"
            ]
          },
          "metadata": {},
          "execution_count": 171
        }
      ]
    },
    {
      "cell_type": "code",
      "metadata": {
        "id": "pqeGnOKlIxcf"
      },
      "source": [
        "numericos_treino =X_treino[[\"PassengerId\",\"Pclass\",\"Age\",\"SibSp\",\"Parch\",\"Fare\"]]\n",
        "numericos_teste =X_teste[[\"PassengerId\",\"Pclass\",\"Age\",\"SibSp\",\"Parch\",\"Fare\"]]"
      ],
      "execution_count": null,
      "outputs": []
    },
    {
      "cell_type": "code",
      "metadata": {
        "colab": {
          "base_uri": "https://localhost:8080/",
          "height": 206
        },
        "id": "ruf0NpLSVFNd",
        "outputId": "be573e4e-ad73-48be-d778-0810de2f86c9"
      },
      "source": [
        "numericos_treino.head()"
      ],
      "execution_count": null,
      "outputs": [
        {
          "output_type": "execute_result",
          "data": {
            "text/html": [
              "<div>\n",
              "<style scoped>\n",
              "    .dataframe tbody tr th:only-of-type {\n",
              "        vertical-align: middle;\n",
              "    }\n",
              "\n",
              "    .dataframe tbody tr th {\n",
              "        vertical-align: top;\n",
              "    }\n",
              "\n",
              "    .dataframe thead th {\n",
              "        text-align: right;\n",
              "    }\n",
              "</style>\n",
              "<table border=\"1\" class=\"dataframe\">\n",
              "  <thead>\n",
              "    <tr style=\"text-align: right;\">\n",
              "      <th></th>\n",
              "      <th>PassengerId</th>\n",
              "      <th>Pclass</th>\n",
              "      <th>Age</th>\n",
              "      <th>SibSp</th>\n",
              "      <th>Parch</th>\n",
              "      <th>Fare</th>\n",
              "    </tr>\n",
              "  </thead>\n",
              "  <tbody>\n",
              "    <tr>\n",
              "      <th>96</th>\n",
              "      <td>988</td>\n",
              "      <td>1</td>\n",
              "      <td>76.0</td>\n",
              "      <td>1</td>\n",
              "      <td>0.0</td>\n",
              "      <td>78.8500</td>\n",
              "    </tr>\n",
              "    <tr>\n",
              "      <th>381</th>\n",
              "      <td>1273</td>\n",
              "      <td>3</td>\n",
              "      <td>26.0</td>\n",
              "      <td>0</td>\n",
              "      <td>0.0</td>\n",
              "      <td>7.8792</td>\n",
              "    </tr>\n",
              "    <tr>\n",
              "      <th>89</th>\n",
              "      <td>981</td>\n",
              "      <td>2</td>\n",
              "      <td>2.0</td>\n",
              "      <td>1</td>\n",
              "      <td>1.0</td>\n",
              "      <td>23.0000</td>\n",
              "    </tr>\n",
              "    <tr>\n",
              "      <th>233</th>\n",
              "      <td>1125</td>\n",
              "      <td>3</td>\n",
              "      <td>28.0</td>\n",
              "      <td>0</td>\n",
              "      <td>0.0</td>\n",
              "      <td>7.8792</td>\n",
              "    </tr>\n",
              "    <tr>\n",
              "      <th>191</th>\n",
              "      <td>1083</td>\n",
              "      <td>1</td>\n",
              "      <td>28.0</td>\n",
              "      <td>0</td>\n",
              "      <td>0.0</td>\n",
              "      <td>26.0000</td>\n",
              "    </tr>\n",
              "  </tbody>\n",
              "</table>\n",
              "</div>"
            ],
            "text/plain": [
              "     PassengerId  Pclass   Age  SibSp  Parch     Fare\n",
              "96           988       1  76.0      1    0.0  78.8500\n",
              "381         1273       3  26.0      0    0.0   7.8792\n",
              "89           981       2   2.0      1    1.0  23.0000\n",
              "233         1125       3  28.0      0    0.0   7.8792\n",
              "191         1083       1  28.0      0    0.0  26.0000"
            ]
          },
          "metadata": {},
          "execution_count": 106
        }
      ]
    },
    {
      "cell_type": "code",
      "metadata": {
        "colab": {
          "base_uri": "https://localhost:8080/",
          "height": 206
        },
        "id": "3QIQz1ijVHh6",
        "outputId": "c7a4e12b-32a4-419c-8359-d8d92fa3a37b"
      },
      "source": [
        "numericos_teste.head()"
      ],
      "execution_count": null,
      "outputs": [
        {
          "output_type": "execute_result",
          "data": {
            "text/html": [
              "<div>\n",
              "<style scoped>\n",
              "    .dataframe tbody tr th:only-of-type {\n",
              "        vertical-align: middle;\n",
              "    }\n",
              "\n",
              "    .dataframe tbody tr th {\n",
              "        vertical-align: top;\n",
              "    }\n",
              "\n",
              "    .dataframe thead th {\n",
              "        text-align: right;\n",
              "    }\n",
              "</style>\n",
              "<table border=\"1\" class=\"dataframe\">\n",
              "  <thead>\n",
              "    <tr style=\"text-align: right;\">\n",
              "      <th></th>\n",
              "      <th>PassengerId</th>\n",
              "      <th>Pclass</th>\n",
              "      <th>Age</th>\n",
              "      <th>SibSp</th>\n",
              "      <th>Parch</th>\n",
              "      <th>Fare</th>\n",
              "    </tr>\n",
              "  </thead>\n",
              "  <tbody>\n",
              "    <tr>\n",
              "      <th>360</th>\n",
              "      <td>1252</td>\n",
              "      <td>3</td>\n",
              "      <td>14.5</td>\n",
              "      <td>8</td>\n",
              "      <td>2.0</td>\n",
              "      <td>69.5500</td>\n",
              "    </tr>\n",
              "    <tr>\n",
              "      <th>170</th>\n",
              "      <td>1062</td>\n",
              "      <td>3</td>\n",
              "      <td>28.0</td>\n",
              "      <td>0</td>\n",
              "      <td>0.0</td>\n",
              "      <td>7.5500</td>\n",
              "    </tr>\n",
              "    <tr>\n",
              "      <th>224</th>\n",
              "      <td>1116</td>\n",
              "      <td>1</td>\n",
              "      <td>53.0</td>\n",
              "      <td>0</td>\n",
              "      <td>0.0</td>\n",
              "      <td>27.4458</td>\n",
              "    </tr>\n",
              "    <tr>\n",
              "      <th>358</th>\n",
              "      <td>1250</td>\n",
              "      <td>3</td>\n",
              "      <td>28.0</td>\n",
              "      <td>0</td>\n",
              "      <td>0.0</td>\n",
              "      <td>7.7500</td>\n",
              "    </tr>\n",
              "    <tr>\n",
              "      <th>309</th>\n",
              "      <td>1201</td>\n",
              "      <td>3</td>\n",
              "      <td>45.0</td>\n",
              "      <td>1</td>\n",
              "      <td>0.0</td>\n",
              "      <td>14.1083</td>\n",
              "    </tr>\n",
              "  </tbody>\n",
              "</table>\n",
              "</div>"
            ],
            "text/plain": [
              "     PassengerId  Pclass   Age  SibSp  Parch     Fare\n",
              "360         1252       3  14.5      8    2.0  69.5500\n",
              "170         1062       3  28.0      0    0.0   7.5500\n",
              "224         1116       1  53.0      0    0.0  27.4458\n",
              "358         1250       3  28.0      0    0.0   7.7500\n",
              "309         1201       3  45.0      1    0.0  14.1083"
            ]
          },
          "metadata": {},
          "execution_count": 108
        }
      ]
    },
    {
      "cell_type": "code",
      "metadata": {
        "id": "5EisHRqzV1uI"
      },
      "source": [
        "from sklearn.impute import SimpleImputer\n",
        "\n",
        "imputer = SimpleImputer(strategy=\"mean\")"
      ],
      "execution_count": null,
      "outputs": []
    },
    {
      "cell_type": "code",
      "metadata": {
        "colab": {
          "base_uri": "https://localhost:8080/"
        },
        "id": "JtLEr3AoZHoC",
        "outputId": "61c570f3-2022-4e06-9e73-9107973cd70a"
      },
      "source": [
        "imputer.fit(numericos_treino)"
      ],
      "execution_count": null,
      "outputs": [
        {
          "output_type": "execute_result",
          "data": {
            "text/plain": [
              "SimpleImputer()"
            ]
          },
          "metadata": {},
          "execution_count": 110
        }
      ]
    },
    {
      "cell_type": "code",
      "metadata": {
        "colab": {
          "base_uri": "https://localhost:8080/"
        },
        "id": "_b9Hcy5WZLLd",
        "outputId": "b95ccba2-59f1-476f-8ff7-950c39655f4c"
      },
      "source": [
        "imputer.statistics_"
      ],
      "execution_count": null,
      "outputs": [
        {
          "output_type": "execute_result",
          "data": {
            "text/plain": [
              "array([1.10283904e+03, 2.29794521e+00, 3.00122603e+01, 4.07534247e-01,\n",
              "       3.73287671e-01, 3.18367301e+01])"
            ]
          },
          "metadata": {},
          "execution_count": 111
        }
      ]
    },
    {
      "cell_type": "code",
      "metadata": {
        "id": "xxGcjsitZNMz"
      },
      "source": [
        "numericos_treino = imputer.transform(numericos_treino)\n",
        "numericos_teste =imputer.transform(numericos_teste)"
      ],
      "execution_count": null,
      "outputs": []
    },
    {
      "cell_type": "code",
      "metadata": {
        "colab": {
          "base_uri": "https://localhost:8080/"
        },
        "id": "OMenoq3Uam5Y",
        "outputId": "6ea1cc7b-82ac-4d05-e6d8-a8bded35bd9b"
      },
      "source": [
        "numericos_treino"
      ],
      "execution_count": null,
      "outputs": [
        {
          "output_type": "execute_result",
          "data": {
            "text/plain": [
              "array([[9.8800e+02, 1.0000e+00, 7.6000e+01, 1.0000e+00, 0.0000e+00,\n",
              "        7.8850e+01],\n",
              "       [1.2730e+03, 3.0000e+00, 2.6000e+01, 0.0000e+00, 0.0000e+00,\n",
              "        7.8792e+00],\n",
              "       [9.8100e+02, 2.0000e+00, 2.0000e+00, 1.0000e+00, 1.0000e+00,\n",
              "        2.3000e+01],\n",
              "       ...,\n",
              "       [1.0090e+03, 3.0000e+00, 1.0000e+00, 1.0000e+00, 1.0000e+00,\n",
              "        1.6700e+01],\n",
              "       [9.3900e+02, 3.0000e+00, 2.8000e+01, 0.0000e+00, 0.0000e+00,\n",
              "        7.7500e+00],\n",
              "       [1.0640e+03, 3.0000e+00, 2.3000e+01, 1.0000e+00, 0.0000e+00,\n",
              "        1.3900e+01]])"
            ]
          },
          "metadata": {},
          "execution_count": 113
        }
      ]
    },
    {
      "cell_type": "code",
      "metadata": {
        "id": "lKQLYbjaa6GV"
      },
      "source": [
        "numericos_treino = pd.DataFrame(numericos_treino,columns=[\"PassengerId\",\"Pclass\",\"Age\",\"SibSp\",\"Parch\",\"Fare\"])\n",
        "numericos_teste = pd.DataFrame(numericos_teste,columns=[\"PassengerId\",\"Pclass\",\"Age\",\"SibSp\",\"Parch\",\"Fare\"])"
      ],
      "execution_count": null,
      "outputs": []
    },
    {
      "cell_type": "code",
      "metadata": {
        "colab": {
          "base_uri": "https://localhost:8080/",
          "height": 206
        },
        "id": "r7mW6fFpcNIT",
        "outputId": "79613397-17fb-4a34-d14f-d142cad4e247"
      },
      "source": [
        "numericos_treino.head()"
      ],
      "execution_count": null,
      "outputs": [
        {
          "output_type": "execute_result",
          "data": {
            "text/html": [
              "<div>\n",
              "<style scoped>\n",
              "    .dataframe tbody tr th:only-of-type {\n",
              "        vertical-align: middle;\n",
              "    }\n",
              "\n",
              "    .dataframe tbody tr th {\n",
              "        vertical-align: top;\n",
              "    }\n",
              "\n",
              "    .dataframe thead th {\n",
              "        text-align: right;\n",
              "    }\n",
              "</style>\n",
              "<table border=\"1\" class=\"dataframe\">\n",
              "  <thead>\n",
              "    <tr style=\"text-align: right;\">\n",
              "      <th></th>\n",
              "      <th>PassengerId</th>\n",
              "      <th>Pclass</th>\n",
              "      <th>Age</th>\n",
              "      <th>SibSp</th>\n",
              "      <th>Parch</th>\n",
              "      <th>Fare</th>\n",
              "    </tr>\n",
              "  </thead>\n",
              "  <tbody>\n",
              "    <tr>\n",
              "      <th>0</th>\n",
              "      <td>988.0</td>\n",
              "      <td>1.0</td>\n",
              "      <td>76.0</td>\n",
              "      <td>1.0</td>\n",
              "      <td>0.0</td>\n",
              "      <td>78.8500</td>\n",
              "    </tr>\n",
              "    <tr>\n",
              "      <th>1</th>\n",
              "      <td>1273.0</td>\n",
              "      <td>3.0</td>\n",
              "      <td>26.0</td>\n",
              "      <td>0.0</td>\n",
              "      <td>0.0</td>\n",
              "      <td>7.8792</td>\n",
              "    </tr>\n",
              "    <tr>\n",
              "      <th>2</th>\n",
              "      <td>981.0</td>\n",
              "      <td>2.0</td>\n",
              "      <td>2.0</td>\n",
              "      <td>1.0</td>\n",
              "      <td>1.0</td>\n",
              "      <td>23.0000</td>\n",
              "    </tr>\n",
              "    <tr>\n",
              "      <th>3</th>\n",
              "      <td>1125.0</td>\n",
              "      <td>3.0</td>\n",
              "      <td>28.0</td>\n",
              "      <td>0.0</td>\n",
              "      <td>0.0</td>\n",
              "      <td>7.8792</td>\n",
              "    </tr>\n",
              "    <tr>\n",
              "      <th>4</th>\n",
              "      <td>1083.0</td>\n",
              "      <td>1.0</td>\n",
              "      <td>28.0</td>\n",
              "      <td>0.0</td>\n",
              "      <td>0.0</td>\n",
              "      <td>26.0000</td>\n",
              "    </tr>\n",
              "  </tbody>\n",
              "</table>\n",
              "</div>"
            ],
            "text/plain": [
              "   PassengerId  Pclass   Age  SibSp  Parch     Fare\n",
              "0        988.0     1.0  76.0    1.0    0.0  78.8500\n",
              "1       1273.0     3.0  26.0    0.0    0.0   7.8792\n",
              "2        981.0     2.0   2.0    1.0    1.0  23.0000\n",
              "3       1125.0     3.0  28.0    0.0    0.0   7.8792\n",
              "4       1083.0     1.0  28.0    0.0    0.0  26.0000"
            ]
          },
          "metadata": {},
          "execution_count": 115
        }
      ]
    },
    {
      "cell_type": "code",
      "metadata": {
        "colab": {
          "base_uri": "https://localhost:8080/",
          "height": 206
        },
        "id": "2lL0gHkucb6K",
        "outputId": "9e5910bf-d134-45c9-cc9c-916e381726e1"
      },
      "source": [
        "numericos_teste.head()"
      ],
      "execution_count": null,
      "outputs": [
        {
          "output_type": "execute_result",
          "data": {
            "text/html": [
              "<div>\n",
              "<style scoped>\n",
              "    .dataframe tbody tr th:only-of-type {\n",
              "        vertical-align: middle;\n",
              "    }\n",
              "\n",
              "    .dataframe tbody tr th {\n",
              "        vertical-align: top;\n",
              "    }\n",
              "\n",
              "    .dataframe thead th {\n",
              "        text-align: right;\n",
              "    }\n",
              "</style>\n",
              "<table border=\"1\" class=\"dataframe\">\n",
              "  <thead>\n",
              "    <tr style=\"text-align: right;\">\n",
              "      <th></th>\n",
              "      <th>PassengerId</th>\n",
              "      <th>Pclass</th>\n",
              "      <th>Age</th>\n",
              "      <th>SibSp</th>\n",
              "      <th>Parch</th>\n",
              "      <th>Fare</th>\n",
              "    </tr>\n",
              "  </thead>\n",
              "  <tbody>\n",
              "    <tr>\n",
              "      <th>0</th>\n",
              "      <td>1252.0</td>\n",
              "      <td>3.0</td>\n",
              "      <td>14.5</td>\n",
              "      <td>8.0</td>\n",
              "      <td>2.0</td>\n",
              "      <td>69.5500</td>\n",
              "    </tr>\n",
              "    <tr>\n",
              "      <th>1</th>\n",
              "      <td>1062.0</td>\n",
              "      <td>3.0</td>\n",
              "      <td>28.0</td>\n",
              "      <td>0.0</td>\n",
              "      <td>0.0</td>\n",
              "      <td>7.5500</td>\n",
              "    </tr>\n",
              "    <tr>\n",
              "      <th>2</th>\n",
              "      <td>1116.0</td>\n",
              "      <td>1.0</td>\n",
              "      <td>53.0</td>\n",
              "      <td>0.0</td>\n",
              "      <td>0.0</td>\n",
              "      <td>27.4458</td>\n",
              "    </tr>\n",
              "    <tr>\n",
              "      <th>3</th>\n",
              "      <td>1250.0</td>\n",
              "      <td>3.0</td>\n",
              "      <td>28.0</td>\n",
              "      <td>0.0</td>\n",
              "      <td>0.0</td>\n",
              "      <td>7.7500</td>\n",
              "    </tr>\n",
              "    <tr>\n",
              "      <th>4</th>\n",
              "      <td>1201.0</td>\n",
              "      <td>3.0</td>\n",
              "      <td>45.0</td>\n",
              "      <td>1.0</td>\n",
              "      <td>0.0</td>\n",
              "      <td>14.1083</td>\n",
              "    </tr>\n",
              "  </tbody>\n",
              "</table>\n",
              "</div>"
            ],
            "text/plain": [
              "   PassengerId  Pclass   Age  SibSp  Parch     Fare\n",
              "0       1252.0     3.0  14.5    8.0    2.0  69.5500\n",
              "1       1062.0     3.0  28.0    0.0    0.0   7.5500\n",
              "2       1116.0     1.0  53.0    0.0    0.0  27.4458\n",
              "3       1250.0     3.0  28.0    0.0    0.0   7.7500\n",
              "4       1201.0     3.0  45.0    1.0    0.0  14.1083"
            ]
          },
          "metadata": {},
          "execution_count": 116
        }
      ]
    },
    {
      "cell_type": "code",
      "metadata": {
        "colab": {
          "base_uri": "https://localhost:8080/"
        },
        "id": "3TtLxLKAc2oA",
        "outputId": "64e21dac-1a94-4e97-a7b9-661abfc6d324"
      },
      "source": [
        "numericos_treino.isnull().mean()"
      ],
      "execution_count": null,
      "outputs": [
        {
          "output_type": "execute_result",
          "data": {
            "text/plain": [
              "PassengerId    0.0\n",
              "Pclass         0.0\n",
              "Age            0.0\n",
              "SibSp          0.0\n",
              "Parch          0.0\n",
              "Fare           0.0\n",
              "dtype: float64"
            ]
          },
          "metadata": {},
          "execution_count": 117
        }
      ]
    },
    {
      "cell_type": "code",
      "metadata": {
        "colab": {
          "base_uri": "https://localhost:8080/"
        },
        "id": "TVkdJCi6dktR",
        "outputId": "da6bf3c8-5dd1-4922-a622-22e503dab40f"
      },
      "source": [
        "numericos_teste.isnull().mean()"
      ],
      "execution_count": null,
      "outputs": [
        {
          "output_type": "execute_result",
          "data": {
            "text/plain": [
              "PassengerId    0.0\n",
              "Pclass         0.0\n",
              "Age            0.0\n",
              "SibSp          0.0\n",
              "Parch          0.0\n",
              "Fare           0.0\n",
              "dtype: float64"
            ]
          },
          "metadata": {},
          "execution_count": 118
        }
      ]
    },
    {
      "cell_type": "code",
      "metadata": {
        "id": "0LYigOkvd9ge"
      },
      "source": [
        "numericos_treino =X_treino[[\"PassengerId\",\"Pclass\",\"Age\",\"SibSp\",\"Parch\",\"Fare\"]]\n",
        "numericos_teste =X_teste[[\"PassengerId\",\"Pclass\",\"Age\",\"SibSp\",\"Parch\",\"Fare\"]]"
      ],
      "execution_count": null,
      "outputs": []
    },
    {
      "cell_type": "code",
      "metadata": {
        "colab": {
          "base_uri": "https://localhost:8080/"
        },
        "id": "JPL2927IfAoJ",
        "outputId": "0cf5c949-66c3-4d27-d8d7-5d9a07369e35"
      },
      "source": [
        "numericos_treino.isnull().mean()"
      ],
      "execution_count": null,
      "outputs": [
        {
          "output_type": "execute_result",
          "data": {
            "text/plain": [
              "PassengerId    0.000000\n",
              "Pclass         0.000000\n",
              "Age            0.191781\n",
              "SibSp          0.000000\n",
              "Parch          0.123288\n",
              "Fare           0.003425\n",
              "dtype: float64"
            ]
          },
          "metadata": {},
          "execution_count": 131
        }
      ]
    },
    {
      "cell_type": "code",
      "metadata": {
        "colab": {
          "base_uri": "https://localhost:8080/"
        },
        "id": "zLNMLqfnfDN-",
        "outputId": "73fb58dd-b93c-4b4e-dedd-383889732cb4"
      },
      "source": [
        "numericos_teste.isnull().mean()"
      ],
      "execution_count": null,
      "outputs": [
        {
          "output_type": "execute_result",
          "data": {
            "text/plain": [
              "PassengerId    0.000000\n",
              "Pclass         0.000000\n",
              "Age            0.238095\n",
              "SibSp          0.000000\n",
              "Parch          0.095238\n",
              "Fare           0.000000\n",
              "dtype: float64"
            ]
          },
          "metadata": {},
          "execution_count": 132
        }
      ]
    },
    {
      "cell_type": "code",
      "metadata": {
        "id": "IFl1AQRofI5C"
      },
      "source": [
        "imputer = SimpleImputer(strategy=\"median\")"
      ],
      "execution_count": null,
      "outputs": []
    },
    {
      "cell_type": "code",
      "metadata": {
        "colab": {
          "base_uri": "https://localhost:8080/"
        },
        "id": "prqgirAWhBIz",
        "outputId": "72d78f85-33be-48fd-c533-43ec885e069a"
      },
      "source": [
        "imputer.fit(numericos_treino)"
      ],
      "execution_count": null,
      "outputs": [
        {
          "output_type": "execute_result",
          "data": {
            "text/plain": [
              "SimpleImputer(strategy='median')"
            ]
          },
          "metadata": {},
          "execution_count": 134
        }
      ]
    },
    {
      "cell_type": "code",
      "metadata": {
        "id": "Yk9pG8dihDw-"
      },
      "source": [
        "numericos_treino = imputer.transform(numericos_treino)\n",
        "numericos_teste = imputer.transform(numericos_teste)"
      ],
      "execution_count": null,
      "outputs": []
    },
    {
      "cell_type": "code",
      "metadata": {
        "colab": {
          "base_uri": "https://localhost:8080/"
        },
        "id": "AOlxPQhUhM45",
        "outputId": "eec87e1a-dcd0-4188-8162-c6d998524daa"
      },
      "source": [
        "numericos_treino"
      ],
      "execution_count": null,
      "outputs": [
        {
          "output_type": "execute_result",
          "data": {
            "text/plain": [
              "array([[9.8800e+02, 1.0000e+00, 7.6000e+01, 1.0000e+00, 0.0000e+00,\n",
              "        7.8850e+01],\n",
              "       [1.2730e+03, 3.0000e+00, 2.6000e+01, 0.0000e+00, 0.0000e+00,\n",
              "        7.8792e+00],\n",
              "       [9.8100e+02, 2.0000e+00, 2.0000e+00, 1.0000e+00, 1.0000e+00,\n",
              "        2.3000e+01],\n",
              "       ...,\n",
              "       [1.0090e+03, 3.0000e+00, 1.0000e+00, 1.0000e+00, 1.0000e+00,\n",
              "        1.6700e+01],\n",
              "       [9.3900e+02, 3.0000e+00, 2.8000e+01, 0.0000e+00, 0.0000e+00,\n",
              "        7.7500e+00],\n",
              "       [1.0640e+03, 3.0000e+00, 2.3000e+01, 1.0000e+00, 0.0000e+00,\n",
              "        1.3900e+01]])"
            ]
          },
          "metadata": {},
          "execution_count": 136
        }
      ]
    },
    {
      "cell_type": "code",
      "metadata": {
        "colab": {
          "base_uri": "https://localhost:8080/"
        },
        "id": "BuFPdYTVhOQb",
        "outputId": "9652f950-a790-4c75-b588-a150e8c899cd"
      },
      "source": [
        "numericos_teste"
      ],
      "execution_count": null,
      "outputs": [
        {
          "output_type": "execute_result",
          "data": {
            "text/plain": [
              "array([[1.252000e+03, 3.000000e+00, 1.450000e+01, 8.000000e+00,\n",
              "        2.000000e+00, 6.955000e+01],\n",
              "       [1.062000e+03, 3.000000e+00, 2.800000e+01, 0.000000e+00,\n",
              "        0.000000e+00, 7.550000e+00],\n",
              "       [1.116000e+03, 1.000000e+00, 5.300000e+01, 0.000000e+00,\n",
              "        0.000000e+00, 2.744580e+01],\n",
              "       [1.250000e+03, 3.000000e+00, 2.800000e+01, 0.000000e+00,\n",
              "        0.000000e+00, 7.750000e+00],\n",
              "       [1.201000e+03, 3.000000e+00, 4.500000e+01, 1.000000e+00,\n",
              "        0.000000e+00, 1.410830e+01],\n",
              "       [1.200000e+03, 1.000000e+00, 5.500000e+01, 1.000000e+00,\n",
              "        1.000000e+00, 9.350000e+01],\n",
              "       [1.042000e+03, 1.000000e+00, 2.300000e+01, 0.000000e+00,\n",
              "        1.000000e+00, 8.315830e+01],\n",
              "       [9.020000e+02, 3.000000e+00, 2.800000e+01, 0.000000e+00,\n",
              "        0.000000e+00, 7.895800e+00],\n",
              "       [9.130000e+02, 3.000000e+00, 9.000000e+00, 0.000000e+00,\n",
              "        1.000000e+00, 3.170800e+00],\n",
              "       [1.153000e+03, 3.000000e+00, 2.100000e+01, 0.000000e+00,\n",
              "        0.000000e+00, 7.854200e+00],\n",
              "       [1.241000e+03, 2.000000e+00, 3.100000e+01, 0.000000e+00,\n",
              "        0.000000e+00, 2.100000e+01],\n",
              "       [9.510000e+02, 1.000000e+00, 3.600000e+01, 0.000000e+00,\n",
              "        0.000000e+00, 2.623750e+02],\n",
              "       [1.298000e+03, 2.000000e+00, 2.300000e+01, 1.000000e+00,\n",
              "        0.000000e+00, 1.050000e+01],\n",
              "       [1.090000e+03, 2.000000e+00, 2.300000e+01, 0.000000e+00,\n",
              "        0.000000e+00, 1.050000e+01],\n",
              "       [1.244000e+03, 2.000000e+00, 1.800000e+01, 0.000000e+00,\n",
              "        0.000000e+00, 7.350000e+01],\n",
              "       [9.680000e+02, 3.000000e+00, 2.800000e+01, 0.000000e+00,\n",
              "        0.000000e+00, 8.050000e+00],\n",
              "       [1.268000e+03, 3.000000e+00, 2.200000e+01, 2.000000e+00,\n",
              "        0.000000e+00, 8.662500e+00],\n",
              "       [1.056000e+03, 2.000000e+00, 4.100000e+01, 0.000000e+00,\n",
              "        0.000000e+00, 1.300000e+01],\n",
              "       [9.040000e+02, 1.000000e+00, 2.300000e+01, 1.000000e+00,\n",
              "        0.000000e+00, 8.226670e+01],\n",
              "       [1.080000e+03, 3.000000e+00, 2.800000e+01, 8.000000e+00,\n",
              "        2.000000e+00, 6.955000e+01],\n",
              "       [1.238000e+03, 2.000000e+00, 2.600000e+01, 0.000000e+00,\n",
              "        0.000000e+00, 1.300000e+01],\n",
              "       [9.290000e+02, 3.000000e+00, 2.100000e+01, 0.000000e+00,\n",
              "        0.000000e+00, 8.662500e+00],\n",
              "       [1.276000e+03, 2.000000e+00, 2.800000e+01, 0.000000e+00,\n",
              "        0.000000e+00, 1.287500e+01],\n",
              "       [9.460000e+02, 2.000000e+00, 2.800000e+01, 0.000000e+00,\n",
              "        0.000000e+00, 1.557920e+01],\n",
              "       [1.037000e+03, 3.000000e+00, 3.100000e+01, 3.000000e+00,\n",
              "        0.000000e+00, 1.800000e+01],\n",
              "       [1.179000e+03, 1.000000e+00, 2.400000e+01, 1.000000e+00,\n",
              "        0.000000e+00, 8.226670e+01],\n",
              "       [1.091000e+03, 3.000000e+00, 2.800000e+01, 0.000000e+00,\n",
              "        0.000000e+00, 8.112500e+00],\n",
              "       [1.146000e+03, 3.000000e+00, 3.250000e+01, 0.000000e+00,\n",
              "        0.000000e+00, 9.500000e+00],\n",
              "       [1.270000e+03, 1.000000e+00, 5.500000e+01, 0.000000e+00,\n",
              "        0.000000e+00, 5.000000e+01],\n",
              "       [1.202000e+03, 3.000000e+00, 1.800000e+01, 0.000000e+00,\n",
              "        0.000000e+00, 8.662500e+00],\n",
              "       [1.267000e+03, 1.000000e+00, 4.500000e+01, 0.000000e+00,\n",
              "        0.000000e+00, 2.623750e+02],\n",
              "       [1.131000e+03, 1.000000e+00, 4.800000e+01, 1.000000e+00,\n",
              "        0.000000e+00, 1.064250e+02],\n",
              "       [9.820000e+02, 3.000000e+00, 2.200000e+01, 1.000000e+00,\n",
              "        0.000000e+00, 1.390000e+01],\n",
              "       [9.070000e+02, 2.000000e+00, 2.400000e+01, 1.000000e+00,\n",
              "        0.000000e+00, 2.772080e+01],\n",
              "       [1.302000e+03, 3.000000e+00, 2.800000e+01, 0.000000e+00,\n",
              "        0.000000e+00, 7.750000e+00],\n",
              "       [1.231000e+03, 3.000000e+00, 2.800000e+01, 0.000000e+00,\n",
              "        0.000000e+00, 7.229200e+00],\n",
              "       [1.194000e+03, 2.000000e+00, 4.300000e+01, 0.000000e+00,\n",
              "        1.000000e+00, 2.100000e+01],\n",
              "       [1.033000e+03, 1.000000e+00, 3.300000e+01, 0.000000e+00,\n",
              "        0.000000e+00, 1.515500e+02],\n",
              "       [9.660000e+02, 1.000000e+00, 3.500000e+01, 0.000000e+00,\n",
              "        0.000000e+00, 2.115000e+02],\n",
              "       [1.141000e+03, 3.000000e+00, 2.800000e+01, 1.000000e+00,\n",
              "        0.000000e+00, 1.445420e+01],\n",
              "       [1.253000e+03, 2.000000e+00, 2.400000e+01, 1.000000e+00,\n",
              "        1.000000e+00, 3.700420e+01],\n",
              "       [9.700000e+02, 2.000000e+00, 3.000000e+01, 0.000000e+00,\n",
              "        0.000000e+00, 1.300000e+01],\n",
              "       [1.174000e+03, 3.000000e+00, 2.800000e+01, 0.000000e+00,\n",
              "        0.000000e+00, 7.750000e+00],\n",
              "       [1.259000e+03, 3.000000e+00, 2.200000e+01, 0.000000e+00,\n",
              "        0.000000e+00, 3.968750e+01],\n",
              "       [1.193000e+03, 2.000000e+00, 2.800000e+01, 0.000000e+00,\n",
              "        0.000000e+00, 1.504580e+01],\n",
              "       [1.045000e+03, 3.000000e+00, 3.600000e+01, 0.000000e+00,\n",
              "        2.000000e+00, 1.218330e+01],\n",
              "       [1.111000e+03, 3.000000e+00, 2.800000e+01, 0.000000e+00,\n",
              "        0.000000e+00, 8.050000e+00],\n",
              "       [1.280000e+03, 3.000000e+00, 2.100000e+01, 0.000000e+00,\n",
              "        0.000000e+00, 7.750000e+00],\n",
              "       [9.520000e+02, 3.000000e+00, 1.700000e+01, 0.000000e+00,\n",
              "        0.000000e+00, 7.895800e+00],\n",
              "       [1.221000e+03, 2.000000e+00, 2.100000e+01, 0.000000e+00,\n",
              "        0.000000e+00, 1.300000e+01],\n",
              "       [1.309000e+03, 3.000000e+00, 2.800000e+01, 1.000000e+00,\n",
              "        1.000000e+00, 2.235830e+01],\n",
              "       [8.980000e+02, 3.000000e+00, 3.000000e+01, 0.000000e+00,\n",
              "        0.000000e+00, 7.629200e+00],\n",
              "       [8.930000e+02, 3.000000e+00, 4.700000e+01, 1.000000e+00,\n",
              "        0.000000e+00, 7.000000e+00],\n",
              "       [1.204000e+03, 3.000000e+00, 2.800000e+01, 0.000000e+00,\n",
              "        0.000000e+00, 7.575000e+00],\n",
              "       [1.036000e+03, 1.000000e+00, 4.200000e+01, 0.000000e+00,\n",
              "        0.000000e+00, 2.655000e+01],\n",
              "       [1.164000e+03, 1.000000e+00, 2.600000e+01, 1.000000e+00,\n",
              "        0.000000e+00, 1.367792e+02],\n",
              "       [1.163000e+03, 3.000000e+00, 2.800000e+01, 0.000000e+00,\n",
              "        0.000000e+00, 7.750000e+00],\n",
              "       [1.024000e+03, 3.000000e+00, 2.800000e+01, 0.000000e+00,\n",
              "        4.000000e+00, 2.546670e+01],\n",
              "       [1.127000e+03, 3.000000e+00, 2.000000e+01, 0.000000e+00,\n",
              "        0.000000e+00, 7.854200e+00],\n",
              "       [1.178000e+03, 3.000000e+00, 2.800000e+01, 0.000000e+00,\n",
              "        0.000000e+00, 7.250000e+00],\n",
              "       [1.082000e+03, 2.000000e+00, 3.400000e+01, 1.000000e+00,\n",
              "        0.000000e+00, 2.600000e+01],\n",
              "       [9.570000e+02, 2.000000e+00, 2.800000e+01, 0.000000e+00,\n",
              "        0.000000e+00, 2.100000e+01],\n",
              "       [1.071000e+03, 1.000000e+00, 6.400000e+01, 0.000000e+00,\n",
              "        2.000000e+00, 8.315830e+01],\n",
              "       [1.016000e+03, 3.000000e+00, 2.800000e+01, 0.000000e+00,\n",
              "        0.000000e+00, 7.750000e+00],\n",
              "       [1.026000e+03, 3.000000e+00, 4.300000e+01, 0.000000e+00,\n",
              "        0.000000e+00, 7.895800e+00],\n",
              "       [1.078000e+03, 2.000000e+00, 2.100000e+01, 0.000000e+00,\n",
              "        1.000000e+00, 2.100000e+01],\n",
              "       [9.410000e+02, 3.000000e+00, 3.600000e+01, 0.000000e+00,\n",
              "        2.000000e+00, 1.590000e+01],\n",
              "       [9.440000e+02, 2.000000e+00, 2.000000e+01, 2.000000e+00,\n",
              "        1.000000e+00, 2.300000e+01],\n",
              "       [9.180000e+02, 1.000000e+00, 2.200000e+01, 0.000000e+00,\n",
              "        1.000000e+00, 6.197920e+01],\n",
              "       [9.370000e+02, 3.000000e+00, 2.500000e+01, 0.000000e+00,\n",
              "        0.000000e+00, 7.925000e+00],\n",
              "       [1.027000e+03, 3.000000e+00, 2.400000e+01, 0.000000e+00,\n",
              "        0.000000e+00, 7.854200e+00],\n",
              "       [8.960000e+02, 3.000000e+00, 2.200000e+01, 1.000000e+00,\n",
              "        0.000000e+00, 1.228750e+01],\n",
              "       [1.112000e+03, 2.000000e+00, 3.000000e+01, 1.000000e+00,\n",
              "        0.000000e+00, 1.385830e+01],\n",
              "       [1.263000e+03, 1.000000e+00, 3.100000e+01, 0.000000e+00,\n",
              "        0.000000e+00, 1.345000e+02],\n",
              "       [1.014000e+03, 1.000000e+00, 3.500000e+01, 1.000000e+00,\n",
              "        0.000000e+00, 5.775000e+01],\n",
              "       [1.122000e+03, 2.000000e+00, 1.400000e+01, 0.000000e+00,\n",
              "        0.000000e+00, 6.500000e+01],\n",
              "       [8.970000e+02, 3.000000e+00, 1.400000e+01, 0.000000e+00,\n",
              "        0.000000e+00, 9.225000e+00],\n",
              "       [1.068000e+03, 2.000000e+00, 2.000000e+01, 0.000000e+00,\n",
              "        0.000000e+00, 3.675000e+01],\n",
              "       [1.203000e+03, 3.000000e+00, 2.200000e+01, 0.000000e+00,\n",
              "        0.000000e+00, 7.225000e+00],\n",
              "       [9.920000e+02, 1.000000e+00, 4.300000e+01, 1.000000e+00,\n",
              "        0.000000e+00, 5.544170e+01],\n",
              "       [8.990000e+02, 2.000000e+00, 2.600000e+01, 1.000000e+00,\n",
              "        1.000000e+00, 2.900000e+01],\n",
              "       [9.140000e+02, 1.000000e+00, 2.800000e+01, 0.000000e+00,\n",
              "        0.000000e+00, 3.168330e+01],\n",
              "       [9.600000e+02, 1.000000e+00, 3.100000e+01, 0.000000e+00,\n",
              "        0.000000e+00, 2.853750e+01],\n",
              "       [1.220000e+03, 2.000000e+00, 2.900000e+01, 1.000000e+00,\n",
              "        0.000000e+00, 2.600000e+01],\n",
              "       [9.120000e+02, 1.000000e+00, 5.500000e+01, 1.000000e+00,\n",
              "        0.000000e+00, 5.940000e+01],\n",
              "       [1.198000e+03, 1.000000e+00, 3.000000e+01, 1.000000e+00,\n",
              "        2.000000e+00, 1.515500e+02],\n",
              "       [1.034000e+03, 1.000000e+00, 6.100000e+01, 1.000000e+00,\n",
              "        3.000000e+00, 2.623750e+02],\n",
              "       [9.060000e+02, 1.000000e+00, 4.700000e+01, 1.000000e+00,\n",
              "        0.000000e+00, 6.117500e+01],\n",
              "       [1.176000e+03, 3.000000e+00, 2.000000e+00, 1.000000e+00,\n",
              "        1.000000e+00, 2.021250e+01],\n",
              "       [9.940000e+02, 3.000000e+00, 2.800000e+01, 0.000000e+00,\n",
              "        0.000000e+00, 7.750000e+00],\n",
              "       [1.160000e+03, 3.000000e+00, 2.800000e+01, 0.000000e+00,\n",
              "        0.000000e+00, 8.050000e+00],\n",
              "       [1.005000e+03, 3.000000e+00, 1.850000e+01, 0.000000e+00,\n",
              "        0.000000e+00, 7.283300e+00],\n",
              "       [9.670000e+02, 1.000000e+00, 3.250000e+01, 0.000000e+00,\n",
              "        0.000000e+00, 2.115000e+02],\n",
              "       [9.560000e+02, 1.000000e+00, 1.300000e+01, 2.000000e+00,\n",
              "        2.000000e+00, 2.623750e+02],\n",
              "       [9.470000e+02, 3.000000e+00, 1.000000e+01, 4.000000e+00,\n",
              "        1.000000e+00, 2.912500e+01],\n",
              "       [1.142000e+03, 2.000000e+00, 9.200000e-01, 1.000000e+00,\n",
              "        0.000000e+00, 2.775000e+01],\n",
              "       [1.242000e+03, 1.000000e+00, 4.500000e+01, 0.000000e+00,\n",
              "        1.000000e+00, 6.335830e+01],\n",
              "       [1.138000e+03, 2.000000e+00, 2.200000e+01, 0.000000e+00,\n",
              "        0.000000e+00, 2.100000e+01],\n",
              "       [1.046000e+03, 3.000000e+00, 1.300000e+01, 4.000000e+00,\n",
              "        2.000000e+00, 3.138750e+01],\n",
              "       [1.137000e+03, 1.000000e+00, 4.100000e+01, 1.000000e+00,\n",
              "        0.000000e+00, 5.186250e+01],\n",
              "       [1.282000e+03, 1.000000e+00, 2.300000e+01, 0.000000e+00,\n",
              "        0.000000e+00, 9.350000e+01],\n",
              "       [1.166000e+03, 3.000000e+00, 2.800000e+01, 0.000000e+00,\n",
              "        0.000000e+00, 7.225000e+00],\n",
              "       [1.109000e+03, 1.000000e+00, 5.700000e+01, 1.000000e+00,\n",
              "        1.000000e+00, 1.648667e+02],\n",
              "       [1.289000e+03, 1.000000e+00, 4.800000e+01, 1.000000e+00,\n",
              "        1.000000e+00, 7.920000e+01],\n",
              "       [1.217000e+03, 3.000000e+00, 2.300000e+01, 0.000000e+00,\n",
              "        0.000000e+00, 7.050000e+00],\n",
              "       [1.100000e+03, 1.000000e+00, 3.300000e+01, 0.000000e+00,\n",
              "        0.000000e+00, 2.772080e+01],\n",
              "       [9.480000e+02, 3.000000e+00, 3.500000e+01, 0.000000e+00,\n",
              "        0.000000e+00, 7.895800e+00],\n",
              "       [9.000000e+02, 3.000000e+00, 1.800000e+01, 0.000000e+00,\n",
              "        0.000000e+00, 7.229200e+00],\n",
              "       [1.207000e+03, 3.000000e+00, 1.700000e+01, 0.000000e+00,\n",
              "        0.000000e+00, 7.733300e+00],\n",
              "       [1.047000e+03, 3.000000e+00, 2.400000e+01, 0.000000e+00,\n",
              "        0.000000e+00, 7.550000e+00],\n",
              "       [1.050000e+03, 1.000000e+00, 4.200000e+01, 0.000000e+00,\n",
              "        0.000000e+00, 2.655000e+01],\n",
              "       [1.168000e+03, 2.000000e+00, 2.800000e+01, 0.000000e+00,\n",
              "        0.000000e+00, 1.050000e+01],\n",
              "       [1.299000e+03, 1.000000e+00, 5.000000e+01, 1.000000e+00,\n",
              "        1.000000e+00, 2.115000e+02],\n",
              "       [1.049000e+03, 3.000000e+00, 2.300000e+01, 0.000000e+00,\n",
              "        0.000000e+00, 7.854200e+00],\n",
              "       [9.980000e+02, 3.000000e+00, 2.100000e+01, 0.000000e+00,\n",
              "        0.000000e+00, 7.820800e+00],\n",
              "       [1.155000e+03, 3.000000e+00, 1.000000e+00, 1.000000e+00,\n",
              "        1.000000e+00, 1.218330e+01],\n",
              "       [9.550000e+02, 3.000000e+00, 2.200000e+01, 0.000000e+00,\n",
              "        0.000000e+00, 7.725000e+00],\n",
              "       [1.187000e+03, 3.000000e+00, 2.600000e+01, 0.000000e+00,\n",
              "        0.000000e+00, 7.895800e+00],\n",
              "       [1.060000e+03, 1.000000e+00, 2.800000e+01, 0.000000e+00,\n",
              "        0.000000e+00, 2.772080e+01],\n",
              "       [1.190000e+03, 1.000000e+00, 3.000000e+01, 0.000000e+00,\n",
              "        0.000000e+00, 4.550000e+01],\n",
              "       [1.249000e+03, 3.000000e+00, 2.800000e+01, 0.000000e+00,\n",
              "        0.000000e+00, 7.879200e+00],\n",
              "       [9.730000e+02, 1.000000e+00, 6.700000e+01, 1.000000e+00,\n",
              "        0.000000e+00, 2.217792e+02],\n",
              "       [9.990000e+02, 3.000000e+00, 2.800000e+01, 0.000000e+00,\n",
              "        0.000000e+00, 7.750000e+00],\n",
              "       [1.258000e+03, 3.000000e+00, 2.800000e+01, 1.000000e+00,\n",
              "        0.000000e+00, 1.445830e+01],\n",
              "       [1.306000e+03, 1.000000e+00, 3.900000e+01, 0.000000e+00,\n",
              "        0.000000e+00, 1.089000e+02],\n",
              "       [1.189000e+03, 3.000000e+00, 2.800000e+01, 2.000000e+00,\n",
              "        0.000000e+00, 2.167920e+01]])"
            ]
          },
          "metadata": {},
          "execution_count": 137
        }
      ]
    },
    {
      "cell_type": "code",
      "metadata": {
        "colab": {
          "base_uri": "https://localhost:8080/"
        },
        "id": "I2MrfvvDhQ1W",
        "outputId": "a21cc434-779b-446b-e844-25f5ec8f8470"
      },
      "source": [
        "!pip install feature-engine"
      ],
      "execution_count": null,
      "outputs": [
        {
          "output_type": "stream",
          "name": "stdout",
          "text": [
            "Requirement already satisfied: feature-engine in /usr/local/lib/python3.7/dist-packages (1.1.2)\n",
            "Requirement already satisfied: pandas>=1.0.3 in /usr/local/lib/python3.7/dist-packages (from feature-engine) (1.1.5)\n",
            "Requirement already satisfied: statsmodels>=0.11.1 in /usr/local/lib/python3.7/dist-packages (from feature-engine) (0.13.1)\n",
            "Requirement already satisfied: numpy>=1.18.2 in /usr/local/lib/python3.7/dist-packages (from feature-engine) (1.19.5)\n",
            "Requirement already satisfied: scipy>=1.4.1 in /usr/local/lib/python3.7/dist-packages (from feature-engine) (1.4.1)\n",
            "Requirement already satisfied: scikit-learn>=0.22.2 in /usr/local/lib/python3.7/dist-packages (from feature-engine) (1.0.1)\n",
            "Requirement already satisfied: pytz>=2017.2 in /usr/local/lib/python3.7/dist-packages (from pandas>=1.0.3->feature-engine) (2018.9)\n",
            "Requirement already satisfied: python-dateutil>=2.7.3 in /usr/local/lib/python3.7/dist-packages (from pandas>=1.0.3->feature-engine) (2.8.2)\n",
            "Requirement already satisfied: six>=1.5 in /usr/local/lib/python3.7/dist-packages (from python-dateutil>=2.7.3->pandas>=1.0.3->feature-engine) (1.15.0)\n",
            "Requirement already satisfied: joblib>=0.11 in /usr/local/lib/python3.7/dist-packages (from scikit-learn>=0.22.2->feature-engine) (1.1.0)\n",
            "Requirement already satisfied: threadpoolctl>=2.0.0 in /usr/local/lib/python3.7/dist-packages (from scikit-learn>=0.22.2->feature-engine) (3.0.0)\n",
            "Requirement already satisfied: patsy>=0.5.2 in /usr/local/lib/python3.7/dist-packages (from statsmodels>=0.11.1->feature-engine) (0.5.2)\n"
          ]
        }
      ]
    },
    {
      "cell_type": "code",
      "metadata": {
        "id": "s-oEgOJnliJH"
      },
      "source": [
        "from feature_engine.imputation import MeanMedianImputer"
      ],
      "execution_count": null,
      "outputs": []
    },
    {
      "cell_type": "code",
      "metadata": {
        "colab": {
          "base_uri": "https://localhost:8080/"
        },
        "id": "DPxBD8D2N_MV",
        "outputId": "ef9da7a6-452e-4d13-d508-e5ca588b7a67"
      },
      "source": [
        "X_treino.isnull().mean()"
      ],
      "execution_count": null,
      "outputs": [
        {
          "output_type": "execute_result",
          "data": {
            "text/plain": [
              "PassengerId    0.000000\n",
              "Pclass         0.000000\n",
              "Name           0.000000\n",
              "Sex            0.051370\n",
              "Age            0.191781\n",
              "SibSp          0.000000\n",
              "Parch          0.123288\n",
              "Ticket         0.000000\n",
              "Fare           0.003425\n",
              "Cabin          0.791096\n",
              "Embarked       0.000000\n",
              "dtype: float64"
            ]
          },
          "metadata": {},
          "execution_count": 150
        }
      ]
    },
    {
      "cell_type": "code",
      "metadata": {
        "colab": {
          "base_uri": "https://localhost:8080/"
        },
        "id": "0TjyHT7uOEpI",
        "outputId": "5283d5ef-9f48-4248-cf74-1f58a8fdb492"
      },
      "source": [
        "X_teste.isnull().mean()"
      ],
      "execution_count": null,
      "outputs": [
        {
          "output_type": "execute_result",
          "data": {
            "text/plain": [
              "PassengerId    0.000000\n",
              "Pclass         0.000000\n",
              "Name           0.000000\n",
              "Sex            0.063492\n",
              "Age            0.238095\n",
              "SibSp          0.000000\n",
              "Parch          0.095238\n",
              "Ticket         0.000000\n",
              "Fare           0.000000\n",
              "Cabin          0.761905\n",
              "Embarked       0.000000\n",
              "dtype: float64"
            ]
          },
          "metadata": {},
          "execution_count": 151
        }
      ]
    },
    {
      "cell_type": "code",
      "metadata": {
        "colab": {
          "base_uri": "https://localhost:8080/"
        },
        "id": "2y-l4SDpKS2t",
        "outputId": "67cf90a6-f7a3-417a-942e-e5ec177e5328"
      },
      "source": [
        "X_treino.columns"
      ],
      "execution_count": null,
      "outputs": [
        {
          "output_type": "execute_result",
          "data": {
            "text/plain": [
              "Index(['PassengerId', 'Pclass', 'Name', 'Sex', 'Age', 'SibSp', 'Parch',\n",
              "       'Ticket', 'Fare', 'Cabin', 'Embarked'],\n",
              "      dtype='object')"
            ]
          },
          "metadata": {},
          "execution_count": 72
        }
      ]
    },
    {
      "cell_type": "code",
      "metadata": {
        "id": "zD2h3unhobVe"
      },
      "source": [
        "mediana_imputer = MeanMedianImputer(imputation_method=\"median\",variables=[\"PassengerId\",\"Pclass\",\"Age\",\"SibSp\",\"Parch\",\"Fare\"])"
      ],
      "execution_count": null,
      "outputs": []
    },
    {
      "cell_type": "code",
      "metadata": {
        "colab": {
          "base_uri": "https://localhost:8080/"
        },
        "id": "lsQX2sAjofSU",
        "outputId": "62618fca-7579-40f1-c441-1ef998cf188c"
      },
      "source": [
        "mediana_imputer.fit(X_treino)"
      ],
      "execution_count": null,
      "outputs": [
        {
          "output_type": "execute_result",
          "data": {
            "text/plain": [
              "MeanMedianImputer(variables=['PassengerId', 'Pclass', 'Age', 'SibSp', 'Parch',\n",
              "                             'Fare'])"
            ]
          },
          "metadata": {},
          "execution_count": 173
        }
      ]
    },
    {
      "cell_type": "code",
      "metadata": {
        "colab": {
          "base_uri": "https://localhost:8080/"
        },
        "id": "j8EPM14loh6u",
        "outputId": "c691db82-7279-46a8-a13e-8d61d44666b2"
      },
      "source": [
        "mediana_imputer.imputer_dict_"
      ],
      "execution_count": null,
      "outputs": [
        {
          "output_type": "execute_result",
          "data": {
            "text/plain": [
              "{'Age': 28.0,\n",
              " 'Fare': 13.8583,\n",
              " 'Parch': 0.0,\n",
              " 'PassengerId': 1101.5,\n",
              " 'Pclass': 3.0,\n",
              " 'SibSp': 0.0}"
            ]
          },
          "metadata": {},
          "execution_count": 174
        }
      ]
    },
    {
      "cell_type": "code",
      "metadata": {
        "id": "a8pn44sIoluA"
      },
      "source": [
        "X_treino = mediana_imputer.transform(X_treino)\n",
        "X_teste = mediana_imputer.transform(X_teste)"
      ],
      "execution_count": null,
      "outputs": []
    },
    {
      "cell_type": "code",
      "metadata": {
        "colab": {
          "base_uri": "https://localhost:8080/",
          "height": 206
        },
        "id": "hGqzG0EKpvUo",
        "outputId": "6861c526-a56b-4cef-cd6b-b616c976a3f8"
      },
      "source": [
        "X_treino.head()"
      ],
      "execution_count": null,
      "outputs": [
        {
          "output_type": "execute_result",
          "data": {
            "text/html": [
              "<div>\n",
              "<style scoped>\n",
              "    .dataframe tbody tr th:only-of-type {\n",
              "        vertical-align: middle;\n",
              "    }\n",
              "\n",
              "    .dataframe tbody tr th {\n",
              "        vertical-align: top;\n",
              "    }\n",
              "\n",
              "    .dataframe thead th {\n",
              "        text-align: right;\n",
              "    }\n",
              "</style>\n",
              "<table border=\"1\" class=\"dataframe\">\n",
              "  <thead>\n",
              "    <tr style=\"text-align: right;\">\n",
              "      <th></th>\n",
              "      <th>PassengerId</th>\n",
              "      <th>Pclass</th>\n",
              "      <th>Name</th>\n",
              "      <th>Sex</th>\n",
              "      <th>Age</th>\n",
              "      <th>SibSp</th>\n",
              "      <th>Parch</th>\n",
              "      <th>Ticket</th>\n",
              "      <th>Fare</th>\n",
              "      <th>Cabin</th>\n",
              "      <th>Embarked</th>\n",
              "    </tr>\n",
              "  </thead>\n",
              "  <tbody>\n",
              "    <tr>\n",
              "      <th>96</th>\n",
              "      <td>988</td>\n",
              "      <td>1</td>\n",
              "      <td>Cavendish, Mrs. Tyrell William (Julia Florence...</td>\n",
              "      <td>female</td>\n",
              "      <td>76.0</td>\n",
              "      <td>1</td>\n",
              "      <td>0.0</td>\n",
              "      <td>19877</td>\n",
              "      <td>78.8500</td>\n",
              "      <td>C46</td>\n",
              "      <td>S</td>\n",
              "    </tr>\n",
              "    <tr>\n",
              "      <th>381</th>\n",
              "      <td>1273</td>\n",
              "      <td>3</td>\n",
              "      <td>Foley, Mr. Joseph</td>\n",
              "      <td>male</td>\n",
              "      <td>26.0</td>\n",
              "      <td>0</td>\n",
              "      <td>0.0</td>\n",
              "      <td>330910</td>\n",
              "      <td>7.8792</td>\n",
              "      <td>NaN</td>\n",
              "      <td>Q</td>\n",
              "    </tr>\n",
              "    <tr>\n",
              "      <th>89</th>\n",
              "      <td>981</td>\n",
              "      <td>2</td>\n",
              "      <td>Wells, Master. Ralph Lester</td>\n",
              "      <td>male</td>\n",
              "      <td>2.0</td>\n",
              "      <td>1</td>\n",
              "      <td>1.0</td>\n",
              "      <td>29103</td>\n",
              "      <td>23.0000</td>\n",
              "      <td>NaN</td>\n",
              "      <td>S</td>\n",
              "    </tr>\n",
              "    <tr>\n",
              "      <th>233</th>\n",
              "      <td>1125</td>\n",
              "      <td>3</td>\n",
              "      <td>Linehan, Mr. Michael</td>\n",
              "      <td>male</td>\n",
              "      <td>28.0</td>\n",
              "      <td>0</td>\n",
              "      <td>0.0</td>\n",
              "      <td>330971</td>\n",
              "      <td>7.8792</td>\n",
              "      <td>NaN</td>\n",
              "      <td>Q</td>\n",
              "    </tr>\n",
              "    <tr>\n",
              "      <th>191</th>\n",
              "      <td>1083</td>\n",
              "      <td>1</td>\n",
              "      <td>Salomon, Mr. Abraham L</td>\n",
              "      <td>NaN</td>\n",
              "      <td>28.0</td>\n",
              "      <td>0</td>\n",
              "      <td>0.0</td>\n",
              "      <td>111163</td>\n",
              "      <td>26.0000</td>\n",
              "      <td>NaN</td>\n",
              "      <td>S</td>\n",
              "    </tr>\n",
              "  </tbody>\n",
              "</table>\n",
              "</div>"
            ],
            "text/plain": [
              "     PassengerId  Pclass  ... Cabin Embarked\n",
              "96           988       1  ...   C46        S\n",
              "381         1273       3  ...   NaN        Q\n",
              "89           981       2  ...   NaN        S\n",
              "233         1125       3  ...   NaN        Q\n",
              "191         1083       1  ...   NaN        S\n",
              "\n",
              "[5 rows x 11 columns]"
            ]
          },
          "metadata": {},
          "execution_count": 176
        }
      ]
    },
    {
      "cell_type": "code",
      "metadata": {
        "colab": {
          "base_uri": "https://localhost:8080/",
          "height": 206
        },
        "id": "eua4S7ZJp7_Z",
        "outputId": "1df1d743-0361-4256-fe16-39a55d5fc2fc"
      },
      "source": [
        "X_teste.head()"
      ],
      "execution_count": null,
      "outputs": [
        {
          "output_type": "execute_result",
          "data": {
            "text/html": [
              "<div>\n",
              "<style scoped>\n",
              "    .dataframe tbody tr th:only-of-type {\n",
              "        vertical-align: middle;\n",
              "    }\n",
              "\n",
              "    .dataframe tbody tr th {\n",
              "        vertical-align: top;\n",
              "    }\n",
              "\n",
              "    .dataframe thead th {\n",
              "        text-align: right;\n",
              "    }\n",
              "</style>\n",
              "<table border=\"1\" class=\"dataframe\">\n",
              "  <thead>\n",
              "    <tr style=\"text-align: right;\">\n",
              "      <th></th>\n",
              "      <th>PassengerId</th>\n",
              "      <th>Pclass</th>\n",
              "      <th>Name</th>\n",
              "      <th>Sex</th>\n",
              "      <th>Age</th>\n",
              "      <th>SibSp</th>\n",
              "      <th>Parch</th>\n",
              "      <th>Ticket</th>\n",
              "      <th>Fare</th>\n",
              "      <th>Cabin</th>\n",
              "      <th>Embarked</th>\n",
              "    </tr>\n",
              "  </thead>\n",
              "  <tbody>\n",
              "    <tr>\n",
              "      <th>360</th>\n",
              "      <td>1252</td>\n",
              "      <td>3</td>\n",
              "      <td>Sage, Master. William Henry</td>\n",
              "      <td>male</td>\n",
              "      <td>14.5</td>\n",
              "      <td>8</td>\n",
              "      <td>2.0</td>\n",
              "      <td>CA. 2343</td>\n",
              "      <td>69.5500</td>\n",
              "      <td>NaN</td>\n",
              "      <td>S</td>\n",
              "    </tr>\n",
              "    <tr>\n",
              "      <th>170</th>\n",
              "      <td>1062</td>\n",
              "      <td>3</td>\n",
              "      <td>Lithman, Mr. Simon</td>\n",
              "      <td>male</td>\n",
              "      <td>28.0</td>\n",
              "      <td>0</td>\n",
              "      <td>0.0</td>\n",
              "      <td>S.O./P.P. 251</td>\n",
              "      <td>7.5500</td>\n",
              "      <td>NaN</td>\n",
              "      <td>S</td>\n",
              "    </tr>\n",
              "    <tr>\n",
              "      <th>224</th>\n",
              "      <td>1116</td>\n",
              "      <td>1</td>\n",
              "      <td>Candee, Mrs. Edward (Helen Churchill Hungerford)</td>\n",
              "      <td>female</td>\n",
              "      <td>53.0</td>\n",
              "      <td>0</td>\n",
              "      <td>0.0</td>\n",
              "      <td>PC 17606</td>\n",
              "      <td>27.4458</td>\n",
              "      <td>NaN</td>\n",
              "      <td>C</td>\n",
              "    </tr>\n",
              "    <tr>\n",
              "      <th>358</th>\n",
              "      <td>1250</td>\n",
              "      <td>3</td>\n",
              "      <td>O'Keefe, Mr. Patrick</td>\n",
              "      <td>male</td>\n",
              "      <td>28.0</td>\n",
              "      <td>0</td>\n",
              "      <td>0.0</td>\n",
              "      <td>368402</td>\n",
              "      <td>7.7500</td>\n",
              "      <td>NaN</td>\n",
              "      <td>Q</td>\n",
              "    </tr>\n",
              "    <tr>\n",
              "      <th>309</th>\n",
              "      <td>1201</td>\n",
              "      <td>3</td>\n",
              "      <td>Hansen, Mrs. Claus Peter (Jennie L Howard)</td>\n",
              "      <td>female</td>\n",
              "      <td>45.0</td>\n",
              "      <td>1</td>\n",
              "      <td>0.0</td>\n",
              "      <td>350026</td>\n",
              "      <td>14.1083</td>\n",
              "      <td>NaN</td>\n",
              "      <td>S</td>\n",
              "    </tr>\n",
              "  </tbody>\n",
              "</table>\n",
              "</div>"
            ],
            "text/plain": [
              "     PassengerId  Pclass  ... Cabin Embarked\n",
              "360         1252       3  ...   NaN        S\n",
              "170         1062       3  ...   NaN        S\n",
              "224         1116       1  ...   NaN        C\n",
              "358         1250       3  ...   NaN        Q\n",
              "309         1201       3  ...   NaN        S\n",
              "\n",
              "[5 rows x 11 columns]"
            ]
          },
          "metadata": {},
          "execution_count": 177
        }
      ]
    },
    {
      "cell_type": "code",
      "metadata": {
        "colab": {
          "base_uri": "https://localhost:8080/"
        },
        "id": "XcOgCcURqmsi",
        "outputId": "79f2a0f7-002f-4f09-9379-ee2769b0f834"
      },
      "source": [
        "X_treino.isnull().mean()"
      ],
      "execution_count": null,
      "outputs": [
        {
          "output_type": "execute_result",
          "data": {
            "text/plain": [
              "PassengerId    0.000000\n",
              "Pclass         0.000000\n",
              "Name           0.000000\n",
              "Sex            0.051370\n",
              "Age            0.000000\n",
              "SibSp          0.000000\n",
              "Parch          0.000000\n",
              "Ticket         0.000000\n",
              "Fare           0.000000\n",
              "Cabin          0.791096\n",
              "Embarked       0.000000\n",
              "dtype: float64"
            ]
          },
          "metadata": {},
          "execution_count": 178
        }
      ]
    },
    {
      "cell_type": "code",
      "metadata": {
        "colab": {
          "base_uri": "https://localhost:8080/"
        },
        "id": "aHRprW2xrMRJ",
        "outputId": "6c917471-209e-4f1f-c9ee-8948690f11e3"
      },
      "source": [
        "X_teste.isnull().mean()"
      ],
      "execution_count": null,
      "outputs": [
        {
          "output_type": "execute_result",
          "data": {
            "text/plain": [
              "PassengerId    0.000000\n",
              "Pclass         0.000000\n",
              "Name           0.000000\n",
              "Sex            0.063492\n",
              "Age            0.000000\n",
              "SibSp          0.000000\n",
              "Parch          0.000000\n",
              "Ticket         0.000000\n",
              "Fare           0.000000\n",
              "Cabin          0.761905\n",
              "Embarked       0.000000\n",
              "dtype: float64"
            ]
          },
          "metadata": {},
          "execution_count": 179
        }
      ]
    },
    {
      "cell_type": "code",
      "metadata": {
        "colab": {
          "base_uri": "https://localhost:8080/",
          "height": 165
        },
        "id": "_Di16fgVret7",
        "outputId": "b9c21b37-7839-4bd5-a84c-36dd85a116d0"
      },
      "source": [
        "imputer.imputer_dict_"
      ],
      "execution_count": null,
      "outputs": [
        {
          "output_type": "error",
          "ename": "AttributeError",
          "evalue": "ignored",
          "traceback": [
            "\u001b[0;31m---------------------------------------------------------------------------\u001b[0m",
            "\u001b[0;31mAttributeError\u001b[0m                            Traceback (most recent call last)",
            "\u001b[0;32m<ipython-input-162-929d88de7523>\u001b[0m in \u001b[0;36m<module>\u001b[0;34m()\u001b[0m\n\u001b[0;32m----> 1\u001b[0;31m \u001b[0mimputer\u001b[0m\u001b[0;34m.\u001b[0m\u001b[0mimputer_dict_\u001b[0m\u001b[0;34m\u001b[0m\u001b[0;34m\u001b[0m\u001b[0m\n\u001b[0m",
            "\u001b[0;31mAttributeError\u001b[0m: 'SimpleImputer' object has no attribute 'imputer_dict_'"
          ]
        }
      ]
    },
    {
      "cell_type": "code",
      "metadata": {
        "id": "IWI7znJOU0nm"
      },
      "source": [
        "imputer_mediana = MeanMedianImputer(imputation_method=\"median\",variables = [\"PassengerId\",\"Pclass\",\"Parch\",\"Age\",\"SibSp\",\"Fare\"])"
      ],
      "execution_count": null,
      "outputs": []
    },
    {
      "cell_type": "code",
      "metadata": {
        "colab": {
          "base_uri": "https://localhost:8080/"
        },
        "id": "OiXLpbK3uUyd",
        "outputId": "fdda2667-0dd9-4002-8f25-a74ec7d4bc08"
      },
      "source": [
        "imputer_mediana.fit(X_treino)"
      ],
      "execution_count": null,
      "outputs": [
        {
          "output_type": "execute_result",
          "data": {
            "text/plain": [
              "MeanMedianImputer(variables=['PassengerId', 'Pclass', 'Parch', 'Age', 'SibSp',\n",
              "                             'Fare'])"
            ]
          },
          "metadata": {},
          "execution_count": 100
        }
      ]
    },
    {
      "cell_type": "code",
      "metadata": {
        "colab": {
          "base_uri": "https://localhost:8080/"
        },
        "id": "BgeXS1DuufRD",
        "outputId": "bd9d9593-15a7-48a9-d393-42355f6fe273"
      },
      "source": [
        "imputer_mediana.imputer_dict_"
      ],
      "execution_count": null,
      "outputs": [
        {
          "output_type": "execute_result",
          "data": {
            "text/plain": [
              "{'Age': 28.0,\n",
              " 'Fare': 13.8583,\n",
              " 'Parch': 0.0,\n",
              " 'PassengerId': 1101.5,\n",
              " 'Pclass': 3.0,\n",
              " 'SibSp': 0.0}"
            ]
          },
          "metadata": {},
          "execution_count": 101
        }
      ]
    },
    {
      "cell_type": "code",
      "metadata": {
        "id": "hGniAmBvuhnH"
      },
      "source": [
        "X_treino = imputer_mediana.transform(X_treino)\n",
        "X_teste = imputer_mediana.transform(X_teste)"
      ],
      "execution_count": null,
      "outputs": []
    },
    {
      "cell_type": "code",
      "metadata": {
        "colab": {
          "base_uri": "https://localhost:8080/"
        },
        "id": "lsLg4n9HvcUh",
        "outputId": "72bb04c4-7571-4629-d7e4-59ef24394c12"
      },
      "source": [
        "X_treino.isnull().mean()"
      ],
      "execution_count": null,
      "outputs": [
        {
          "output_type": "execute_result",
          "data": {
            "text/plain": [
              "PassengerId    0.000000\n",
              "Pclass         0.000000\n",
              "Name           0.000000\n",
              "Sex            0.051370\n",
              "Age            0.000000\n",
              "SibSp          0.000000\n",
              "Parch          0.000000\n",
              "Ticket         0.000000\n",
              "Fare           0.000000\n",
              "Cabin          0.791096\n",
              "Embarked       0.000000\n",
              "dtype: float64"
            ]
          },
          "metadata": {},
          "execution_count": 35
        }
      ]
    },
    {
      "cell_type": "code",
      "metadata": {
        "colab": {
          "base_uri": "https://localhost:8080/"
        },
        "id": "Vr7eHOWavebU",
        "outputId": "27b78cb6-2960-4f4d-a786-054b3d0e382c"
      },
      "source": [
        "X_teste.isnull().mean()"
      ],
      "execution_count": null,
      "outputs": [
        {
          "output_type": "execute_result",
          "data": {
            "text/plain": [
              "PassengerId    0.000000\n",
              "Pclass         0.000000\n",
              "Name           0.000000\n",
              "Sex            0.063492\n",
              "Age            0.000000\n",
              "SibSp          0.000000\n",
              "Parch          0.095238\n",
              "Ticket         0.000000\n",
              "Fare           0.000000\n",
              "Cabin          0.761905\n",
              "Embarked       0.000000\n",
              "dtype: float64"
            ]
          },
          "metadata": {},
          "execution_count": 27
        }
      ]
    },
    {
      "cell_type": "code",
      "metadata": {
        "colab": {
          "base_uri": "https://localhost:8080/"
        },
        "id": "daDLgtpiviGu",
        "outputId": "38e951f9-e53d-4bff-d24f-3979fe8ef6b7"
      },
      "source": [
        "X_treino.dtypes"
      ],
      "execution_count": null,
      "outputs": [
        {
          "output_type": "execute_result",
          "data": {
            "text/plain": [
              "PassengerId      int64\n",
              "Pclass           int64\n",
              "Name            object\n",
              "Sex             object\n",
              "Age            float64\n",
              "SibSp            int64\n",
              "Parch          float64\n",
              "Ticket          object\n",
              "Fare           float64\n",
              "Cabin           object\n",
              "Embarked        object\n",
              "dtype: object"
            ]
          },
          "metadata": {},
          "execution_count": 28
        }
      ]
    },
    {
      "cell_type": "code",
      "metadata": {
        "colab": {
          "base_uri": "https://localhost:8080/"
        },
        "id": "Ims8-TWYy-Q6",
        "outputId": "839b8a65-bead-46b7-84ac-a7071331dd0b"
      },
      "source": [
        "X_treino.isnull().mean()"
      ],
      "execution_count": null,
      "outputs": [
        {
          "output_type": "execute_result",
          "data": {
            "text/plain": [
              "PassengerId    0.000000\n",
              "Pclass         0.000000\n",
              "Name           0.000000\n",
              "Sex            0.051370\n",
              "Age            0.000000\n",
              "SibSp          0.000000\n",
              "Parch          0.000000\n",
              "Ticket         0.000000\n",
              "Fare           0.000000\n",
              "Cabin          0.791096\n",
              "Embarked       0.000000\n",
              "dtype: float64"
            ]
          },
          "metadata": {},
          "execution_count": 36
        }
      ]
    },
    {
      "cell_type": "code",
      "metadata": {
        "colab": {
          "base_uri": "https://localhost:8080/"
        },
        "id": "Y3Invb4g0yb3",
        "outputId": "256720cc-2f41-4852-e81d-1c88eac33e46"
      },
      "source": [
        "X_treino[\"Sex\"].unique()"
      ],
      "execution_count": null,
      "outputs": [
        {
          "output_type": "execute_result",
          "data": {
            "text/plain": [
              "array(['female', 'male', nan], dtype=object)"
            ]
          },
          "metadata": {},
          "execution_count": 38
        }
      ]
    },
    {
      "cell_type": "code",
      "metadata": {
        "colab": {
          "base_uri": "https://localhost:8080/"
        },
        "id": "O1o0s5pQ55rh",
        "outputId": "1c4c81f1-050a-4d95-8d30-558d93ba4d70"
      },
      "source": [
        "X_teste[\"Sex\"].unique()"
      ],
      "execution_count": null,
      "outputs": [
        {
          "output_type": "execute_result",
          "data": {
            "text/plain": [
              "array(['male', 'female', nan], dtype=object)"
            ]
          },
          "metadata": {},
          "execution_count": 39
        }
      ]
    },
    {
      "cell_type": "code",
      "metadata": {
        "id": "HH9DzXvl5_lr"
      },
      "source": [
        "sex_treino = X_treino[\"Sex\"]\n",
        "sex_teste = X_teste[\"Sex\"]"
      ],
      "execution_count": null,
      "outputs": []
    },
    {
      "cell_type": "code",
      "metadata": {
        "colab": {
          "base_uri": "https://localhost:8080/"
        },
        "id": "pa962L6I86hi",
        "outputId": "81fdaab9-ea7a-4326-bcd3-44488dc0db24"
      },
      "source": [
        "sex_treino.head()"
      ],
      "execution_count": null,
      "outputs": [
        {
          "output_type": "execute_result",
          "data": {
            "text/plain": [
              "96     female\n",
              "381      male\n",
              "89       male\n",
              "233      male\n",
              "191       NaN\n",
              "Name: Sex, dtype: object"
            ]
          },
          "metadata": {},
          "execution_count": 41
        }
      ]
    },
    {
      "cell_type": "code",
      "metadata": {
        "colab": {
          "base_uri": "https://localhost:8080/"
        },
        "id": "V8WMTw0b88v9",
        "outputId": "935f585e-23a4-49d9-e7c6-f57b576a3d18"
      },
      "source": [
        "sex_teste.head()"
      ],
      "execution_count": null,
      "outputs": [
        {
          "output_type": "execute_result",
          "data": {
            "text/plain": [
              "360      male\n",
              "170      male\n",
              "224    female\n",
              "358      male\n",
              "309    female\n",
              "Name: Sex, dtype: object"
            ]
          },
          "metadata": {},
          "execution_count": 42
        }
      ]
    },
    {
      "cell_type": "code",
      "metadata": {
        "id": "n0DXg8Ti8-x0"
      },
      "source": [
        "imputer_freq = SimpleImputer(strategy=\"most_frequent\")"
      ],
      "execution_count": null,
      "outputs": []
    },
    {
      "cell_type": "code",
      "metadata": {
        "colab": {
          "base_uri": "https://localhost:8080/"
        },
        "id": "dILBzF8F_Jfm",
        "outputId": "ac9226e0-9602-4c81-877c-cfa2e521f2bb"
      },
      "source": [
        "imputer_freq.fit(sex_treino.to_frame())"
      ],
      "execution_count": null,
      "outputs": [
        {
          "output_type": "execute_result",
          "data": {
            "text/plain": [
              "SimpleImputer(strategy='most_frequent')"
            ]
          },
          "metadata": {},
          "execution_count": 48
        }
      ]
    },
    {
      "cell_type": "code",
      "metadata": {
        "colab": {
          "base_uri": "https://localhost:8080/"
        },
        "id": "12Ezjwo5_U8u",
        "outputId": "7d5d7a02-4448-412e-cfe7-75add21d1fa3"
      },
      "source": [
        "imputer_freq.statistics_"
      ],
      "execution_count": null,
      "outputs": [
        {
          "output_type": "execute_result",
          "data": {
            "text/plain": [
              "array(['male'], dtype=object)"
            ]
          },
          "metadata": {},
          "execution_count": 49
        }
      ]
    },
    {
      "cell_type": "code",
      "metadata": {
        "id": "uJ1CJMqEAaOw"
      },
      "source": [
        "sex_treino = imputer_freq.transform(sex_treino.to_frame())\n",
        "sex_teste = imputer_freq.transform(sex_teste.to_frame())"
      ],
      "execution_count": null,
      "outputs": []
    },
    {
      "cell_type": "code",
      "metadata": {
        "id": "zDScZ5zEBd07"
      },
      "source": [
        "sex_treino =pd.DataFrame(sex_treino,columns=[\"Sex\"])\n",
        "sex_teste =pd.DataFrame(sex_teste,columns=[\"Sex\"])"
      ],
      "execution_count": null,
      "outputs": []
    },
    {
      "cell_type": "code",
      "metadata": {
        "colab": {
          "base_uri": "https://localhost:8080/",
          "height": 206
        },
        "id": "uXYrFoe1BoW8",
        "outputId": "9212b742-a1a0-4a39-fb96-c97c28681cf6"
      },
      "source": [
        "sex_treino.head()"
      ],
      "execution_count": null,
      "outputs": [
        {
          "output_type": "execute_result",
          "data": {
            "text/html": [
              "<div>\n",
              "<style scoped>\n",
              "    .dataframe tbody tr th:only-of-type {\n",
              "        vertical-align: middle;\n",
              "    }\n",
              "\n",
              "    .dataframe tbody tr th {\n",
              "        vertical-align: top;\n",
              "    }\n",
              "\n",
              "    .dataframe thead th {\n",
              "        text-align: right;\n",
              "    }\n",
              "</style>\n",
              "<table border=\"1\" class=\"dataframe\">\n",
              "  <thead>\n",
              "    <tr style=\"text-align: right;\">\n",
              "      <th></th>\n",
              "      <th>Sex</th>\n",
              "    </tr>\n",
              "  </thead>\n",
              "  <tbody>\n",
              "    <tr>\n",
              "      <th>0</th>\n",
              "      <td>female</td>\n",
              "    </tr>\n",
              "    <tr>\n",
              "      <th>1</th>\n",
              "      <td>male</td>\n",
              "    </tr>\n",
              "    <tr>\n",
              "      <th>2</th>\n",
              "      <td>male</td>\n",
              "    </tr>\n",
              "    <tr>\n",
              "      <th>3</th>\n",
              "      <td>male</td>\n",
              "    </tr>\n",
              "    <tr>\n",
              "      <th>4</th>\n",
              "      <td>male</td>\n",
              "    </tr>\n",
              "  </tbody>\n",
              "</table>\n",
              "</div>"
            ],
            "text/plain": [
              "      Sex\n",
              "0  female\n",
              "1    male\n",
              "2    male\n",
              "3    male\n",
              "4    male"
            ]
          },
          "metadata": {},
          "execution_count": 58
        }
      ]
    },
    {
      "cell_type": "code",
      "metadata": {
        "colab": {
          "base_uri": "https://localhost:8080/",
          "height": 206
        },
        "id": "pTlYiAHQCQAu",
        "outputId": "f52d02ed-f94b-4e10-f6cb-61b84272a0b6"
      },
      "source": [
        "sex_teste.head()"
      ],
      "execution_count": null,
      "outputs": [
        {
          "output_type": "execute_result",
          "data": {
            "text/html": [
              "<div>\n",
              "<style scoped>\n",
              "    .dataframe tbody tr th:only-of-type {\n",
              "        vertical-align: middle;\n",
              "    }\n",
              "\n",
              "    .dataframe tbody tr th {\n",
              "        vertical-align: top;\n",
              "    }\n",
              "\n",
              "    .dataframe thead th {\n",
              "        text-align: right;\n",
              "    }\n",
              "</style>\n",
              "<table border=\"1\" class=\"dataframe\">\n",
              "  <thead>\n",
              "    <tr style=\"text-align: right;\">\n",
              "      <th></th>\n",
              "      <th>Sex</th>\n",
              "    </tr>\n",
              "  </thead>\n",
              "  <tbody>\n",
              "    <tr>\n",
              "      <th>0</th>\n",
              "      <td>male</td>\n",
              "    </tr>\n",
              "    <tr>\n",
              "      <th>1</th>\n",
              "      <td>male</td>\n",
              "    </tr>\n",
              "    <tr>\n",
              "      <th>2</th>\n",
              "      <td>female</td>\n",
              "    </tr>\n",
              "    <tr>\n",
              "      <th>3</th>\n",
              "      <td>male</td>\n",
              "    </tr>\n",
              "    <tr>\n",
              "      <th>4</th>\n",
              "      <td>female</td>\n",
              "    </tr>\n",
              "  </tbody>\n",
              "</table>\n",
              "</div>"
            ],
            "text/plain": [
              "      Sex\n",
              "0    male\n",
              "1    male\n",
              "2  female\n",
              "3    male\n",
              "4  female"
            ]
          },
          "metadata": {},
          "execution_count": 59
        }
      ]
    },
    {
      "cell_type": "code",
      "metadata": {
        "id": "fm07fJlnCRkC"
      },
      "source": [
        "from feature_engine.imputation import CategoricalImputer"
      ],
      "execution_count": null,
      "outputs": []
    },
    {
      "cell_type": "code",
      "metadata": {
        "colab": {
          "base_uri": "https://localhost:8080/"
        },
        "id": "rIVlwVFeE4W2",
        "outputId": "14d451d3-7324-4300-fd09-3579ebf81508"
      },
      "source": [
        "X_treino.isnull().mean()"
      ],
      "execution_count": null,
      "outputs": [
        {
          "output_type": "execute_result",
          "data": {
            "text/plain": [
              "PassengerId    0.000000\n",
              "Pclass         0.000000\n",
              "Name           0.000000\n",
              "Sex            0.051370\n",
              "Age            0.000000\n",
              "SibSp          0.000000\n",
              "Parch          0.123288\n",
              "Ticket         0.000000\n",
              "Fare           0.000000\n",
              "Cabin          0.791096\n",
              "Embarked       0.000000\n",
              "dtype: float64"
            ]
          },
          "metadata": {},
          "execution_count": 85
        }
      ]
    },
    {
      "cell_type": "code",
      "metadata": {
        "id": "wYKtvPPQE_Ja"
      },
      "source": [
        "X_treino.drop(columns=[\"Cabin\"],inplace=True)\n",
        "X_teste.drop(columns=[\"Cabin\"],inplace=True)"
      ],
      "execution_count": null,
      "outputs": []
    },
    {
      "cell_type": "code",
      "metadata": {
        "id": "No7BKKW1EzFP"
      },
      "source": [
        "ft_imputer = CategoricalImputer(imputation_method=\"frequent\",variables=[\"Sex\"])"
      ],
      "execution_count": null,
      "outputs": []
    },
    {
      "cell_type": "code",
      "metadata": {
        "colab": {
          "base_uri": "https://localhost:8080/"
        },
        "id": "CH-IzIdIFJf8",
        "outputId": "963334ce-844b-428d-f0b3-77e642366779"
      },
      "source": [
        "ft_imputer.fit(X_treino)"
      ],
      "execution_count": null,
      "outputs": [
        {
          "output_type": "execute_result",
          "data": {
            "text/plain": [
              "CategoricalImputer(imputation_method='frequent', variables=['Sex'])"
            ]
          },
          "metadata": {},
          "execution_count": 92
        }
      ]
    },
    {
      "cell_type": "code",
      "metadata": {
        "colab": {
          "base_uri": "https://localhost:8080/"
        },
        "id": "GpH10AW2FNDB",
        "outputId": "054a11c1-fa61-434e-c0b5-78fdef576ab1"
      },
      "source": [
        "ft_imputer.imputer_dict_"
      ],
      "execution_count": null,
      "outputs": [
        {
          "output_type": "execute_result",
          "data": {
            "text/plain": [
              "{'Sex': 'male'}"
            ]
          },
          "metadata": {},
          "execution_count": 93
        }
      ]
    },
    {
      "cell_type": "code",
      "metadata": {
        "id": "W3IEZWMxFecB"
      },
      "source": [
        "X_treino = ft_imputer.transform(X_treino)\n",
        "X_teste= ft_imputer.transform(X_teste)"
      ],
      "execution_count": null,
      "outputs": []
    },
    {
      "cell_type": "code",
      "metadata": {
        "colab": {
          "base_uri": "https://localhost:8080/",
          "height": 206
        },
        "id": "g5IjYpjTKeav",
        "outputId": "3689c99b-bc85-4542-e64b-81dace766ce3"
      },
      "source": [
        "X_treino.head()"
      ],
      "execution_count": null,
      "outputs": [
        {
          "output_type": "execute_result",
          "data": {
            "text/html": [
              "<div>\n",
              "<style scoped>\n",
              "    .dataframe tbody tr th:only-of-type {\n",
              "        vertical-align: middle;\n",
              "    }\n",
              "\n",
              "    .dataframe tbody tr th {\n",
              "        vertical-align: top;\n",
              "    }\n",
              "\n",
              "    .dataframe thead th {\n",
              "        text-align: right;\n",
              "    }\n",
              "</style>\n",
              "<table border=\"1\" class=\"dataframe\">\n",
              "  <thead>\n",
              "    <tr style=\"text-align: right;\">\n",
              "      <th></th>\n",
              "      <th>PassengerId</th>\n",
              "      <th>Pclass</th>\n",
              "      <th>Name</th>\n",
              "      <th>Sex</th>\n",
              "      <th>Age</th>\n",
              "      <th>SibSp</th>\n",
              "      <th>Parch</th>\n",
              "      <th>Ticket</th>\n",
              "      <th>Fare</th>\n",
              "      <th>Embarked</th>\n",
              "    </tr>\n",
              "  </thead>\n",
              "  <tbody>\n",
              "    <tr>\n",
              "      <th>96</th>\n",
              "      <td>988</td>\n",
              "      <td>1</td>\n",
              "      <td>Cavendish, Mrs. Tyrell William (Julia Florence...</td>\n",
              "      <td>female</td>\n",
              "      <td>76.0</td>\n",
              "      <td>1</td>\n",
              "      <td>0.0</td>\n",
              "      <td>19877</td>\n",
              "      <td>78.8500</td>\n",
              "      <td>S</td>\n",
              "    </tr>\n",
              "    <tr>\n",
              "      <th>381</th>\n",
              "      <td>1273</td>\n",
              "      <td>3</td>\n",
              "      <td>Foley, Mr. Joseph</td>\n",
              "      <td>male</td>\n",
              "      <td>26.0</td>\n",
              "      <td>0</td>\n",
              "      <td>0.0</td>\n",
              "      <td>330910</td>\n",
              "      <td>7.8792</td>\n",
              "      <td>Q</td>\n",
              "    </tr>\n",
              "    <tr>\n",
              "      <th>89</th>\n",
              "      <td>981</td>\n",
              "      <td>2</td>\n",
              "      <td>Wells, Master. Ralph Lester</td>\n",
              "      <td>male</td>\n",
              "      <td>2.0</td>\n",
              "      <td>1</td>\n",
              "      <td>1.0</td>\n",
              "      <td>29103</td>\n",
              "      <td>23.0000</td>\n",
              "      <td>S</td>\n",
              "    </tr>\n",
              "    <tr>\n",
              "      <th>233</th>\n",
              "      <td>1125</td>\n",
              "      <td>3</td>\n",
              "      <td>Linehan, Mr. Michael</td>\n",
              "      <td>male</td>\n",
              "      <td>28.0</td>\n",
              "      <td>0</td>\n",
              "      <td>0.0</td>\n",
              "      <td>330971</td>\n",
              "      <td>7.8792</td>\n",
              "      <td>Q</td>\n",
              "    </tr>\n",
              "    <tr>\n",
              "      <th>191</th>\n",
              "      <td>1083</td>\n",
              "      <td>1</td>\n",
              "      <td>Salomon, Mr. Abraham L</td>\n",
              "      <td>male</td>\n",
              "      <td>28.0</td>\n",
              "      <td>0</td>\n",
              "      <td>0.0</td>\n",
              "      <td>111163</td>\n",
              "      <td>26.0000</td>\n",
              "      <td>S</td>\n",
              "    </tr>\n",
              "  </tbody>\n",
              "</table>\n",
              "</div>"
            ],
            "text/plain": [
              "     PassengerId  Pclass  ...     Fare Embarked\n",
              "96           988       1  ...  78.8500        S\n",
              "381         1273       3  ...   7.8792        Q\n",
              "89           981       2  ...  23.0000        S\n",
              "233         1125       3  ...   7.8792        Q\n",
              "191         1083       1  ...  26.0000        S\n",
              "\n",
              "[5 rows x 10 columns]"
            ]
          },
          "metadata": {},
          "execution_count": 96
        }
      ]
    },
    {
      "cell_type": "code",
      "metadata": {
        "colab": {
          "base_uri": "https://localhost:8080/",
          "height": 206
        },
        "id": "wPubbl19KfgX",
        "outputId": "3bb1c949-3e84-4144-8ba4-aa46b4968b1c"
      },
      "source": [
        "X_teste.head()"
      ],
      "execution_count": null,
      "outputs": [
        {
          "output_type": "execute_result",
          "data": {
            "text/html": [
              "<div>\n",
              "<style scoped>\n",
              "    .dataframe tbody tr th:only-of-type {\n",
              "        vertical-align: middle;\n",
              "    }\n",
              "\n",
              "    .dataframe tbody tr th {\n",
              "        vertical-align: top;\n",
              "    }\n",
              "\n",
              "    .dataframe thead th {\n",
              "        text-align: right;\n",
              "    }\n",
              "</style>\n",
              "<table border=\"1\" class=\"dataframe\">\n",
              "  <thead>\n",
              "    <tr style=\"text-align: right;\">\n",
              "      <th></th>\n",
              "      <th>PassengerId</th>\n",
              "      <th>Pclass</th>\n",
              "      <th>Name</th>\n",
              "      <th>Sex</th>\n",
              "      <th>Age</th>\n",
              "      <th>SibSp</th>\n",
              "      <th>Parch</th>\n",
              "      <th>Ticket</th>\n",
              "      <th>Fare</th>\n",
              "      <th>Embarked</th>\n",
              "    </tr>\n",
              "  </thead>\n",
              "  <tbody>\n",
              "    <tr>\n",
              "      <th>360</th>\n",
              "      <td>1252</td>\n",
              "      <td>3</td>\n",
              "      <td>Sage, Master. William Henry</td>\n",
              "      <td>male</td>\n",
              "      <td>14.5</td>\n",
              "      <td>8</td>\n",
              "      <td>2.0</td>\n",
              "      <td>CA. 2343</td>\n",
              "      <td>69.5500</td>\n",
              "      <td>S</td>\n",
              "    </tr>\n",
              "    <tr>\n",
              "      <th>170</th>\n",
              "      <td>1062</td>\n",
              "      <td>3</td>\n",
              "      <td>Lithman, Mr. Simon</td>\n",
              "      <td>male</td>\n",
              "      <td>28.0</td>\n",
              "      <td>0</td>\n",
              "      <td>0.0</td>\n",
              "      <td>S.O./P.P. 251</td>\n",
              "      <td>7.5500</td>\n",
              "      <td>S</td>\n",
              "    </tr>\n",
              "    <tr>\n",
              "      <th>224</th>\n",
              "      <td>1116</td>\n",
              "      <td>1</td>\n",
              "      <td>Candee, Mrs. Edward (Helen Churchill Hungerford)</td>\n",
              "      <td>female</td>\n",
              "      <td>53.0</td>\n",
              "      <td>0</td>\n",
              "      <td>0.0</td>\n",
              "      <td>PC 17606</td>\n",
              "      <td>27.4458</td>\n",
              "      <td>C</td>\n",
              "    </tr>\n",
              "    <tr>\n",
              "      <th>358</th>\n",
              "      <td>1250</td>\n",
              "      <td>3</td>\n",
              "      <td>O'Keefe, Mr. Patrick</td>\n",
              "      <td>male</td>\n",
              "      <td>28.0</td>\n",
              "      <td>0</td>\n",
              "      <td>0.0</td>\n",
              "      <td>368402</td>\n",
              "      <td>7.7500</td>\n",
              "      <td>Q</td>\n",
              "    </tr>\n",
              "    <tr>\n",
              "      <th>309</th>\n",
              "      <td>1201</td>\n",
              "      <td>3</td>\n",
              "      <td>Hansen, Mrs. Claus Peter (Jennie L Howard)</td>\n",
              "      <td>female</td>\n",
              "      <td>45.0</td>\n",
              "      <td>1</td>\n",
              "      <td>0.0</td>\n",
              "      <td>350026</td>\n",
              "      <td>14.1083</td>\n",
              "      <td>S</td>\n",
              "    </tr>\n",
              "  </tbody>\n",
              "</table>\n",
              "</div>"
            ],
            "text/plain": [
              "     PassengerId  Pclass  ...     Fare Embarked\n",
              "360         1252       3  ...  69.5500        S\n",
              "170         1062       3  ...   7.5500        S\n",
              "224         1116       1  ...  27.4458        C\n",
              "358         1250       3  ...   7.7500        Q\n",
              "309         1201       3  ...  14.1083        S\n",
              "\n",
              "[5 rows x 10 columns]"
            ]
          },
          "metadata": {},
          "execution_count": 97
        }
      ]
    },
    {
      "cell_type": "code",
      "metadata": {
        "colab": {
          "base_uri": "https://localhost:8080/"
        },
        "id": "mhCrDuG6KyEI",
        "outputId": "07204441-ea33-4bf6-9702-a44db6a2c107"
      },
      "source": [
        "X_treino.isnull().mean()"
      ],
      "execution_count": null,
      "outputs": [
        {
          "output_type": "execute_result",
          "data": {
            "text/plain": [
              "PassengerId    0.0\n",
              "Pclass         0.0\n",
              "Name           0.0\n",
              "Sex            0.0\n",
              "Age            0.0\n",
              "SibSp          0.0\n",
              "Parch          0.0\n",
              "Ticket         0.0\n",
              "Fare           0.0\n",
              "Embarked       0.0\n",
              "dtype: float64"
            ]
          },
          "metadata": {},
          "execution_count": 103
        }
      ]
    },
    {
      "cell_type": "code",
      "metadata": {
        "colab": {
          "base_uri": "https://localhost:8080/"
        },
        "id": "ML-DoWSHNifj",
        "outputId": "bb25a920-8c46-40e2-b380-53e5e7d60439"
      },
      "source": [
        "X_teste.isnull().mean()"
      ],
      "execution_count": null,
      "outputs": [
        {
          "output_type": "execute_result",
          "data": {
            "text/plain": [
              "PassengerId    0.0\n",
              "Pclass         0.0\n",
              "Name           0.0\n",
              "Sex            0.0\n",
              "Age            0.0\n",
              "SibSp          0.0\n",
              "Parch          0.0\n",
              "Ticket         0.0\n",
              "Fare           0.0\n",
              "Embarked       0.0\n",
              "dtype: float64"
            ]
          },
          "metadata": {},
          "execution_count": 104
        }
      ]
    },
    {
      "cell_type": "code",
      "metadata": {
        "id": "atzSa_m3Ntp8"
      },
      "source": [
        ""
      ],
      "execution_count": null,
      "outputs": []
    }
  ]
}